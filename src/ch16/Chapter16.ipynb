{
 "cells": [
  {
   "cell_type": "markdown",
   "id": "3c08cadd-a3bc-440d-9e18-3f4af6a036e5",
   "metadata": {},
   "source": [
    "# 第16章 系列データのモデル化 ― リカレントニューラルネットワーク"
   ]
  },
  {
   "cell_type": "markdown",
   "id": "0af9c473-c3aa-4109-b968-8f03ad61ac86",
   "metadata": {},
   "source": [
    "## 16.1 系列データ"
   ]
  },
  {
   "cell_type": "markdown",
   "id": "25ab6a55-2ad2-4243-ac17-2ad6fb6353c3",
   "metadata": {},
   "source": [
    "系列データは**シーケンス**と呼ばれる。"
   ]
  },
  {
   "cell_type": "markdown",
   "id": "6fcc5766-a3b7-49a8-8e69-ce2b81d961f8",
   "metadata": {},
   "source": [
    "### 16.1.1 系列データのモデル化：順序は大事"
   ]
  },
  {
   "cell_type": "markdown",
   "id": "47756b53-ec91-45ac-a258-ee2f055070c9",
   "metadata": {},
   "source": [
    "シーケンスを扱うときは順序が重要"
   ]
  },
  {
   "cell_type": "markdown",
   "id": "c9d0b6e0-c9ec-4957-b1be-d944931a87ff",
   "metadata": {},
   "source": [
    "### 16.1.2 系列データを表現する"
   ]
  },
  {
   "cell_type": "markdown",
   "id": "521873fc-e972-4a5f-992f-90266de179e1",
   "metadata": {},
   "source": [
    "リカレントニューラルネットワーク (RNN)の目的は、シーケンスをモデル化することである。"
   ]
  },
  {
   "cell_type": "markdown",
   "id": "a191ca0c-f44b-448d-8f9b-dbd14ea21a30",
   "metadata": {},
   "source": [
    "RNNは、過去の情報を記録しておき、その情報に従って新しい事象を処理できる。"
   ]
  },
  {
   "cell_type": "markdown",
   "id": "302fae5a-caf7-4447-8c4a-95a3cc45831d",
   "metadata": {},
   "source": [
    "### 16.1.3 シーケンスモデルのさまざまなカテゴリ"
   ]
  },
  {
   "cell_type": "markdown",
   "id": "ee05293a-2ef5-4b08-8f9c-cbefb437e415",
   "metadata": {},
   "source": [
    "モデル化タスクを次の3つのカテゴリに分類される可能性がある。<br>\n",
    "- 多対一\n",
    "- 一対多\n",
    "- 多対多"
   ]
  },
  {
   "cell_type": "markdown",
   "id": "4435228f-6424-4985-9271-2c6a9de0ff91",
   "metadata": {},
   "source": [
    "## 16.2 リカレントニューラルネットワーク：シーケンス"
   ]
  },
  {
   "cell_type": "markdown",
   "id": "fb39e522-ed57-49b3-ada2-58e923ebf07c",
   "metadata": {},
   "source": [
    "### 16.2.1 RNNのループ構造を理解する"
   ]
  },
  {
   "cell_type": "markdown",
   "id": "8bb6d3c6-60d9-4d26-b525-e54c8a42170c",
   "metadata": {},
   "source": [
    "標準のフィードフォワードニューラルネットワークでは、情報は入力層から隠れ層へ流れ、隠れ層から出力層へ流れる。"
   ]
  },
  {
   "cell_type": "markdown",
   "id": "91cf4cdb-9938-4764-8560-63a8d7e65e24",
   "metadata": {},
   "source": [
    "対し、RNNでは、隠れ層の入力は現在の時間刻みの入力層から得られるだけではなく、1つ前の時間刻みの隠れ層からも得られる。"
   ]
  },
  {
   "cell_type": "markdown",
   "id": "6a473729-70f1-43b1-96bf-f92784f0b103",
   "metadata": {},
   "source": [
    "ループを**リカレントエッジ**と呼ぶ。"
   ]
  },
  {
   "cell_type": "markdown",
   "id": "d978b4d9-dea0-469c-b334-6d15b807cff7",
   "metadata": {},
   "source": [
    "隠れ層が1つのRNNは、**単層RNN**という呼び方が定着している。"
   ]
  },
  {
   "cell_type": "markdown",
   "id": "5eee0aee-848f-4ebc-92d6-84707e0f90c0",
   "metadata": {},
   "source": [
    "RNNの隠れユニットはそれぞれ、入力層からの事前活性化と1つ前の時間刻み$t-1$の同じ隠れ層からの活性化という2つの入力を受け取る。"
   ]
  },
  {
   "cell_type": "markdown",
   "id": "9f831119-8dbe-4389-bbdd-16a4a4733e27",
   "metadata": {},
   "source": [
    "### 16.2.2 RNNで活性化を計算する"
   ]
  },
  {
   "cell_type": "markdown",
   "id": "42819451-0c02-4c93-b261-f88d28edcf23",
   "metadata": {},
   "source": [
    "### 16.2.3 隠れ層の再帰と出力層の再帰"
   ]
  },
  {
   "cell_type": "markdown",
   "id": "e903956a-a7b9-48ed-a8b6-86ba91f89f7f",
   "metadata": {},
   "source": [
    "- 隠れ層から隠れ層への再帰\n",
    "- 出力層から隠れ層への再帰\n",
    "- 出力層から出力層への再帰"
   ]
  },
  {
   "cell_type": "markdown",
   "id": "e568a5c1-ae03-4127-95a1-7a5d7f28554e",
   "metadata": {},
   "source": [
    "TensorFlow Keras API では`SimpleRNN`を使ってリカレント層を定義できる。<br>\n",
    "`SimpleRNN`を使ってリカレント層を定義できる。"
   ]
  },
  {
   "cell_type": "code",
   "execution_count": 1,
   "id": "005298bc-9bdc-4c1c-9bc4-b1b5afe45094",
   "metadata": {},
   "outputs": [
    {
     "name": "stderr",
     "output_type": "stream",
     "text": [
      "2025-01-08 12:07:46.067479: I tensorflow/core/platform/cpu_feature_guard.cc:210] This TensorFlow binary is optimized to use available CPU instructions in performance-critical operations.\n",
      "To enable the following instructions: SSE4.1 SSE4.2 AVX AVX2 AVX512F FMA, in other operations, rebuild TensorFlow with the appropriate compiler flags.\n"
     ]
    },
    {
     "name": "stdout",
     "output_type": "stream",
     "text": [
      "W_xh shape:  (5, 2)\n",
      "W_oo shape: (2, 2)\n",
      "b_h shape: (2,)\n"
     ]
    }
   ],
   "source": [
    "import tensorflow as tf\n",
    "tf.random.set_seed(1)\n",
    "\n",
    "rnn_layer = tf.keras.layers.SimpleRNN(\n",
    "    units=2, use_bias=True, return_sequences=True)\n",
    "dummy_input = tf.keras.Input(shape=(None, 5))\n",
    "rnn_layer(dummy_input)\n",
    "w_xh, w_oo, b_h = rnn_layer.weights\n",
    "print(\"W_xh shape: \", w_xh.shape)\n",
    "print(\"W_oo shape:\", w_oo.shape)\n",
    "print(\"b_h shape:\", b_h.shape)"
   ]
  },
  {
   "cell_type": "markdown",
   "id": "8e931811-0c69-4722-868d-9c76cce980b0",
   "metadata": {},
   "source": [
    "次に、`rnn_layer`でフォワードパスを呼び出し、各時間刻みの出力を手動で計算し、それらを比較する。"
   ]
  },
  {
   "cell_type": "code",
   "execution_count": 3,
   "id": "a8e69dc4-5786-4bef-84bb-7fc6bdbf9386",
   "metadata": {},
   "outputs": [
    {
     "name": "stdout",
     "output_type": "stream",
     "text": [
      "Time step 0 =>\n",
      "   Input      :  [[1. 1. 1. 1. 1.]]\n",
      "   Hidden     :  [[-2.6218863   0.89948833]]\n",
      "   Output (manual):  [[-0.9894949  0.7160487]]\n",
      "   SimpleRNN output :  [-0.9894949  0.7160487]\n",
      "\n",
      "Time step 1 =>\n",
      "   Input      :  [[2. 2. 2. 2. 2.]]\n",
      "   Hidden     :  [[-5.2437725  1.7989767]]\n",
      "   Output (manual):  [[-0.9999793  0.5926438]]\n",
      "   SimpleRNN output :  [-0.9999793  0.5926438]\n",
      "\n",
      "Time step 2 =>\n",
      "   Input      :  [[3. 3. 3. 3. 3.]]\n",
      "   Hidden     :  [[-7.8656597  2.698465 ]]\n",
      "   Output (manual):  [[-1.          0.92117715]]\n",
      "   SimpleRNN output :  [-1.          0.92117715]\n",
      "\n"
     ]
    }
   ],
   "source": [
    "x_seq = tf.convert_to_tensor([[1.0]*5, [2.0]*5, [3.0]*5], dtype=tf.float32)\n",
    "## SimpleRNNの出力\n",
    "output = rnn_layer(tf.reshape(x_seq, shape=(1, 3, 5)))\n",
    "## 出力を手動で計算\n",
    "out_man = []\n",
    "for t in range(len(x_seq)):\n",
    "    xt = tf.reshape(x_seq[t], (1, 5))\n",
    "    print(\"Time step {} =>\".format(t))\n",
    "    print(\"   Input      : \", xt.numpy())\n",
    "    ht = tf.matmul(xt, w_xh) + b_h\n",
    "    print(\"   Hidden     : \", ht.numpy())\n",
    "    if t > 0:\n",
    "        prev_o = out_man[t-1]\n",
    "    else:\n",
    "        prev_o = tf.zeros(shape=(ht.shape))\n",
    "    ot = ht + tf.matmul(prev_o, w_oo)\n",
    "    ot = tf.math.tanh(ot)\n",
    "    out_man.append(ot)\n",
    "    print(\"   Output (manual): \", ot.numpy())\n",
    "    print(\"   SimpleRNN output : \", output[0][t].numpy())\n",
    "    print()"
   ]
  },
  {
   "cell_type": "markdown",
   "id": "0f63594d-0443-4928-8ad4-015713130b4e",
   "metadata": {},
   "source": [
    "### 16.2.4 長期的な相互作用の学習"
   ]
  },
  {
   "cell_type": "markdown",
   "id": "19d7de6f-fa07-44d8-b9f2-c395e1c020eb",
   "metadata": {},
   "source": [
    "**BPTT**は新しい課題をもたらしている。"
   ]
  },
  {
   "cell_type": "markdown",
   "id": "e57ebc80-5a97-4da7-a710-053e5ebd6446",
   "metadata": {},
   "source": [
    "**勾配消失**と**勾配発散**問題が発生する。"
   ]
  },
  {
   "cell_type": "markdown",
   "id": "57d62521-cfdb-492d-bc3b-b4eda763b1dd",
   "metadata": {},
   "source": [
    "この問題に対する解決策が2つある。\n",
    "- 勾配刈り込み\n",
    "- T-BPTT\n",
    "- 超短期記憶"
   ]
  },
  {
   "cell_type": "markdown",
   "id": "13833505-a706-4d50-a992-ebf4bce5cdaa",
   "metadata": {},
   "source": [
    "### 16.2.5 LSTMのメモリセル"
   ]
  },
  {
   "cell_type": "markdown",
   "id": "1e0af496-b868-44b8-b844-04c6f66827f3",
   "metadata": {},
   "source": [
    "LSTMは勾配消失問題を解決する方法として1997年に提唱された。"
   ]
  },
  {
   "cell_type": "markdown",
   "id": "331d1811-dea2-4305-88fa-16319449589f",
   "metadata": {},
   "source": [
    "LSTMの構成要素は**メモリセル**である。メモリセルは基本的には標準的なRNNの隠れ層を表す。リカレントエッヂに関連付けられる値は**セル状態**と呼ばれる。"
   ]
  },
  {
   "cell_type": "markdown",
   "id": "02da57f1-942e-4020-99bf-862c84ab8b47",
   "metadata": {},
   "source": [
    "## 16.3 リカレントニューラルネットワークの実装：TensorFlowでのシーケンスモデルの構築"
   ]
  },
  {
   "cell_type": "markdown",
   "id": "3692e3d3-f521-4c05-a790-c0ab3fff3ffb",
   "metadata": {},
   "source": [
    "2つの一般的な問題にRNNを適用する。"
   ]
  },
  {
   "cell_type": "markdown",
   "id": "44e30686-12a5-4ef1-a110-3fca457a4920",
   "metadata": {},
   "source": [
    "1. 感情分析\n",
    "2. 言語モデルの構築"
   ]
  },
  {
   "cell_type": "markdown",
   "id": "26393bcd-2dc2-4bd5-9b34-12990f8e1866",
   "metadata": {},
   "source": [
    "### 16.3.1 プロジェクト1: IMDb映画レビューの感情分析"
   ]
  },
  {
   "cell_type": "markdown",
   "id": "1bd441b3-dcfe-4479-a629-15d71f013abb",
   "metadata": {},
   "source": [
    "多対一のアーキテクチャに基づいて感情分析のために多層RNNを実装する。"
   ]
  },
  {
   "cell_type": "markdown",
   "id": "1fb5c07d-a38c-42d6-823d-c8874a773e26",
   "metadata": {},
   "source": [
    "RNNモデルにデータを与える前に、前処理をいくつか適用しておく必要がある。"
   ]
  },
  {
   "cell_type": "code",
   "execution_count": null,
   "id": "3306b73b-e66c-4b66-92cf-533b95c1e165",
   "metadata": {},
   "outputs": [],
   "source": [
    "import tensorflow as tf\n",
    "import tensorflow_datasets as tfds\n",
    "import numpy as np\n",
    "import pandas as pd\n",
    "\n",
    "df = pd.read_csv('movie_data.csv', encoding='utf-8')"
   ]
  },
  {
   "cell_type": "code",
   "execution_count": 1,
   "id": "e028add7-9a81-44f2-81f2-140809578aa6",
   "metadata": {},
   "outputs": [
    {
     "ename": "NameError",
     "evalue": "name 'df' is not defined",
     "output_type": "error",
     "traceback": [
      "\u001b[0;31m---------------------------------------------------------------------------\u001b[0m",
      "\u001b[0;31mNameError\u001b[0m                                 Traceback (most recent call last)",
      "Cell \u001b[0;32mIn[1], line 2\u001b[0m\n\u001b[1;32m      1\u001b[0m \u001b[38;5;66;03m## 手順1：Datasetを作成\u001b[39;00m\n\u001b[0;32m----> 2\u001b[0m target \u001b[38;5;241m=\u001b[39m \u001b[43mdf\u001b[49m\u001b[38;5;241m.\u001b[39mpop(\u001b[38;5;124m'\u001b[39m\u001b[38;5;124msentiment\u001b[39m\u001b[38;5;124m'\u001b[39m)\n\u001b[1;32m      3\u001b[0m ds_raw \u001b[38;5;241m=\u001b[39m tf\u001b[38;5;241m.\u001b[39mdata\u001b[38;5;241m.\u001b[39mDataset\u001b[38;5;241m.\u001b[39mfrom_tensor_slices(\n\u001b[1;32m      4\u001b[0m     (df\u001b[38;5;241m.\u001b[39mvalues, target\u001b[38;5;241m.\u001b[39mvalues))\n\u001b[1;32m      5\u001b[0m \u001b[38;5;66;03m## 調査\u001b[39;00m\n",
      "\u001b[0;31mNameError\u001b[0m: name 'df' is not defined"
     ]
    }
   ],
   "source": [
    "## 手順1：Datasetを作成\n",
    "target = df.pop('sentiment')\n",
    "ds_raw = tf.data.Dataset.from_tensor_slices(\n",
    "    (df.values, target.values))\n",
    "## 調査\n",
    "for ex in ds_raw.take(3):\n",
    "    tf.print(ex[0].numpy()[0][:50], ex[1])\n",
    "    "
   ]
  },
  {
   "cell_type": "markdown",
   "id": "269d0104-5afb-42dd-840a-2e779b186264",
   "metadata": {},
   "source": [
    "このDatasetオブジェクトを訓練データセット、テストデータセット、検証データセットに分割できる<br>\n",
    "データセット全体は50,000個のデータを含んでいる。<br>\n",
    "最初の25,000個のデータを評価のためにとっておき、次の20,000個のデータを訓練に、5,000個のデータを検証に使うことにする。"
   ]
  },
  {
   "cell_type": "code",
   "execution_count": null,
   "id": "4ff4bc5d-b382-41a0-957c-50c9f0443779",
   "metadata": {},
   "outputs": [],
   "source": [
    "tf.random.set_seed(1)\n",
    "ds_raw = ds_raw.shuffle(\n",
    "    50000, reshuffle_each_iteration=False)\n",
    "ds_raw_test = ds_raw.take(25000)\n",
    "ds_raw_train_valid = ds_raw.skip(25000)\n",
    "ds_raw_train = ds_raw_train_valid.take(20000)\n",
    "ds_raw_valid = ds_raw_train_valid.skip(20000)"
   ]
  },
  {
   "cell_type": "code",
   "execution_count": 1,
   "id": "1c867425-e484-4db0-a662-941fc08fd984",
   "metadata": {},
   "outputs": [],
   "source": [
    "## 手順2：一意なトークン（単語）を特定\n",
    "from collections import Counter\n",
    "tokenizer = tfds.features.text.Tokenizer()\n",
    "token_counts = Counter()\n",
    "for example in ds_raw_train:\n",
    "    tokens = tokenizer.tokenize(example[0].numpy()[0])\n",
    "    token_counts.update(tokens)\n",
    "print(\"Vocab-size:\", len(token_counts))"
   ]
  },
  {
   "cell_type": "markdown",
   "id": "ab7119cf-82c7-48fe-bb16-c3fcf33b7009",
   "metadata": {},
   "source": [
    "一意の単語をそれぞれ一意な整数にマッピングする。<br>\n",
    "`tensorflow_datasets`パッケージには、`TokenTextEncoder`というクラスがすでに含まれている。<br>\n",
    "まず、`TokenTextEncoder`クラスのコンストラクタに一意なトークンを渡して`encoder`オブジェクトを作成する。"
   ]
  },
  {
   "cell_type": "code",
   "execution_count": null,
   "id": "2c3ea8bb-aefb-430a-8901-cda0aaf48c7f",
   "metadata": {},
   "outputs": [],
   "source": [
    "## 手順3：一意なトークンを整数にエンコード\n",
    "encoder = tfds.features.text.TokenTextEncoder(token_counts)\n",
    "example_str = \"This is an example!\"\n",
    "print(encoder.encode(example_str))"
   ]
  },
  {
   "cell_type": "markdown",
   "id": "f113f493-b7b0-4008-bfef-fa38c64070fa",
   "metadata": {},
   "source": [
    "1つ目の関数は、Eager Executionモードが有効であるかのように入力テンソルを扱う"
   ]
  },
  {
   "cell_type": "code",
   "execution_count": 1,
   "id": "0d53cf5b-2da9-4f7c-aa10-d07150863216",
   "metadata": {},
   "outputs": [],
   "source": [
    "## 手順3-A：変換用の関数を定義\n",
    "def encode(text_tensor, label):\n",
    "    text = text_tensor.numpy()[0]\n",
    "    encoded_text = encoder.encode(text)\n",
    "    return encoded_text, label"
   ]
  },
  {
   "cell_type": "markdown",
   "id": "e763d80c-be19-427f-be32-8dbace835f37",
   "metadata": {},
   "source": [
    "2つ目の関数は、`tf.py_function`を使って1つ目の関数をラッピングし、TensorFlow演算子に変換する。"
   ]
  },
  {
   "cell_type": "code",
   "execution_count": null,
   "id": "8a4a1a35-71b1-4b33-ad8d-15ee5cce7313",
   "metadata": {},
   "outputs": [],
   "source": [
    "## 3-B：encode関数をラッピングしてTensorFlow演算子に変換\n",
    "def encode_map_fn(text, label):\n",
    "    return tf.py_function(encode, inp=[text, label], Tout=(tf.int64, tf.int64))\n",
    "\n",
    "ds_train = ds_raw_train.map(encode_map_fn)\n",
    "ds_valid = ds_raw_valid.map(encode_map_fn)\n",
    "ds_test = ds_raw_test.map(encode_map_fn)\n",
    "tf.random.set_seed(1)\n",
    "for example in ds_train.shuffle(1000).take(5):\n",
    "    print(\"Sequence length:\", example[0].shape)"
   ]
  },
  {
   "cell_type": "markdown",
   "id": "905d857f-80b5-4024-a6f8-55afa2cf0c34",
   "metadata": {},
   "source": [
    "TensorFlowには、さまざまな形状の要素で構成されたデータセットをバッチに分割するために、`padded_batch`という別のメゾットが用意されている。このメゾットは、1つのバッチにまとめられる一連のシーケンスをプレースホルダ値(0)で自動的にパディングする。結果として、バッチ内のシーケンスがすべて同じ形状になる。"
   ]
  },
  {
   "cell_type": "code",
   "execution_count": null,
   "id": "780001f6-62af-4ab8-a027-aac21e0bcf1f",
   "metadata": {},
   "outputs": [],
   "source": [
    "## 小さなサブセットを取得\n",
    "ds_subset = ds_train.take(8)\n",
    "for example in ds_subset:\n",
    "    print(\"Individual size:\", example[0].shape)"
   ]
  },
  {
   "cell_type": "code",
   "execution_count": null,
   "id": "744fb05b-e2b6-4e84-a5b2-cbe64e5cdaf6",
   "metadata": {},
   "outputs": [],
   "source": [
    "## このサブセットをバッチに分割\n",
    "ds_batched = ds_subset.padded_batch(4, padded_shapes=([-1], []))\n",
    "for batch in ds_batched:\n",
    "    print(\"Batch dimension:\", batch[0].shape)"
   ]
  },
  {
   "cell_type": "markdown",
   "id": "a9b0d53e-6e8f-4b23-bf7a-b0690516c4fb",
   "metadata": {},
   "source": [
    "3つのデータセットをバッチサイズ32のバッチに分割しよう"
   ]
  },
  {
   "cell_type": "code",
   "execution_count": null,
   "id": "fc9eeb89-28b0-44c2-853d-3af050c4c667",
   "metadata": {},
   "outputs": [],
   "source": [
    "train_data = ds_train.padded_batch(32, padded_shapes=([-1],[]))\n",
    "valid_data = ds_valid.padded_batch(32, padded_shapes=([-1],[]))\n",
    "test_data = ds_test.padded_batch(32, padded_shapes=([-1], []))"
   ]
  },
  {
   "cell_type": "markdown",
   "id": "e01e4427-7d9e-4c3c-8a42-e17df69f3564",
   "metadata": {},
   "source": [
    "特徴量の**埋め込み**について説明しておこう。"
   ]
  },
  {
   "cell_type": "markdown",
   "id": "16311199-ef9c-41af-b4e5-e01deab780cc",
   "metadata": {},
   "source": [
    "単語のインデックスを入力特徴量に変換する方法は何種類ある。<br>\n",
    "実数値の要素を持つ固定サイズのベクトルに各単語をマッピングすること。<br>\n",
    "有限サイズのベクトルを使って無数の実数を表すことができる。"
   ]
  },
  {
   "cell_type": "markdown",
   "id": "7ceceed0-7aa7-4026-8980-b736a2a81335",
   "metadata": {},
   "source": [
    "埋め込みには、one-hotエンコーディングよりも有利な点が2つある。\n",
    "- 次元の呪いの影響を抑制する特徴量空間の次元削減\n",
    "- ニューラルネットワークの埋め込み層が最適化可能であることによる顕著な特徴量の抽出"
   ]
  },
  {
   "cell_type": "markdown",
   "id": "246b30a4-4ac8-4cbf-b44a-fb761dca9dd9",
   "metadata": {},
   "source": [
    "`tf.keras.layers.Embedding`を利用すれば、埋め込み層を作成するのは簡単だ。"
   ]
  },
  {
   "cell_type": "code",
   "execution_count": null,
   "id": "20bf31ff-cb82-4e74-987a-30a20e55417a",
   "metadata": {},
   "outputs": [],
   "source": [
    "from tensorflow.keras.layers import Embedding\n",
    "model = tf.keras.Sequential()\n",
    "model.add(Embedding(input_dim=100, output_dim=6,\n",
    "                    input_length=20, name=\"embed-layer\"))\n",
    "model.summary()"
   ]
  },
  {
   "cell_type": "markdown",
   "id": "a5393e64-3191-4465-8545-509bb8976a23",
   "metadata": {},
   "source": [
    "**RNNモデルを構築する**"
   ]
  },
  {
   "cell_type": "markdown",
   "id": "2b6e53af-0cde-4a8b-90c4-c953ecf41559",
   "metadata": {},
   "source": [
    "kerasの`Sequential`クラスを利用すれば、埋め込み層、RNNのリカレント層、そして全結合の非リカレント層を組み合わせることができる。\n",
    "- `SimpleRNN` 通常のRNN層。つまり、全結合リカレント層\n",
    "- `LSTM` LSTM RNN層。長期的な依存関係を捕捉するのに役立つ。\n",
    "- `GRU` GRUをリカレント層。LSTMに代わる手法として提案されている。"
   ]
  },
  {
   "cell_type": "markdown",
   "id": "f4da3f3a-6a61-438d-858b-dca646cc203b",
   "metadata": {},
   "source": [
    "`input_dim=1000`, `output_dim=32`の埋め込み層から始まるRNNモデルを構築する。<br>\n",
    "次に、`SimpleRNN`型の2つのリカレント層を追加する。<br>\n",
    "最後に、出力層として非リカレントの全結合層を追加する。"
   ]
  },
  {
   "cell_type": "code",
   "execution_count": null,
   "id": "38d83a01-1070-4c5b-8a0e-2ec6082cca9b",
   "metadata": {},
   "outputs": [],
   "source": [
    "from tensorflow.keras import Sequential\n",
    "from tensorflow.keras.layers import Embedding\n",
    "from tensorflow.keras.layers import SimpleRNN\n",
    "from tensorflow.keras.layers import Dense\n",
    "model = Sequential()\n",
    "model.add(Embedding(input_dim=1000, output_dim=32))\n",
    "model.add(SimpleRNN(32, return_sequences=True))\n",
    "model.add(SimpleRNN(32))\n",
    "model.add(Dense(1))\n",
    "model.summary()"
   ]
  },
  {
   "cell_type": "markdown",
   "id": "0e3a5f8b-a732-4c14-a98a-35b644eda6f4",
   "metadata": {},
   "source": [
    "**感情分析のためのRNNモデルを構築する**"
   ]
  },
  {
   "cell_type": "code",
   "execution_count": null,
   "id": "ee4bf302-bf73-46e8-8dcc-7438138f06e8",
   "metadata": {},
   "outputs": [],
   "source": [
    "embedding_dim = 20\n",
    "vocab_size = len(token_counts) + 2\n",
    "tf.random.set_seed(1)\n",
    "## モデルを構築\n",
    "bi_lstm_model = tf.keras.Sequential([\n",
    "    tf.keras.layers.Embedding(\n",
    "        input_dim=vocab_size, output_dim=embedding_dim,\n",
    "        name='embed-layer'),\n",
    "    tf.keras.layers.Bidirectional(\n",
    "        tf.keras.layers.LSTM(64, name='lstm-layer'),\n",
    "        name='bidir-lstm'),\n",
    "    tf.keras.layers.Dense(64, activation='relu'),\n",
    "    tf.keras.layers.Dense(1, activation='sigmoid')\n",
    "])\n",
    "bi_lstm_model.summary()\n",
    "## コンパイルと訓練\n",
    "bi_lstm_model.compile(\n",
    "    optimizer=tf.keras.optimizers.Adam(1e-3),\n",
    "    loss=tf.keras.losses.BinaryCrossentropy(from_logits=False),\n",
    "    metrics=[\"accuracy\"])\n",
    "history = bi_lstm_model.fit(\n",
    "    train_data, validation_data=valid_data, epochs=10)\n",
    "## テストデータでの評価\n",
    "test_results = bi_lstm_model.evaluate(test_data)\n",
    "print(\"Test Acc.: {:.2f}%\".format(test_results[1]*100))"
   ]
  },
  {
   "cell_type": "markdown",
   "id": "2bdf7bf1-644e-45fe-9c19-9b419cd44153",
   "metadata": {},
   "source": [
    "前処理ステップ２～４（手順２～４）をまとめた`preprocess_datasets`というヘルパー関数を定義する。"
   ]
  },
  {
   "cell_type": "code",
   "execution_count": null,
   "id": "deff16d7-0fff-4549-a72c-a18378202081",
   "metadata": {},
   "outputs": [],
   "source": [
    "from collections import Counter\n",
    "\n",
    "def preprocess_datasets(ds_raw_train, ds_raw_valid, ds_raw_test,\n",
    "                        max_seq_length=None, batch_size=32):\n",
    "    ## 手順2：一意なトークンを特定（手順1はすでに実行されている）\n",
    "    tokenizer = tfds.features.text.Tokenizer()\n",
    "    token_counts = Counter()\n",
    "\n",
    "    for example in ds_raw_train:\n",
    "        tokens = tokenizer.tokenize(example[0].numpy()[0])\n",
    "        if max_seq_length is not None:\n",
    "            tokens = tokens[-max_seq_length:]\n",
    "        token_counts.update(tokens)\n",
    "\n",
    "    print(\"Vocab-size:\", len(token_counts))\n",
    "\n",
    "    ## 手順3：テキストをエンコード\n",
    "    encoder = tfds.features.text.TokenTextEncoder(token_counts)\n",
    "\n",
    "    def encode(text_tensor, label):\n",
    "        text = text_tensor.numpy()[0]\n",
    "        encoded_text = encoder.encode(text)\n",
    "        if max_seq_length is not None:\n",
    "            encoded_text = encoded_text[-max_seq_length:]\n",
    "        return encoded_text, label\n",
    "\n",
    "    def encode_map_fn(text, label):\n",
    "        return tf.py_function(encode, inp=[text, label], Tout=(tf.int64, tf.int64))\n",
    "\n",
    "    ds_train = ds_raw_train.map(encode_map_fn)\n",
    "    ds_valid = ds_raw_valid.map(encode_map_fn)\n",
    "    ds_test = ds_raw_test.map(encode_map_fn)\n",
    "\n",
    "    ## 手順4：データセットをバッチ分割\n",
    "    train_data = ds_train.padded_batch(batch_size, padded_shapes=([-1], []))\n",
    "    valid_data = ds_valid.padded_batch(batch_size, padded_shapes=([-1], []))\n",
    "    test_data = ds_test.padded_batch(batch_size, padded_shapes=([-1], []))\n",
    "\n",
    "    return (train_data, valid_data, test_data, len(token_counts))"
   ]
  },
  {
   "cell_type": "markdown",
   "id": "42874bbb-b606-47b5-a012-946a39b994cc",
   "metadata": {},
   "source": [
    "さまざまなアーキテクチャを使ったモデルの構築を容易にするために、ヘルパー関数(`build_rnn_model`)をもう1つ定義する"
   ]
  },
  {
   "cell_type": "code",
   "execution_count": null,
   "id": "25acdc73-6544-4811-a6bb-b4ae18f94540",
   "metadata": {},
   "outputs": [],
   "source": [
    "from tensorflow.keras.layers import Embedding\n",
    "from tensorflow.keras.layers import Bidirectional\n",
    "from tensorflow.keras.layers import SimppleRNN\n",
    "from tensorflow.keras.layers import LSTM\n",
    "from tensorflow.keras.layers import GRU\n",
    "\n",
    "def build_rnn_model(embedding_dim, vocab_size, recurrent_type=\"SimpleRNN\",\n",
    "                    n_recurrent_units=64, n_recurrent_layers=1,\n",
    "                    bidirectional=True):\n",
    "    tf.random.set_seed(1)\n",
    "    ## モデルを構築\n",
    "    model = tf.keras.Sequential()\n",
    "    model.add(Embedding(input_dim=vocab_size, output_dim=embedding_dim, name=\"embed-layer\"))\n",
    "    for i in range(n_recurrent_layers):\n",
    "        return_sequences = (i < n_recurrent_layers-1)\n",
    "        if recurrent_type == \"SimpleRNN\":\n",
    "            recurrent_layer = SimpleRNN(units=n_recurrent_units,\n",
    "                                        return_sequences=return_sequences,\n",
    "                                        name=\"simprnn-layer-{}\".format(i))\n",
    "        if recurrent_type == \"LSTM\":\n",
    "            recurrent_layer = LSTM(units=n_recurrent_units, \n",
    "                                   return_sequences=return_sequences,\n",
    "                                   name=\"lstm-layer-{}\".format(i))\n",
    "        if recurrent_type == \"GRU\":\n",
    "            recurrent_layer = GRU(units=n_recurrent_units,\n",
    "                                  return_sequences=return_sequences,\n",
    "                                  name=\"gru-layer-{}\".format(i))\n",
    "        if bidirectional:\n",
    "            recurrent_layer = Bidirectional(recurrent_layer,\n",
    "                                            name=\"bidir-\" + recurrent_layer.name)\n",
    "        model.add(recurrent_layer)\n",
    "\n",
    "    model.add(tf.keras.layers.Dense(64, activation=\"relu\"))\n",
    "    model.add(tf.keras.layers.Dense(1, activation=\"sigmoid\"))\n",
    "    return model"
   ]
  },
  {
   "cell_type": "code",
   "execution_count": null,
   "id": "f53cf47f-93d0-4f60-a1ff-bdabe51223d6",
   "metadata": {},
   "outputs": [],
   "source": [
    "batch_size = 32\n",
    "embedding_dim = 20\n",
    "max_seq_length = 100\n",
    "train_data, valid_data, test_data, n = preprocess_datasets(\n",
    "    ds_raw_train, ds_raw_valid, ds_raw_test,\n",
    "    max_seq_length=max_seq_length, batch_size=batch_size)\n",
    "vocab_size = n + 2\n",
    "rnn_model = build_rnn_model(embedding_dim, vocab_size,\n",
    "                            recurrent_type=\"SimpleRNN\",\n",
    "                            n_recurrent_units=64,\n",
    "                            n_recurrent_layers=1,\n",
    "                            bidirectional=True)\n",
    "rnn_model.summary()"
   ]
  },
  {
   "cell_type": "code",
   "execution_count": null,
   "id": "f6b8bc58-5aca-44ab-b0de-3e0c76908c6e",
   "metadata": {},
   "outputs": [],
   "source": [
    "rnn_model.compile(optimizer=tf.keras.optimizers.Adam(1e-3),\n",
    "                  loss=tf.keras.losses.BinaryCrossentropy(from_logits=False),\n",
    "                  metrics=[\"accuracy\"])\n",
    "history = rnn_model.fit(train_data, validation_data=valid_data, epochs=10)"
   ]
  },
  {
   "cell_type": "code",
   "execution_count": null,
   "id": "cd5afc36-126c-4550-b873-bc69f61e6033",
   "metadata": {},
   "outputs": [],
   "source": [
    "results = rnn_model.evaluate(test_data)\n",
    "print(\"Test Acc.: {:.2f}%\".format(results[1]*100))"
   ]
  },
  {
   "cell_type": "markdown",
   "id": "4eaaa367-2917-4cc0-b4fa-5c633b0ddc84",
   "metadata": {},
   "source": [
    "シーケンスを100個のトークンに切り詰め、双方向の`SimpleRNN`層を使った場合の分類正解率は80.70%である。"
   ]
  },
  {
   "cell_type": "markdown",
   "id": "e80cbd60-1b84-472c-92f2-b93f488d7cd8",
   "metadata": {},
   "source": [
    "### 16.3.2 プロジェクト２：文字レベルの言語モデルをTensorFlowで実装する"
   ]
  },
  {
   "cell_type": "markdown",
   "id": "51258997-cc10-4dab-903e-6f809efcfbd2",
   "metadata": {},
   "source": [
    "文字レベルの言語モデルでは、入力は文字のシーケンスに分割され、RNNに1文字ずつ供給される。"
   ]
  },
  {
   "cell_type": "markdown",
   "id": "594923b3-5821-4f88-b237-a4ca9c5cd448",
   "metadata": {},
   "source": [
    "RNNは、以前に検出した文字の記憶を基に新しい文字をそれぞれ処理することで、次の文字を予測する。"
   ]
  },
  {
   "cell_type": "markdown",
   "id": "efb236fd-8b80-4163-afe7-9e78c5b4f0a6",
   "metadata": {},
   "source": [
    "RNNモデルの実装を次の3つに分けて説明していく。"
   ]
  },
  {
   "cell_type": "code",
   "execution_count": null,
   "id": "f240b607-ca60-437d-8625-d5960db0b4b7",
   "metadata": {},
   "outputs": [],
   "source": [
    "import numpy as np\n",
    "# テキストを読み込んで処理\n",
    "with open(\"1268-0.txt\", \"r\") as fp:\n",
    "    text = fp.read()\n",
    "\n",
    "start_indx = text.find(\"THE MYSTERIOU ISLAND\")\n",
    "end_indx = text.find(\"End of the Project Gutenberg\")\n",
    "text = text[start_indx:end_indx]\n",
    "char_set = set(text)\n",
    "print(\"Total Length:\", len(text))"
   ]
  },
  {
   "cell_type": "code",
   "execution_count": null,
   "id": "3358b27d-ca45-4075-a254-e66d44e413e8",
   "metadata": {},
   "outputs": [],
   "source": [
    "print(\"Unique Characters:\", len(char_set))"
   ]
  },
  {
   "cell_type": "markdown",
   "id": "c97b309c-1e0b-4743-83b9-fd347b598aee",
   "metadata": {},
   "source": [
    "テキストを数値フォーマットに変換しなければならない。<br>\n",
    "そこで、各文字から整数へのマッピングを定義する単純なPythonディクショナリ`char2int`を作成する。"
   ]
  },
  {
   "cell_type": "markdown",
   "id": "8efd2d4f-2c0a-4b96-8149-40bc5fcb6262",
   "metadata": {},
   "source": [
    "文字から整数へのマッピングと、Numpy配列のインデックスを使って逆方向のマッピングを行うためのディクショナリは次のように構築する。"
   ]
  },
  {
   "cell_type": "code",
   "execution_count": null,
   "id": "d2bd931d-8f0f-435c-a3d6-473f69346595",
   "metadata": {},
   "outputs": [],
   "source": [
    "chars_sorted = sorted(char_set)\n",
    "char2int = {ch: i for i, ch in enumerate(chars_sorted)}\n",
    "char_array = np.array(chars_sorted)\n",
    "text_encoded = np.array([char2int[ch] for ch in text], dtype=np.int32)\n",
    "print(\"Text encoded shape:\", text_encoded.shape)"
   ]
  },
  {
   "cell_type": "code",
   "execution_count": null,
   "id": "37b467da-be18-47d6-a17b-5658d8b00057",
   "metadata": {},
   "outputs": [],
   "source": [
    "print(text[:15], \"== Encoding ==>\", text_encoded[:15])\n",
    "print(text_encoded[15, 21], \"== Reverse ==>\", \n",
    "      \"\".join(char_array[text_encoded[15:21]))"
   ]
  },
  {
   "cell_type": "markdown",
   "id": "4e232285-19d9-4c1f-b1da-1a6b6d2d7647",
   "metadata": {},
   "source": [
    "Numpy配列 `text_encoded` には、このテキストの全文字のエンコード値が含まれている。<br>\n",
    "ここで、この配列からTensorFlowの`Dataset`を作成する。"
   ]
  },
  {
   "cell_type": "code",
   "execution_count": null,
   "id": "14774dbc-9542-4d6f-881d-bd2f08825951",
   "metadata": {},
   "outputs": [],
   "source": [
    "import tensorflow as tf\n",
    "ds_text_encoded = tf.data.Dataset.from_tensor_slices(text_encoded)\n",
    "for ex in ds_text_encoded.take(5):\n",
    "    print(\"{}\".format(\"\".join(char_array[ex.numpy()])))"
   ]
  },
  {
   "cell_type": "markdown",
   "id": "9ba26477-f1e6-4b38-9462-ce2e1f6433e2",
   "metadata": {},
   "source": [
    "多クラス分類アプローチに基づき、長さが1のシーケンス（つまり1文字）を入力として新しいテキストを反復的に生成していくことができる。"
   ]
  },
  {
   "cell_type": "code",
   "execution_count": null,
   "id": "3c7e9be1-665c-4fb3-9cc3-d6b4b9204097",
   "metadata": {},
   "outputs": [],
   "source": [
    "seq_length = 40\n",
    "chunk_size = seq_length + 1\n",
    "ds_chunks = ds_text_encoded.batch(chunk_size, drop_remainder=True)\n",
    "## xとyを分離するための関数を定義\n",
    "def split_input_target(chunk):\n",
    "    input_seq = chunk[:-1]\n",
    "    target_seq = chunk[1:]\n",
    "    return input_seq, target_seq\n",
    "\n",
    "ds_sequences = ds_chunks.map(split_input_target)"
   ]
  },
  {
   "cell_type": "markdown",
   "id": "e18bb4c2-b33c-4411-bec7-d683ce939a9b",
   "metadata": {},
   "source": [
    "この変換後のデータセットでシーケンスをいくつか調べてみよう"
   ]
  },
  {
   "cell_type": "code",
   "execution_count": null,
   "id": "fce604cb-ae31-46d4-8fa5-4997601b6be3",
   "metadata": {},
   "outputs": [],
   "source": [
    "for example in ds_sequences.take(2):\n",
    "    print(\" Input  (x): \", repr(\"\".join(char_array[example[0].numpu()]])))\n",
    "    print(\"Target  (y): \", repr(\"\".join(char_array[example[1].numpu()]])))\n",
    "    print()"
   ]
  },
  {
   "cell_type": "markdown",
   "id": "946bd295-ee8c-43e7-b7a1-0e117a011ca6",
   "metadata": {},
   "source": [
    "データセットを準備するための最後の手段は、このデータセットをバッチに分割することである。<br>\n",
    "このデータセットをバッチに分割するための最初の前処理ステップでは、シーケンスのチャンクを作成した。<br>\n",
    "各チャンクは1つの文章を表しており、1つの訓練データに相当する。ここでは、これらの訓練データをシャッフルし、入力データを再びバッチに分割する。ただし今回は、各バッチに複数の訓練データが含まれることになる。"
   ]
  },
  {
   "cell_type": "code",
   "execution_count": null,
   "id": "2f1169eb-d71a-481a-bc0d-83a6bc498df7",
   "metadata": {},
   "outputs": [],
   "source": [
    "BATCH_SIZE = 64\n",
    "BUFFER_SIZE = 10000\n",
    "ds = ds_sequences.shuffle(BUFFER_SIZE).batch(BATCH_SIZE)"
   ]
  },
  {
   "cell_type": "markdown",
   "id": "d0c447c8-6c63-4c5a-80a7-b83e62ec03e8",
   "metadata": {},
   "source": [
    "**文字レベルのRNNモデルを構築する**"
   ]
  },
  {
   "cell_type": "markdown",
   "id": "d6dcf3fc-18db-4973-8dba-53b5306968ef",
   "metadata": {},
   "source": [
    "Kerasの`Sequential`クラスを使ってRNNモデルを構築する。\n",
    "続いて、訓練パラメータを設定し、この関数を呼び出してRNNモデルを取得する。"
   ]
  },
  {
   "cell_type": "code",
   "execution_count": null,
   "id": "5e0383f8-00d3-49ae-a785-bb2f2745a0eb",
   "metadata": {},
   "outputs": [],
   "source": [
    "def build_model(vocab_size, embedding_dim, rnn_units):\n",
    "    model = tf.keras.Sequential([\n",
    "        tf.keras.layers.Embedding(vocab_size, embedding_dim),\n",
    "        tf.keras.layers.LSTM(rnn_units, return_sequences=True),\n",
    "        tf.keras.layers.Dense(vocab_size)\n",
    "    ])\n",
    "    return model\n",
    "\n",
    "## 訓練パラメータを設定\n",
    "chrarset_size = len(char_array)\n",
    "embedding_dim = 256\n",
    "rnn_units = 512\n",
    "tf.random.set_seed(1)\n",
    "model = build_model(vocab_size=charset_size,\n",
    "                    embedding_dim=embedding_dim,\n",
    "                    rnn_units=rnn_units)\n",
    "model.summary()"
   ]
  },
  {
   "cell_type": "code",
   "execution_count": null,
   "id": "da4e2ca5-50f7-4786-a472-438e8e4b3373",
   "metadata": {},
   "outputs": [],
   "source": [
    "model.compile(optimizer=\"adam\", loss=tf.keras.losses.SparseCategoricalCrossentropy(from_logits=True))\n",
    "model.fit(ds, epochs=20)"
   ]
  },
  {
   "cell_type": "markdown",
   "id": "05346813-9683-4460-9b17-ad98789ccef8",
   "metadata": {},
   "source": [
    "**新しいテキストを生成するためにRNNモデルを評価する**"
   ]
  },
  {
   "cell_type": "markdown",
   "id": "df806880-807a-457b-8cf7-c67daa7a6961",
   "metadata": {},
   "source": [
    "ソフトマックス関数を利用すれば、これらのロジットを「特定の文字が次の文字になる確率」をすぐに変換できる。シーケンスの次の文字を予測するには、ロジットの値が最も大きい要素を選択すればよい。この選択は、最も確率が高い文字を選択することに等しい。"
   ]
  },
  {
   "cell_type": "markdown",
   "id": "96be3301-9a11-4e50-92a2-4bf5bfd27d7e",
   "metadata": {},
   "source": [
    "TensorFlowには、`tf.random.categorical`という関数がすでに定義されている。この関数を利用すれば、カテゴリ分布からデータをランダムに抽出できる。"
   ]
  },
  {
   "cell_type": "code",
   "execution_count": null,
   "id": "41f5e3f0-5877-4047-aaed-8f08c387cace",
   "metadata": {},
   "outputs": [],
   "source": [
    "tf.random.set_seed(1)\n",
    "logits = [[1.0, 1.0, 1.0]]\n",
    "print(\"Probabilities:\", tf.math.softmax(logits).numpy()[0]))\n",
    "samples = tf.random.categorical(logits=logits, num_samples=10)\n",
    "tf.print(samples.numpy())"
   ]
  },
  {
   "cell_type": "markdown",
   "id": "e388da56-e0db-4522-a3f2-d4cb8c67f84d",
   "metadata": {},
   "source": [
    "与えられたロジットに基づき、これらのカテゴリ値の確率は同じになる。"
   ]
  },
  {
   "cell_type": "code",
   "execution_count": null,
   "id": "dd23d67d-bd9c-4623-b79b-1fa1fa7a302e",
   "metadata": {},
   "outputs": [],
   "source": [
    "tf.random.set_seed(1)\n",
    "logits = [[1.0, 1.0, 3.0]]\n",
    "print(\"Probabilities:\", tf.math.softmax(logits).numpy()[0]))"
   ]
  },
  {
   "cell_type": "code",
   "execution_count": null,
   "id": "c1351d0a-d8fa-4d75-8485-46835ff0035b",
   "metadata": {},
   "outputs": [],
   "source": [
    "samples = tf.random.categorical(logits=logits, num_samples=10)\n",
    "tf.print(samples.numpy())"
   ]
  },
  {
   "cell_type": "markdown",
   "id": "da7c9f79-803b-4df1-94c3-ed8479ef0125",
   "metadata": {},
   "source": [
    "`sample`という関数を定義する。この関数は、入力として短い文字列(`starting_str`)を受け取り、新しい文字列(`generated_str`)を生成する"
   ]
  },
  {
   "cell_type": "markdown",
   "id": "70463e6e-fc61-4fe2-b77a-03c4bd2e63e9",
   "metadata": {},
   "source": [
    "`generated_str`が目的の長さになるで、`generated_str`から最後の`max_input_length`個の文字を取り出し、この文字列を使って新しい文字を生成する。生成したシーケンスを次の要素を生成するための入力として利用するプロセスを**自己回帰**と呼ぶ。"
   ]
  },
  {
   "cell_type": "code",
   "execution_count": null,
   "id": "a9fbfad3-82fd-4f01-9d10-9e6721633208",
   "metadata": {},
   "outputs": [],
   "source": [
    "def sample(model, starting_str, len_generated_text=500,\n",
    "          max_input_length=40, scale_factor=1.0):\n",
    "\n",
    "    encoded_input = [char2int[s] for s in starting_str]\n",
    "    encoded_input = tf.reshape(encoded_input, (1, -1))\n",
    "\n",
    "    generated_str = starting_str\n",
    "\n",
    "    model.reset_states()\n",
    "    for i in range(len_generated_text):\n",
    "        logits = model(encoded_input)\n",
    "        logits = tf.squeeze(logits, 0)\n",
    "\n",
    "        scaled_logits = logits * scale_factor\n",
    "        new_char_indx = tf.random.categorical(scaled_logits, num_samples=1)\n",
    "        new_char_indx = tf.squeeze(new_char_index)[-1].numpy()\n",
    "        generated_str += str(char_array[new_char_indx])\n",
    "        new_char_indx = tf.expand_dims([new_char_indx], 0)\n",
    "        encoded_input = tf.concat([encoded_input, new_char_indx], axis=1)\n",
    "        encoded_input = encoded_input[:, -max_input_length:]\n",
    "\n",
    "    return generated_str"
   ]
  },
  {
   "cell_type": "markdown",
   "id": "3a53d347-0556-41f8-be08-d1fc8afe2041",
   "metadata": {},
   "source": [
    "さっそく新しいテキストを生成してみよう。"
   ]
  },
  {
   "cell_type": "code",
   "execution_count": null,
   "id": "f2d3e694-2875-4085-b2d7-8f25959659ef",
   "metadata": {},
   "outputs": [],
   "source": [
    "tf.random.set_seed(1)\n",
    "print(sample(model, starting_str=\"The island\"))"
   ]
  },
  {
   "cell_type": "code",
   "execution_count": null,
   "id": "269db22a-e627-4dce-a1f6-f572a974f99e",
   "metadata": {},
   "outputs": [],
   "source": [
    "logits = np.array([[1.0, 1.0, 3.0]])\n",
    "print(\"Probabilities before scaling: \",\n",
    "     tf.math.softmax(logits).numpy()[0])\n",
    "print(\"Probabilities after scaling with 0.5: \",\n",
    "     tf.math.softmax(0.5*logits).numpy()[0])\n",
    "print(\"Probabilities after scaling with 0.1: \",\n",
    "     tf.math.softmax(0.1*logits).numpy()[0])"
   ]
  },
  {
   "cell_type": "markdown",
   "id": "05774e77-cd0c-4743-8863-0d8b56e87e7b",
   "metadata": {},
   "source": [
    "$\\alpha=2.0$: より予測可能"
   ]
  },
  {
   "cell_type": "code",
   "execution_count": null,
   "id": "ddaf082d-35d3-499a-aa1c-7a3dcd298f4f",
   "metadata": {},
   "outputs": [],
   "source": [
    "tf.random.set_seed(1)\n",
    "print(sample(model, starting_str=\"The island\", scale_factor=2.0))"
   ]
  },
  {
   "cell_type": "code",
   "execution_count": null,
   "id": "4de0f555-53dd-4a1e-bc68-8bd2673b052e",
   "metadata": {},
   "outputs": [],
   "source": [
    "tf.random.set_seed(1)\n",
    "print(sample(model, starting_str=\"The island\", scale_factor=1.0))"
   ]
  },
  {
   "cell_type": "code",
   "execution_count": null,
   "id": "a319a20e-a354-4f1a-a361-879f8f8d18f4",
   "metadata": {},
   "outputs": [],
   "source": []
  }
 ],
 "metadata": {
  "kernelspec": {
   "display_name": "Python 3 (ipykernel)",
   "language": "python",
   "name": "python3"
  },
  "language_info": {
   "codemirror_mode": {
    "name": "ipython",
    "version": 3
   },
   "file_extension": ".py",
   "mimetype": "text/x-python",
   "name": "python",
   "nbconvert_exporter": "python",
   "pygments_lexer": "ipython3",
   "version": "3.11.11"
  }
 },
 "nbformat": 4,
 "nbformat_minor": 5
}
