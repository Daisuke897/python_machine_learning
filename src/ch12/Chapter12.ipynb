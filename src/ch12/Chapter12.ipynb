{
 "cells": [
  {
   "cell_type": "markdown",
   "id": "b289d429-675c-46b4-9b0e-c31af77f3a7a",
   "metadata": {},
   "source": [
    "# 第12章 多層人工ニューラルネットワークを一から実装する"
   ]
  },
  {
   "cell_type": "code",
   "execution_count": 1,
   "id": "b16e9104-f28c-4199-87ed-d1ad7c0b64d6",
   "metadata": {},
   "outputs": [
    {
     "name": "stdout",
     "output_type": "stream",
     "text": [
      "sagemaker.config INFO - Not applying SDK defaults from location: /etc/xdg/sagemaker/config.yaml\n",
      "sagemaker.config INFO - Not applying SDK defaults from location: /home/sagemaker-user/.config/sagemaker/config.yaml\n"
     ]
    }
   ],
   "source": [
    "import sagemaker"
   ]
  },
  {
   "cell_type": "code",
   "execution_count": 2,
   "id": "0b32e0df-4381-4ee6-a863-bbd5349bd39e",
   "metadata": {},
   "outputs": [],
   "source": [
    "sess = sagemaker.Session()"
   ]
  },
  {
   "cell_type": "code",
   "execution_count": 3,
   "id": "0808bc6c-3cd1-497d-95c9-4bc34826bd4f",
   "metadata": {},
   "outputs": [
    {
     "data": {
      "text/plain": [
       "'sagemaker-ap-northeast-1-202533513976'"
      ]
     },
     "execution_count": 3,
     "metadata": {},
     "output_type": "execute_result"
    }
   ],
   "source": [
    "sess.default_bucket()"
   ]
  },
  {
   "cell_type": "markdown",
   "id": "d731ec5f-55e0-4429-a7b6-67730c6b5d2f",
   "metadata": {},
   "source": [
    "## 12.1 人工ニューラルネットワークによる複雑な関数のモデル化"
   ]
  },
  {
   "cell_type": "markdown",
   "id": "59903d42-6841-40c8-90fc-07a77e2531de",
   "metadata": {},
   "source": [
    "### 12.1.1 単層ニューラルネットワークのまとめ"
   ]
  },
  {
   "cell_type": "markdown",
   "id": "a15cb37e-8690-46ea-af0e-068709d72971",
   "metadata": {},
   "source": [
    "### 12.1.2 多層ニューラルネットワークアーキテクチャ"
   ]
  },
  {
   "cell_type": "markdown",
   "id": "c01190e5-679b-4479-a16a-10483cce4c67",
   "metadata": {},
   "source": [
    "隠れ層が1つ以上存在するネットワークを**ディープ人工ニューラルネットワーク**と呼ぶ"
   ]
  },
  {
   "cell_type": "markdown",
   "id": "249a010d-2d59-455b-8a4b-ffc11296d1e8",
   "metadata": {},
   "source": [
    "### 12.1.3 フォワードプロパゲーションによるニューラルネットワークの活性化"
   ]
  },
  {
   "cell_type": "markdown",
   "id": "1541317d-67d9-4c4a-9cf6-739d7a16c2a7",
   "metadata": {},
   "source": [
    "多層パーセプトロンの学習を3つの単純な手順にまとめる<br>\n",
    "1. 入力層を出発点として、訓練データのパターンをネットワーク経由で順方向に伝播させ、出力を生成する。\n",
    "2. ネットワークの出力に基づき、後ほど説明するコスト関数を使って誤差を計算する。この誤差を最小化することが目的となる。\n",
    "3. 誤差を逆方向に伝播させることで、ネットワーク内の各重みに対する偏導関数を求め、モデルを更新する。"
   ]
  },
  {
   "cell_type": "markdown",
   "id": "3498dd9e-48d0-4855-bbb5-63f6ac5c0c79",
   "metadata": {},
   "source": [
    "勾配ベースの手法を使ってニュートロンを結合する際の重みを学習するには、活性化関数が微分可能でなければならない。<br>\n",
    "多層パーセプトロンモデルで画像分析といった複雑な問題を解くには、第3章の**ロジスティック回帰**で使った**シグモイド関数**など、非線形の活性化関数が必要である。"
   ]
  },
  {
   "cell_type": "markdown",
   "id": "39f8ea70-48e7-41bf-9cdf-ad46bb9d014d",
   "metadata": {},
   "source": [
    "## 12.2 手書きの数字を分類する"
   ]
  },
  {
   "cell_type": "markdown",
   "id": "d1f80664-6818-4e13-bbdc-cefb21974bd5",
   "metadata": {},
   "source": [
    "### 12.2.1 MNISTデータセットの取得と準備"
   ]
  },
  {
   "cell_type": "markdown",
   "id": "f3bae181-a1a8-416d-9a63-a9c4b133e955",
   "metadata": {},
   "source": [
    "**MNIST**データセットの手書きの数字を分類するため、多層ニューラルネットワークの実装と訓練を行う。"
   ]
  },
  {
   "cell_type": "markdown",
   "id": "023dc02e-d860-4435-83c2-4175c6dd706b",
   "metadata": {},
   "source": [
    "【後で行うこと】<br>\n",
    "- S3バケットにMNISTデータセットをアップロードする（練習のためCLIを使う）→ 済\n",
    "  - 訓練データセットの画像\n",
    "  - 訓練データセットのラベル\n",
    "  - テストデータセットの画像\n",
    "  - テストデータセットのラベル"
   ]
  },
  {
   "cell_type": "code",
   "execution_count": 4,
   "id": "68aa0b37-3790-4564-9ede-4cd4306a2f5b",
   "metadata": {},
   "outputs": [],
   "source": [
    "import sagemaker\n",
    "\n",
    "\n",
    "bucket = sagemaker.Session().default_bucket()\n",
    "prefix = \"mnist\"\n",
    "\n",
    "# Define IAM role\n",
    "import boto3\n",
    "import re\n",
    "from sagemaker import get_execution_role\n",
    "\n",
    "role = get_execution_role()"
   ]
  },
  {
   "cell_type": "code",
   "execution_count": 5,
   "id": "0bfbb667-9ccd-4577-8387-6110ce46d762",
   "metadata": {},
   "outputs": [],
   "source": [
    "import struct\n",
    "import numpy as np\n",
    "import boto3\n",
    "import io\n",
    "import gzip\n",
    "import pickle\n",
    "from pathlib import Path"
   ]
  },
  {
   "cell_type": "markdown",
   "id": "0ccd88a4-535b-487a-be0f-6efbffefa4d4",
   "metadata": {},
   "source": [
    "S3からのダウンロードを目指す"
   ]
  },
  {
   "cell_type": "markdown",
   "id": "7be59acc-ae81-407e-a443-8877a9cb3f43",
   "metadata": {},
   "source": [
    "AWSが用意しているS3バケットからダウンロードできたが、書籍に準拠した形で取り出せないか確認する！"
   ]
  },
  {
   "cell_type": "markdown",
   "id": "0c602e2b-31e1-4fda-8ad5-026b79ebbaa4",
   "metadata": {},
   "source": [
    "画像をNumPyの配列に読み込み、多層パーセプトロン実装の訓練とテストに使う。そこでヘルパー関数を定義する。"
   ]
  },
  {
   "cell_type": "code",
   "execution_count": 6,
   "id": "212502b4-65a4-4e87-9e9e-13a298c0f7fe",
   "metadata": {},
   "outputs": [],
   "source": [
    "def load_mnist(source_bucket_name, path, kind=\"train\"):\n",
    "    \"\"\"MNISTデータをpathからロード\"\"\"\n",
    "    s3 = boto3.resource(\"s3\")\n",
    "    bucket_minst = s3.Bucket(source_bucket_name)\n",
    "    # 引数に指定したパスを結合\n",
    "    labels_path = Path(path) / f\"{kind}-labels-idx1-ubyte.gz\"\n",
    "    images_path = Path(path) / f\"{kind}-images-idx3-ubyte.gz\"\n",
    "    # ファイルを読み込む：引数にファイル、モードを指定（rbは読み込みのバイナリモード）\n",
    "    with io.BytesIO() as f:\n",
    "        bucket_minst.download_fileobj(str(labels_path), f)\n",
    "        f.seek(0)\n",
    "        with gzip.open(f, mode='rb') as lbpath:\n",
    "            # バイナリを文字列に変換：unpack関数の引数にフォーマット、8バイト分の\n",
    "            # バイナリデータを指定してマジックナンバー、アイテムの個数を読み込む\n",
    "            magic, n = struct.unpack(\">II\", lbpath.read(8))\n",
    "            # ファイルからラベルを読み込み配列を構築：fromfile関数の引数に\n",
    "            # ファイル、配列のデータ形式を指定\n",
    "            labels = np.frombuffer(lbpath.read(), dtype=np.uint8)\n",
    "    with io.BytesIO() as f:\n",
    "        bucket_minst.download_fileobj(str(images_path), f)\n",
    "        f.seek(0)\n",
    "        with gzip.open(f, mode='rb') as imgpath:\n",
    "            magic, num, rows, cols = struct.unpack(\">IIII\", imgpath.read(16))\n",
    "            # 画像ピクセル情報の配列のサイズを変更（行数：ラベルのサイズ、列数：特徴量の個数）\n",
    "            images = np.frombuffer(imgpath.read(), dtype=np.uint8).reshape(len(labels), 784)\n",
    "            images = ((images / 255.) - 0.5) * 2\n",
    "\n",
    "    return images, labels"
   ]
  },
  {
   "cell_type": "code",
   "execution_count": 7,
   "id": "87857de6-6b88-4d6e-bb74-e2411fbf0c28",
   "metadata": {},
   "outputs": [
    {
     "name": "stdout",
     "output_type": "stream",
     "text": [
      "Rows: 60000, columns: 784\n",
      "Rows: 10000, columns: 784\n"
     ]
    }
   ],
   "source": [
    "X_train, y_train = load_mnist(bucket, prefix, kind=\"train\")\n",
    "print(\"Rows: %d, columns: %d\" % (X_train.shape[0], X_train.shape[1]))\n",
    "\n",
    "X_test, y_test = load_mnist(bucket, prefix, kind=\"t10k\")\n",
    "print(\"Rows: %d, columns: %d\" % (X_test.shape[0], X_test.shape[1]))"
   ]
  },
  {
   "cell_type": "markdown",
   "id": "effcd18d-74cb-45c7-b0a3-06a604a92935",
   "metadata": {},
   "source": [
    "0から9の数字を可視化しよう"
   ]
  },
  {
   "cell_type": "code",
   "execution_count": 8,
   "id": "68a2fbf1-72d3-4236-aca7-0ca8541e633c",
   "metadata": {},
   "outputs": [
    {
     "data": {
      "image/png": "[encoded data removed]",
      "text/plain": [
       "<Figure size 640x480 with 10 Axes>"
      ]
     },
     "metadata": {},
     "output_type": "display_data"
    }
   ],
   "source": [
    "import matplotlib.pyplot as plt\n",
    "\n",
    "fig, ax = plt.subplots(nrows=2, ncols=5, sharex=True, sharey=True)\n",
    "ax = ax.flatten()\n",
    "\n",
    "for i in range(10):\n",
    "    img = X_train[y_train == i][0].reshape(28, 28)\n",
    "    ax[i].imshow(img, cmap=\"Greys\")\n",
    "\n",
    "ax[0].set_xticks([])\n",
    "ax[0].set_yticks([])\n",
    "plt.tight_layout()\n",
    "plt.show()"
   ]
  },
  {
   "cell_type": "markdown",
   "id": "0605c091-be85-46be-8df2-8f1db4238dc9",
   "metadata": {},
   "source": [
    "同じ数字の例をいくつか描画して、それらの筆跡の違いを実際に確かめてみよう。"
   ]
  },
  {
   "cell_type": "code",
   "execution_count": 9,
   "id": "6145b154-0b96-40d7-930f-1137cc2173bb",
   "metadata": {},
   "outputs": [
    {
     "data": {
      "image/png": "[encoded data removed]",
      "text/plain": [
       "<Figure size 640x480 with 25 Axes>"
      ]
     },
     "metadata": {},
     "output_type": "display_data"
    }
   ],
   "source": [
    "fig, ax = plt.subplots(nrows=5, ncols=5, sharex=True, sharey=True)\n",
    "ax = ax.flatten()\n",
    "for i in range(25):\n",
    "    img = X_train[y_train == 7][i].reshape(28, 28)\n",
    "    ax[i].imshow(img, cmap=\"Greys\")\n",
    "ax[0].set_xticks([])\n",
    "ax[0].set_yticks([])\n",
    "plt.tight_layout()\n",
    "plt.show()"
   ]
  },
  {
   "cell_type": "markdown",
   "id": "a2005b45-3dc6-4369-a5d5-f556a10a389b",
   "metadata": {},
   "source": [
    "スケーリング済みの画像は新しいPythonセッションにすばやく読み込めるフォーマットで保存しておくとよい。Numpyのsavez関数"
   ]
  },
  {
   "cell_type": "code",
   "execution_count": 45,
   "id": "96a78d81-5c10-4bd7-ad0d-178e8be0a699",
   "metadata": {},
   "outputs": [],
   "source": [
    "with io.BytesIO() as f:\n",
    "    np.savez_compressed(f, X_train=X_train, y_train=y_train, X_test=X_test, y_test=y_test)\n",
    "    f.seek(0)\n",
    "    # S3バケットに保存する\n",
    "    s3 = boto3.resource(\"s3\")\n",
    "    bucket_minst = s3.Bucket(bucket)\n",
    "    # 引数に指定したパスを結合\n",
    "    savez_path = Path(\"mnist\") / \"mnist_scaled.npz\"\n",
    "    bucket_minst.upload_fileobj(f, str(savez_path))"
   ]
  },
  {
   "cell_type": "markdown",
   "id": "9a08dced-672a-4b41-adff-98001794c15c",
   "metadata": {},
   "source": [
    "S3に保存したファイルをダウンロードする。"
   ]
  },
  {
   "cell_type": "code",
   "execution_count": 6,
   "id": "0c133280-1f33-406c-a3ec-58e50f318786",
   "metadata": {},
   "outputs": [],
   "source": [
    "import tempfile"
   ]
  },
  {
   "cell_type": "code",
   "execution_count": 7,
   "id": "16e452c3-814d-4b61-b80d-a997eeda440b",
   "metadata": {},
   "outputs": [],
   "source": [
    "with tempfile.NamedTemporaryFile(mode='w+b') as fp:\n",
    "    s3 = boto3.resource(\"s3\")\n",
    "    bucket_minst = s3.Bucket(bucket)\n",
    "    savez_path = Path(\"mnist\") / \"mnist_scaled.npz\"\n",
    "\n",
    "    bucket_minst.download_fileobj(str(savez_path), fp)\n",
    "\n",
    "    with open(fp.name, mode='rb') as f:\n",
    "\n",
    "        f.seek(0)\n",
    "        f.read()\n",
    "\n",
    "        mnist = np.load(fp.name)"
   ]
  },
  {
   "cell_type": "code",
   "execution_count": 8,
   "id": "f39c5909-f7da-41cc-8b6b-410f093b3f16",
   "metadata": {},
   "outputs": [
    {
     "data": {
      "text/plain": [
       "['X_train', 'y_train', 'X_test', 'y_test']"
      ]
     },
     "execution_count": 8,
     "metadata": {},
     "output_type": "execute_result"
    }
   ],
   "source": [
    "mnist.files"
   ]
  },
  {
   "cell_type": "code",
   "execution_count": 9,
   "id": "c2a7b34b-b1ff-428c-a9ee-d7e27a2d31c3",
   "metadata": {},
   "outputs": [],
   "source": [
    "X_train, y_train, X_test, y_test = [mnist[f] for f in mnist.files]"
   ]
  },
  {
   "cell_type": "markdown",
   "id": "74166de9-7913-4440-8c38-cda2589b5041",
   "metadata": {},
   "source": [
    "### 12.2.2 多層パーセプトロンを実装する"
   ]
  },
  {
   "cell_type": "code",
   "execution_count": 29,
   "id": "792f497f-9765-4abb-abff-97e6b73c803f",
   "metadata": {},
   "outputs": [],
   "source": [
    "import sys\n",
    "\n",
    "class NeuralNetMLP(object):\n",
    "    \"\"\"フィードフォワードニューラルネットワーク/多層パーセプトロン分類器\n",
    "\n",
    "    パラメータ\n",
    "    ------------\n",
    "    n_hidden : int (デフォルト: 30)\n",
    "        隠れユニットの個数\n",
    "    l2 : float (デフォルト: 0.)\n",
    "        L2正則化のλパラメータ\n",
    "        l2=0の場合は正則化なし (default)\n",
    "    epochs : int (デフォルト: 100)\n",
    "        訓練の回数\n",
    "    eta : float (デフォルト: 0.001)\n",
    "        学習率\n",
    "    shuffle : bool (デフォルト: True)\n",
    "        Trueの場合、循環を避けるためにエポックごとに訓練データをシャッフル\n",
    "    minibatch_size : int (デフォルト: 1)\n",
    "        ミニバッチあたりの訓練データの個数\n",
    "    seed : int (デフォルト: None)\n",
    "        重みとシャッフルを初期化するための乱数シード\n",
    "\n",
    "    属性\n",
    "    ------------\n",
    "    eval_ : dict\n",
    "        訓練のエポックごとに、コスト、訓練の正解率、検証の正解率を収集するディクショナリ\n",
    "    \"\"\"\n",
    "\n",
    "    def __init__(self, n_hidden=30, l2=0., epochs=100, eta=0.001,\n",
    "                shuffle=True, minibatch_size=1, seed=None):\n",
    "        \"\"\"NeuralNetMLPの初期化\"\"\"\n",
    "\n",
    "        self.random = np.random.RandomState(seed)\n",
    "        self.n_hidden = n_hidden\n",
    "        self.l2 = l2\n",
    "        self.epochs = epochs\n",
    "        self.eta = eta\n",
    "        self.shuffle = shuffle\n",
    "        self.minibatch_size = minibatch_size\n",
    "\n",
    "    def _onehot(self, y, n_classes):\n",
    "        \"\"\"ラベルをone-hot表現にエンコード\n",
    "\n",
    "        パラメータ\n",
    "        ------------\n",
    "        y : array, shape = [n_examples]\n",
    "            目的変数の値\n",
    "\n",
    "        戻り値\n",
    "        ------------\n",
    "        onehot : array, shape = (n_examples, n_labels)\n",
    "        \"\"\"\n",
    "\n",
    "        onehot = np.zeros((n_classes, y.shape[0]))\n",
    "        for idx, val in enumerate(y.astype(int)):\n",
    "            onehot[val, idx] = 1.\n",
    "\n",
    "        return onehot.T\n",
    "\n",
    "    def _sigmoid(self, z):\n",
    "        \"\"\"ロジスティック関数（シグモイド）を計算\"\"\"\n",
    "        return 1. / (1. + np.exp(-np.clip(z, -250, 250)))\n",
    "\n",
    "    def _forward(self, X):\n",
    "        \"\"\"フォワードプロパゲーションのステップを計算\"\"\"\n",
    "\n",
    "        # ステップ1: 隠れ層の総入力\n",
    "        # [n_examples, n_features] dot [n_features, n_hidden]\n",
    "        # -> [n_examples, n_hidden]\n",
    "        z_h = np.dot(X, self.w_h) + self.b_h\n",
    "\n",
    "        # ステップ2: 隠れ層の活性化関数\n",
    "        a_h = self._sigmoid(z_h)\n",
    "\n",
    "        # ステップ3: 出力層の総入力\n",
    "        # [n_examples, n_hidden] dot [n_hidden, n_classlabels]\n",
    "        # -> [n_examples, n_classlabels]\n",
    "        z_out = np.dot(a_h, self.w_out) + self.b_out\n",
    "\n",
    "        # ステップ4: 出力層の活性化関数\n",
    "        a_out = self._sigmoid(z_out)\n",
    "\n",
    "        return z_h, a_h, z_out, a_out\n",
    "\n",
    "    def _compute_cost(self, y_enc, output):\n",
    "        \"\"\"コスト関数を計算\n",
    "\n",
    "        パラメータ\n",
    "        ------------\n",
    "        y_enc : array, shape = (n_examples, n_labels)\n",
    "            one-hot表現にエンコードされたクラスレベル\n",
    "        output : array, shape = [n_examples, n_output_units]\n",
    "            出力層の活性化関数（フォワードプロパゲーション）\n",
    "\n",
    "        戻り値\n",
    "        ------------\n",
    "        cost : float\n",
    "            正則化されたコスト\n",
    "        \"\"\"\n",
    "\n",
    "        L2_term = (self.l2 * (np.sum(self.w_h ** 2.) +\n",
    "                             np.sum(self.w_out ** 2.)))\n",
    "        term1 = -y_enc * (np.log(output))\n",
    "        term2 = (1. - y_enc) * np.log(1. - output)\n",
    "        cost = np.sum(term1 - term2) + L2_term\n",
    "\n",
    "        return cost\n",
    "\n",
    "    def predict(self, X):\n",
    "        \"\"\"クラスレベルを予測\n",
    "\n",
    "        パラメータ\n",
    "        ------------\n",
    "        X : array, shape = [n_examples, n_features]\n",
    "            元の特徴量が設定された入力層\n",
    "\n",
    "        戻り値\n",
    "        ------------\n",
    "        y_pred : array, shape = [n_examples]\n",
    "            予測されたクラスレベル\n",
    "        \"\"\"\n",
    "\n",
    "        z_h, a_h, z_out, a_out = self._forward(X)\n",
    "        y_pred = np.argmax(z_out, axis=1)\n",
    "\n",
    "        return y_pred\n",
    "\n",
    "    def fit(self, X_train, y_train, X_valid, y_valid):\n",
    "        \"\"\"訓練データから重みを学習\n",
    "\n",
    "        パラメータ\n",
    "        ------------\n",
    "        X_train : array, shape = [n_examples, n_features]\n",
    "            元の特徴量が設定された入力層\n",
    "        y_train : array, shape = [n_examples]\n",
    "            目的変数（クラスレベル）\n",
    "        X_valid : array, shape = [n_examples, n_features]\n",
    "            訓練時の検証に使うサンプル特徴量\n",
    "        y_valid : array, shape = [n_examples]\n",
    "            訓練時の検証に使うサンプルラベル\n",
    "\n",
    "        戻り値\n",
    "        ------------\n",
    "        self\n",
    "\n",
    "        \"\"\"\n",
    "\n",
    "        # クラスラベルの個数\n",
    "        n_output = np.unique(y_train).shape[0]\n",
    "        n_features = X_train.shape[1]\n",
    "\n",
    "        ##############\n",
    "        # 重みの初期化\n",
    "        ##############\n",
    "\n",
    "        # 入力層 -> 隠れ層の重み\n",
    "        self.b_h = np.zeros(self.n_hidden)\n",
    "        self.w_h = self.random.normal(loc=0.0, scale=0.1,\n",
    "                                     size=(n_features, self.n_hidden))\n",
    "\n",
    "        # 隠れ層 -> 出力層の重み\n",
    "        self.b_out = np.zeros(n_output)\n",
    "        self.w_out = self.random.normal(loc=0.0, scale=0.1,\n",
    "                                       size=(self.n_hidden, n_output))\n",
    "\n",
    "        # 書式設定\n",
    "        epoch_strlen = len(str(self.epochs))\n",
    "        self.eval_ = {\"cost\": [], \"train_acc\": [], \"valid_acc\": []}\n",
    "\n",
    "        y_train_enc = self._onehot(y_train, n_output)\n",
    "\n",
    "        # エポック数だけ訓練を繰り返す\n",
    "        for i in range(self.epochs):\n",
    "\n",
    "            # ミニバッチの反復処理（イテレーション）\n",
    "            indices = np.arange(X_train.shape[0])\n",
    "\n",
    "            if self.shuffle:\n",
    "                self.random.shuffle(indices)\n",
    "\n",
    "            for start_idx in range(0, indices.shape[0] - self.minibatch_size + 1,\n",
    "                                  self.minibatch_size):\n",
    "                batch_idx = indices[start_idx:start_idx + self.minibatch_size]\n",
    "\n",
    "                # フォワードプロパゲーション\n",
    "                z_h, a_h, z_out, a_out = self._forward(X_train[batch_idx])\n",
    "\n",
    "                #########################\n",
    "                # バックプロパゲーション\n",
    "                #########################\n",
    "\n",
    "                # [n_examples, n_classlabels]\n",
    "                delta_out = a_out - y_train_enc[batch_idx]\n",
    "\n",
    "                # [n_examples, n_hidden]\n",
    "                sigmoid_derivative_h = a_h * (1. - a_h)\n",
    "\n",
    "                # [n_examples, n_classlabels] dot [n_classlabels, n_hidden]\n",
    "                # -> [n_examples, n_hidden]\n",
    "                delta_h = (np.dot(delta_out, self.w_out.T) * sigmoid_derivative_h)\n",
    "\n",
    "                # [n_features, n_examples] dot [n_examples, n_hidden]\n",
    "                # -> [n_features, n_hidden]\n",
    "                grad_w_h = np.dot(X_train[batch_idx].T, delta_h)\n",
    "                grad_b_h = np.sum(delta_h, axis=0)\n",
    "\n",
    "                # [n_hidden, n_examples] dot [n_examples, n_classlabels]\n",
    "                # -> [n_hidden, n_classlabels]\n",
    "                grad_w_out = np.dot(a_h.T, delta_out)\n",
    "                grad_b_out = np.sum(delta_out, axis=0)\n",
    "\n",
    "                # 正則化と重みの更新\n",
    "                delta_w_h = (grad_w_h + self.l2*self.w_h)\n",
    "                delta_b_h = grad_b_h # バイアスは正則化しない\n",
    "                self.w_h -= self.eta * delta_w_h\n",
    "                self.b_h -= self.eta * delta_b_h\n",
    "\n",
    "                delta_w_out = (grad_w_out * self.l2*self.w_out)\n",
    "                delta_b_out = grad_b_out # バイアスは正則化しない\n",
    "                self.w_out -= self.eta * delta_w_out\n",
    "                self.b_out -= self.eta * delta_b_out\n",
    "\n",
    "            ########\n",
    "            # 評価\n",
    "            ########\n",
    "\n",
    "            # イテレーションごとに評価を行う\n",
    "            z_h, a_h, z_out, a_out = self._forward(X_train)\n",
    "            cost = self._compute_cost(y_enc=y_train_enc, output=a_out)\n",
    "\n",
    "            y_train_pred = self.predict(X_train)\n",
    "            y_valid_pred = self.predict(X_valid)\n",
    "            train_acc = ((np.sum(y_train == y_train_pred)).astype(np.float64) / \n",
    "                        X_train.shape[0])\n",
    "            valid_acc = ((np.sum(y_valid == y_valid_pred)).astype(np.float64) /\n",
    "                        X_valid.shape[0])\n",
    "\n",
    "            sys.stderr.write(\"\\r%0*d/%d | Cost: %.2f \"\n",
    "                            \"| Train/Valid Acc.: %.2f%%/%.2f%% \" %\n",
    "                            (epoch_strlen, i+1, self.epochs, cost,\n",
    "                            train_acc*100, valid_acc*100))\n",
    "            sys.stderr.flush()\n",
    "\n",
    "            self.eval_[\"cost\"].append(cost)\n",
    "            self.eval_[\"train_acc\"].append(train_acc)\n",
    "            self.eval_[\"valid_acc\"].append(valid_acc)\n",
    "\n",
    "        return self"
   ]
  },
  {
   "cell_type": "code",
   "execution_count": 30,
   "id": "a2c9f6c6-3a07-41c9-a3c8-05b305f3f4b5",
   "metadata": {},
   "outputs": [],
   "source": [
    "nn = NeuralNetMLP(n_hidden=100,\n",
    "                 l2=0.01,\n",
    "                 epochs=200,\n",
    "                 eta=0.0005,\n",
    "                 minibatch_size=100,\n",
    "                 shuffle=True,\n",
    "                 seed=1)"
   ]
  },
  {
   "cell_type": "code",
   "execution_count": 31,
   "id": "065d5135-cb3a-4966-a749-b6a246aa4328",
   "metadata": {},
   "outputs": [
    {
     "name": "stderr",
     "output_type": "stream",
     "text": [
      "200/200 | Cost: 47489.46 | Train/Valid Acc.: 91.90%/93.72%  "
     ]
    },
    {
     "data": {
      "text/plain": [
       "<__main__.NeuralNetMLP at 0x7efcd3c3c4d0>"
      ]
     },
     "execution_count": 31,
     "metadata": {},
     "output_type": "execute_result"
    }
   ],
   "source": [
    "nn.fit(X_train=X_train[:55000], y_train=y_train[:55000], X_valid=X_train[55000:], y_valid=y_train[55000:])"
   ]
  },
  {
   "cell_type": "code",
   "execution_count": 33,
   "id": "3f083a15-7108-4405-891a-a95e10d9a330",
   "metadata": {},
   "outputs": [
    {
     "data": {
      "image/png": "[encoded data removed]",
      "text/plain": [
       "<Figure size 640x480 with 1 Axes>"
      ]
     },
     "metadata": {},
     "output_type": "display_data"
    }
   ],
   "source": [
    "import matplotlib.pyplot as plt\n",
    "plt.plot(range(nn.epochs), nn.eval_[\"cost\"])\n",
    "plt.ylabel(\"Cost\")\n",
    "plt.xlabel(\"Epochs\")\n",
    "plt.show()"
   ]
  },
  {
   "cell_type": "code",
   "execution_count": 34,
   "id": "e5e620e3-f416-4c43-b6bc-690683ff9583",
   "metadata": {},
   "outputs": [
    {
     "data": {
      "image/png": "[encoded data removed]",
      "text/plain": [
       "<Figure size 640x480 with 1 Axes>"
      ]
     },
     "metadata": {},
     "output_type": "display_data"
    }
   ],
   "source": [
    "plt.plot(range(nn.epochs), nn.eval_[\"train_acc\"], label=\"Training\")\n",
    "plt.plot(range(nn.epochs), nn.eval_[\"valid_acc\"], label=\"Validation\", linestyle=\"--\")\n",
    "plt.ylabel(\"Accuracy\")\n",
    "plt.xlabel(\"Epochs\")\n",
    "plt.legend(loc=\"lower right\")\n",
    "plt.show()"
   ]
  },
  {
   "cell_type": "code",
   "execution_count": 35,
   "id": "4a05886d-dd4e-43f6-8aae-a30bdcdae397",
   "metadata": {},
   "outputs": [
    {
     "name": "stdout",
     "output_type": "stream",
     "text": [
      "Test accuracy: 92.24%\n"
     ]
    }
   ],
   "source": [
    "y_test_pred = nn.predict(X_test)\n",
    "acc = (np.sum(y_test == y_test_pred).astype(np.float64) / X_test.shape[0])\n",
    "print(\"Test accuracy: %.2f%%\" % (acc * 100))"
   ]
  },
  {
   "cell_type": "code",
   "execution_count": 36,
   "id": "fcff1c93-95ca-40a9-9642-db184c1a1359",
   "metadata": {},
   "outputs": [
    {
     "data": {
      "image/png": "[encoded data removed]",
      "text/plain": [
       "<Figure size 640x480 with 25 Axes>"
      ]
     },
     "metadata": {},
     "output_type": "display_data"
    }
   ],
   "source": [
    "miscl_img = X_test[y_test != y_test_pred][:25]\n",
    "correct_lab = y_test[y_test != y_test_pred][:25]\n",
    "miscl_lab = y_test_pred[y_test != y_test_pred][:25]\n",
    "fig, ax = plt.subplots(nrows=5, ncols=5, sharex=True, sharey=True)\n",
    "ax = ax.flatten()\n",
    "for i in range(25):\n",
    "    img = miscl_img[i].reshape(28, 28)\n",
    "    ax[i].imshow(img, cmap=\"Greys\", interpolation=\"nearest\")\n",
    "    ax[i].set_title(\"%d) t: %d p: %d\" % (i+1, correct_lab[i], miscl_lab[i]))\n",
    "\n",
    "ax[0].set_xticks([])\n",
    "ax[0].set_yticks([])\n",
    "plt.tight_layout()\n",
    "plt.show()"
   ]
  },
  {
   "cell_type": "markdown",
   "id": "8076e130-477e-4475-b89b-ddc9e1570635",
   "metadata": {},
   "source": [
    "## 12.3 人工ニューラルネットワークの訓練"
   ]
  },
  {
   "cell_type": "markdown",
   "id": "5181db58-379a-414b-aa9c-726a3542878c",
   "metadata": {},
   "source": [
    "### 12.3.1 ロジスティック関数を計算する"
   ]
  },
  {
   "cell_type": "markdown",
   "id": "e7e6cc1f-8b63-44ac-939a-9031aa32b4e1",
   "metadata": {},
   "source": [
    "ロジスティック関数\n",
    "$$\n",
    "J(w)=-\\sum^{n}_{i=1} \\log(a^{[i]})+(1-y^{[i]})\\log(1-a^{[i]})\n",
    "$$"
   ]
  },
  {
   "cell_type": "markdown",
   "id": "5b41e8ed-4294-4477-9e6d-090df6933d47",
   "metadata": {},
   "source": [
    "ここで、$a^{[i]}$はデータセットの$i$番目のデータ点に対するシグモイド関数の出力結果である。<br>\n",
    "$$\n",
    "a^{[i]} = \\phi{(z^{[i]})}\n",
    "$$\n",
    "ここで、上付き文字$[i]$は（層ではなく）訓練データのインデックスを表す。"
   ]
  },
  {
   "cell_type": "markdown",
   "id": "3890d4bf-bf34-47ee-8bec-f1532ef081b4",
   "metadata": {},
   "source": [
    "過学習の度合いを下げることができる**正則化**の項を追加する。"
   ]
  },
  {
   "cell_type": "markdown",
   "id": "cb7e6133-701b-4797-b97f-6b9a8ec353c0",
   "metadata": {},
   "source": [
    "$$\n",
    "\\mathrm{L2} = \\lambda ||w||^{2}_{2} = \\lambda \\sum^{m}_{j=1} w^{2}_{j}\n",
    "$$"
   ]
  },
  {
   "cell_type": "markdown",
   "id": "323c89a8-87a0-4893-ab74-b118f9c1fd96",
   "metadata": {},
   "source": [
    "L2正則化の項をロジスティック関数に追加すると、次の式が得られる。"
   ]
  },
  {
   "cell_type": "markdown",
   "id": "6554485c-eebb-448f-9326-9edbcfa9d1f5",
   "metadata": {},
   "source": [
    "$$\n",
    "J(w)=-\\Biggl[\\sum^{n}_{i=1} y^{[i]} \\log(a^{[i]})+(1-y^{[i]})\\log(1-a^{[i]})\\Biggr] + \\frac{\\lambda}{2} ||w||^{2}_{2}\n",
    "$$"
   ]
  },
  {
   "cell_type": "markdown",
   "id": "ba885038-8d3e-43d6-b39e-f42168d20841",
   "metadata": {},
   "source": [
    "ネットワーク内のすべての活性化ユニット$t$に対してロジスティック関数を一般化する必要がある。<br>\n",
    "コスト関数は次のようになる"
   ]
  },
  {
   "cell_type": "markdown",
   "id": "a03805be-25bd-4179-bdec-97af92ebd7e2",
   "metadata": {},
   "source": [
    "$$\n",
    "J(W)=-\\Biggl[\\sum^{n}_{i=1} \\sum^{t}_{j=1} y^{[i]} \\log(a^{[i]})+(1-y^{[i]})\\log(1-a^{[i]})\\Biggr] + \\frac{\\lambda}{2} \\sum^{L-1}_{l=1} \\sum^{u_{l}}_{i=1} \\sum^{u_{l+1}}_{j=1} (w^{(l)}_{j,i})^{2}\n",
    "$$"
   ]
  },
  {
   "cell_type": "markdown",
   "id": "2fa9b4cb-e21c-4fe0-8e41-84ef0599b2c2",
   "metadata": {},
   "source": [
    "ここで、$u_{l}$は層$l$のユニットの個数を表す。$L$は層の数。"
   ]
  },
  {
   "cell_type": "markdown",
   "id": "bbb5fcef-fa9b-4b6b-a2b9-456a76b58aa6",
   "metadata": {},
   "source": [
    "コスト関数$J(W)$を最小化することが目的である。<br>\n",
    "ネットワークのすべての層の重みごとに、行列$W$の偏微分係数を計算する必要がある。\n",
    "$$\n",
    "\\frac{\\partial}{\\partial w^{(l)}_{j,i}} J(W)\n",
    "$$"
   ]
  },
  {
   "cell_type": "markdown",
   "id": "c37431e9-d4de-4aa0-a10e-633345757328",
   "metadata": {},
   "source": [
    "### 12.3.2 バックプロパゲーションに対する理解を深める"
   ]
  },
  {
   "cell_type": "markdown",
   "id": "12f931a5-8ffc-46a1-8feb-de6d2ad98d6f",
   "metadata": {},
   "source": [
    "多層ニューラルネットワークにおいて複雑なコスト関数の偏導関数を求める際に、その計算を非常に効率よく行う手法として考えることができる。"
   ]
  },
  {
   "cell_type": "markdown",
   "id": "89186a85-0b06-4313-8119-7fff9436433f",
   "metadata": {},
   "source": [
    "偏導関数を使って、多層人工ニューラルネットワークをパラメータ化するための重み係数を学習することにある。"
   ]
  },
  {
   "cell_type": "markdown",
   "id": "1877574a-90be-41d8-943c-d4765c99a8f6",
   "metadata": {},
   "source": [
    "連鎖律\n",
    "$$\n",
    "\\frac{d}{dx} [f(g(x))] = \\frac{df}{dg} \\cdot \\frac{dg}{dx}\n",
    "$$"
   ]
  },
  {
   "cell_type": "markdown",
   "id": "12365ed5-8e74-4bac-9b8a-4066b817b2fc",
   "metadata": {},
   "source": [
    "任意の長さの関数を合成するための連鎖律も利用できる\n",
    "$$\n",
    "\\frac{dF}{dx} = \\frac{d}{dx} F(x) = \\frac{d}{dx} f(g(h(u(v(x))))) = \\frac{df}{dg} \\cdot \\frac{dg}{dh} \\cdot \\frac{dh}{du} \\cdot \\frac{du}{dv} \\cdot \\frac{dv}{dx}\n",
    "$$"
   ]
  },
  {
   "cell_type": "markdown",
   "id": "6cc5da28-edf0-4cab-b11e-df3254c6d43e",
   "metadata": {},
   "source": [
    "そうした問題を非常に効率よく解くための一連の手法が**自動微分**と呼ばれる。"
   ]
  },
  {
   "cell_type": "markdown",
   "id": "f0dd9b6f-aae2-479c-8410-de1ccf5c29ec",
   "metadata": {},
   "source": [
    "**自動微分**には、**フォワード**と**リバース**の2つのモードがある。<br>\n",
    "連鎖律をフォワードモードで適用すると計算コストがかなり高くなる可能性がある。<br>\n",
    "リバースモードは右から左へ処理する。行列にベクトルを掛け、結果として新たなベクトルに次の行列を掛ける。<br>\n",
    "バックプロパゲーションがニューラルネットワークの訓練において最も人気の高いアルゴリズムの1つになっているのはそのため。"
   ]
  },
  {
   "cell_type": "markdown",
   "id": "4d8a0ff9-d56d-493f-a4c9-b86be87d7909",
   "metadata": {},
   "source": [
    "### 12.3.3 バックプロパゲーションによるニューラルネットワークの訓練"
   ]
  },
  {
   "cell_type": "markdown",
   "id": "13706a12-6cc8-4dd2-9de0-595568aea2c0",
   "metadata": {},
   "source": [
    "フォワードプロパゲーションの適用について"
   ]
  },
  {
   "cell_type": "markdown",
   "id": "dcbede03-662f-445b-b6d8-4fba10a63aa3",
   "metadata": {},
   "source": [
    "隠れ層の総入力\n",
    "$$\n",
    "Z^{(h)} = A^{(in)} W^{(h)}\n",
    "$$"
   ]
  },
  {
   "cell_type": "markdown",
   "id": "ad64dce4-0c14-4e27-86a2-9942d9df1c51",
   "metadata": {},
   "source": [
    "隠れ層の活性化関数\n",
    "$$\n",
    "A^{(h)} = \\phi{(Z^{(h)})}\n",
    "$$"
   ]
  },
  {
   "cell_type": "markdown",
   "id": "9a8b14d3-4230-4ac0-984d-4ef178429bfa",
   "metadata": {},
   "source": [
    "出力層の総入力\n",
    "$$\n",
    "Z^{(out)} = A^{(h)} W^{(out)}\n",
    "$$"
   ]
  },
  {
   "cell_type": "markdown",
   "id": "738c7247-a037-4019-bdc2-2fec49aedb9e",
   "metadata": {},
   "source": [
    "出力層の活性化関数\n",
    "$$\n",
    "A^{(out)} = \\phi{(Z^{(out)})}\n",
    "$$"
   ]
  },
  {
   "cell_type": "markdown",
   "id": "b91b24af-6bfc-4fe3-a7ba-52e6e9910ac9",
   "metadata": {},
   "source": [
    "ネットワーク内の結合を通じて入力特徴量を順方向に伝播させただけ"
   ]
  },
  {
   "cell_type": "markdown",
   "id": "46c718d2-fdce-414a-9b5d-2bccfc14e81d",
   "metadata": {},
   "source": [
    "バックプロパゲーションでは、誤差を右から左へ伝播させる。"
   ]
  },
  {
   "cell_type": "markdown",
   "id": "6b1f5d8a-e5c3-4f63-9706-52e879d11b78",
   "metadata": {},
   "source": [
    "出力層の誤差ベクトルを計算する\n",
    "$$\n",
    "\\delta^{(out)} = a^{(out)} - y\n",
    "$$"
   ]
  },
  {
   "cell_type": "markdown",
   "id": "f23d7d20-2f32-4766-89b7-f5e4291d9278",
   "metadata": {},
   "source": [
    "$y$は正しいクラスラベルからなるベクトルである"
   ]
  },
  {
   "cell_type": "markdown",
   "id": "1f4ce245-bfbb-4d3d-81ed-bf53224f9c1e",
   "metadata": {},
   "source": [
    "次に隠れ層の誤差項を計算する。\n",
    "$$\n",
    "\\delta^{(h)} = \\delta^{(out)} (W^{(out)})^{T} \\odot \\frac{\\partial \\phi(z^{(h)})}{\\partial z^{(h)}}\n",
    "$$"
   ]
  },
  {
   "cell_type": "markdown",
   "id": "e8fbef1e-d86f-4941-93f7-82e8ce90490f",
   "metadata": {},
   "source": [
    "$\\odot$は要素ごとの乗算を意味する。"
   ]
  },
  {
   "cell_type": "markdown",
   "id": "28ad4ae7-4b2e-4858-be2c-fada176bfce1",
   "metadata": {},
   "source": [
    "以下のように定義される。"
   ]
  },
  {
   "cell_type": "markdown",
   "id": "6313f6af-5d2c-4f6f-b4d0-e20daf0dbd1a",
   "metadata": {},
   "source": [
    "$$\n",
    "\\frac{\\partial \\phi(z^{(h)})}{\\partial z^{(h)}} = (a^{(h)} \\odot (1 - a^{(h)}))\n",
    "$$"
   ]
  },
  {
   "cell_type": "markdown",
   "id": "babfe1d8-9cbd-4766-92a4-a071381fbc79",
   "metadata": {},
   "source": [
    "隠れ層の誤差行列$\\delta^{(h)}$\n",
    "$$\n",
    "\\delta^{(h)} = \\delta^{(out)} (W^{(out)})^{T} \\odot (a^{(h)} \\odot (1 - a^{(h)}))\n",
    "$$"
   ]
  },
  {
   "cell_type": "markdown",
   "id": "dbd465ac-a00c-40d5-8a60-374614ee8890",
   "metadata": {},
   "source": [
    "コスト関数の偏微分係数\n",
    "$$\n",
    "\\frac{\\partial}{\\partial w^{(out)}_{i, j}} J(W) = a^{(h)}_{j} \\delta^{(out)}_{i}\n",
    "$$\n",
    "$$\n",
    "\\frac{\\partial}{\\partial w^{(h)}_{i, j}} J(W) = a^{(in)}_{j} \\delta^{(h)}_{i}\n",
    "$$"
   ]
  },
  {
   "cell_type": "markdown",
   "id": "74b21d33-2fa9-4fbb-a0c2-c5150e48f1dc",
   "metadata": {},
   "source": [
    "$$\n",
    "\\Delta^{(h)} = (A^{(in)})^{T} \\delta^{(h)}\n",
    "$$\n",
    "$$\n",
    "\\Delta^{(out)} = (A^{(h)})^{T} \\delta^{(out)}\n",
    "$$"
   ]
  },
  {
   "cell_type": "markdown",
   "id": "36abca4a-8140-4f31-8e7e-439da1fc141a",
   "metadata": {},
   "source": [
    "$$\n",
    "\\Delta^{(l)} := \\Delta^{(l)} + \\lambda^{(l)} W^{(l)}\n",
    "$$"
   ]
  },
  {
   "cell_type": "markdown",
   "id": "128886f6-ee7f-482a-8109-3d9525d7c9a2",
   "metadata": {},
   "source": [
    "勾配を計算した後は、勾配に対して逆方向に進むことで重みを更新できる。\n",
    "$$\n",
    "W^{(l)} := W^{(l)} - \\eta \\Delta^{(l)}\n",
    "$$"
   ]
  },
  {
   "cell_type": "code",
   "execution_count": null,
   "id": "15fd9040-c0fd-4132-9fad-659767b45fa3",
   "metadata": {},
   "outputs": [],
   "source": []
  }
 ],
 "metadata": {
  "kernelspec": {
   "display_name": "Python 3 (ipykernel)",
   "language": "python",
   "name": "python3"
  },
  "language_info": {
   "codemirror_mode": {
    "name": "ipython",
    "version": 3
   },
   "file_extension": ".py",
   "mimetype": "text/x-python",
   "name": "python",
   "nbconvert_exporter": "python",
   "pygments_lexer": "ipython3",
   "version": "3.11.11"
  }
 },
 "nbformat": 4,
 "nbformat_minor": 5
}
