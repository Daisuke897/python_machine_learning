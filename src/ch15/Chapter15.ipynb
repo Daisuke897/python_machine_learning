{
 "cells": [
  {
   "cell_type": "markdown",
   "id": "7d42e00b-0a69-4c22-8f14-3d38c435f981",
   "metadata": {},
   "source": [
    "# 第15章 画像の分類 ―ディープ畳み込みニューラルネットワーク―"
   ]
  },
  {
   "cell_type": "markdown",
   "id": "d0446507-54f0-45c4-ac11-42332b634084",
   "metadata": {},
   "source": [
    "## 15.1 畳み込みニューラルネットワークの構成要素"
   ]
  },
  {
   "cell_type": "markdown",
   "id": "b82527a0-4338-4850-8cc7-70161688fdb7",
   "metadata": {},
   "source": [
    "### 15.1.1 畳み込みニューラルネットワークと特徴量階層"
   ]
  },
  {
   "cell_type": "markdown",
   "id": "0af86d86-0a6a-4b94-99ba-ed675af92a1c",
   "metadata": {},
   "source": [
    "最初にある方の層は生データから**低レベルの特徴量**を抽出する。"
   ]
  },
  {
   "cell_type": "markdown",
   "id": "d766f63b-cc84-446e-9735-ce9008d805d9",
   "metadata": {},
   "source": [
    "その後の層は連続値の目的変数やクラスレベルを予測する。"
   ]
  },
  {
   "cell_type": "markdown",
   "id": "9717c778-21d4-4ab5-ab1b-e3c2d3125587",
   "metadata": {},
   "source": [
    "CNNは入力画像から**特徴量マップ**を計算する"
   ]
  },
  {
   "cell_type": "markdown",
   "id": "fc74c77b-23e0-499a-8113-4369b3bbcf3b",
   "metadata": {},
   "source": [
    "### 15.1.2 離散畳み込みを実行する"
   ]
  },
  {
   "cell_type": "markdown",
   "id": "b0c800b0-6a71-41d7-8e56-b61954e0301f",
   "metadata": {},
   "source": [
    "### 15.1.3 サブサンプリング層"
   ]
  },
  {
   "cell_type": "markdown",
   "id": "2ef42375-7817-4404-a175-62f260e4b1a2",
   "metadata": {},
   "source": [
    "## 15.2 畳み込みニューラルネットワークを実装する"
   ]
  },
  {
   "cell_type": "markdown",
   "id": "2986d0fe-6681-4efd-90dc-0c1208a9b0c0",
   "metadata": {},
   "source": [
    "### 15.2.1 複数の入力チャネルを操作する"
   ]
  },
  {
   "cell_type": "markdown",
   "id": "91afce43-4b0e-46a0-9a5a-b37ccefbf762",
   "metadata": {},
   "source": [
    "### 15.2.2 ドロップアウトによるニューラルネットワークの正則化"
   ]
  },
  {
   "cell_type": "markdown",
   "id": "40735f67-4ff5-471b-952d-f613f9b9e58e",
   "metadata": {},
   "source": [
    "畳み込みまたは全結合のネットワークでL2正則化を使う方法"
   ]
  },
  {
   "cell_type": "code",
   "execution_count": 2,
   "id": "bc3cdad5-2c8d-437f-a062-7ac04ede23d4",
   "metadata": {},
   "outputs": [],
   "source": [
    "from tensorflow import keras\n",
    "conv_layer = keras.layers.Conv2D(\n",
    "    filters=16,\n",
    "    kernel_size=(3, 3),\n",
    "    kernel_regularizer=keras.regularizers.l2(0.001)\n",
    ")\n",
    "fc_layer = keras.layers.Dense(\n",
    "    units=16,\n",
    "    kernel_regularizer=keras.regularizers.l2(0.001)\n",
    ")"
   ]
  },
  {
   "cell_type": "markdown",
   "id": "0f0455fa-f432-480c-9a3a-329925820d05",
   "metadata": {},
   "source": [
    "**ドロップアウト**と呼ばれる正則化手法が登場している。"
   ]
  },
  {
   "cell_type": "markdown",
   "id": "25642570-8a8b-48e0-bc70-20efb3673ca1",
   "metadata": {},
   "source": [
    "### 15.2.3 分類の損失関数"
   ]
  },
  {
   "cell_type": "markdown",
   "id": "5190c881-e21c-4059-b44b-381a59810e81",
   "metadata": {},
   "source": [
    "- 二値分類 用途：二値分類\n",
    "- 正解ラベルがone-hotエンコーディング形式の多クラス分類 用途：多クラス分類\n",
    "- 正解ラベル整数（疎クラス）の多クラス分類 用途：多クラス分類"
   ]
  },
  {
   "cell_type": "markdown",
   "id": "d26a63b1-48da-472c-9585-9f2b9bb0de2d",
   "metadata": {},
   "source": [
    "数値的安定性を理由に、交差エントロピー損失関数の計算にはクラス所属確率ではなくロジットをていきょうすることが推奨される。"
   ]
  },
  {
   "cell_type": "code",
   "execution_count": 1,
   "id": "6d89ca74-8e7f-4636-9aef-78267f2a1203",
   "metadata": {},
   "outputs": [
    {
     "name": "stderr",
     "output_type": "stream",
     "text": [
      "2025-01-01 07:32:47.982938: I tensorflow/core/platform/cpu_feature_guard.cc:210] This TensorFlow binary is optimized to use available CPU instructions in performance-critical operations.\n",
      "To enable the following instructions: SSE4.1 SSE4.2 AVX AVX2 AVX512F FMA, in other operations, rebuild TensorFlow with the appropriate compiler flags.\n"
     ]
    }
   ],
   "source": [
    "import tensorflow as tf"
   ]
  },
  {
   "cell_type": "code",
   "execution_count": 9,
   "id": "d15e97cb-a06d-48e2-89c4-70c0455b1622",
   "metadata": {},
   "outputs": [
    {
     "name": "stdout",
     "output_type": "stream",
     "text": [
      "BCE (w  Probas): 0.3711 (w Logits): 0.3711\n"
     ]
    }
   ],
   "source": [
    "##### BinaryCrossentropy\n",
    "bce_probas = tf.keras.losses.BinaryCrossentropy(from_logits=False)\n",
    "bce_logits = tf.keras.losses.BinaryCrossentropy(from_logits=True)\n",
    "logits = tf.constant([0.8])\n",
    "probas = tf.keras.activations.sigmoid(logits)\n",
    "tf.print(\"BCE (w  Probas): {:.4f}\".format(bce_probas(y_true=tf.constant([1.0]), y_pred=probas)),\n",
    "        \"(w Logits): {:.4f}\".format(bce_logits(y_true=tf.constant([1.0]), y_pred=logits)))"
   ]
  },
  {
   "cell_type": "code",
   "execution_count": 2,
   "id": "d8d62aed-45aa-4ee1-b157-1d78818ddd34",
   "metadata": {},
   "outputs": [
    {
     "name": "stdout",
     "output_type": "stream",
     "text": [
      "CCE (w  Probas): 0.5996 (w Logits): 0.5996\n"
     ]
    }
   ],
   "source": [
    "##### CategoricalCrossentropy\n",
    "cce_probas = tf.keras.losses.CategoricalCrossentropy(from_logits=False)\n",
    "cce_logits = tf.keras.losses.CategoricalCrossentropy(from_logits=True)\n",
    "logits = tf.constant([1.5, 0.8, 2.1])\n",
    "probas = tf.keras.activations.sigmoid(logits)\n",
    "tf.print(\"CCE (w  Probas): {:.4f}\".format(cce_probas(y_true=tf.constant([0, 0, 1]), y_pred=probas)),\n",
    "        \"(w Logits): {:.4f}\".format(cce_logits(y_true=tf.constant([0, 0, 1]), y_pred=logits)))"
   ]
  },
  {
   "cell_type": "code",
   "execution_count": 3,
   "id": "6992fd0e-dd0c-4caf-951f-5225bca2dba2",
   "metadata": {},
   "outputs": [
    {
     "name": "stdout",
     "output_type": "stream",
     "text": [
      "Sparse CCE (w  Probas): 0.5996 (w Logits): 0.5996\n"
     ]
    }
   ],
   "source": [
    "##### SparseCategoricalCrossentropy\n",
    "sp_cce_probas = tf.keras.losses.SparseCategoricalCrossentropy(from_logits=False)\n",
    "sp_cce_logits = tf.keras.losses.SparseCategoricalCrossentropy(from_logits=True)\n",
    "tf.print(\"Sparse CCE (w  Probas): {:.4f}\".format(sp_cce_probas(y_true=tf.constant([2]), y_pred=probas)),\n",
    "        \"(w Logits): {:.4f}\".format(sp_cce_logits(y_true=tf.constant([2]), y_pred=logits)))"
   ]
  },
  {
   "cell_type": "markdown",
   "id": "3e9fbf8f-0c1d-4731-a01f-9b2a565b2752",
   "metadata": {},
   "source": [
    "## 15.3 TensorFlowを使ってディープ畳み込みニューラルネットワークを実装する"
   ]
  },
  {
   "cell_type": "markdown",
   "id": "e729c9a4-52c7-40c1-8dbc-18885b6d1562",
   "metadata": {},
   "source": [
    "### 15.3.1 多層CNNアーキテクチャ"
   ]
  },
  {
   "cell_type": "markdown",
   "id": "93fe2a42-64c6-49bb-8d5b-4960046c0522",
   "metadata": {},
   "source": [
    "入力は28×28のグレースケール画像である。入力テンソルの次元が「バッチサイズ×28×28×1」である。"
   ]
  },
  {
   "cell_type": "markdown",
   "id": "6a925472-8a8d-425f-9e62-51c8b81e2371",
   "metadata": {},
   "source": [
    "各層のテンソルの次元は次のようになる。"
   ]
  },
  {
   "cell_type": "markdown",
   "id": "8ae0e9e8-c217-403a-a1fe-c82cf07a71e7",
   "metadata": {},
   "source": [
    "- **入力層** バッチサイズ×28×28×1\n",
    "- **畳み込み層1** バッチサイズ×28×28×32\n",
    "- **プーリング層1** バッチサイズ×14×14×32\n",
    "- **畳み込み層2** バッチサイズ×28×28×64\n",
    "- **プーリング層2** バッチサイズ×7×7×64\n",
    "- **全結合層1** バッチサイズ×1024\n",
    "- **全結合層2とソフトマックス層** バッチサイズ×10"
   ]
  },
  {
   "cell_type": "markdown",
   "id": "ddcaf6fe-f221-43d4-b98d-e2408c0cd1b3",
   "metadata": {},
   "source": [
    "### 15.3.2 データの読み込みと前処理"
   ]
  },
  {
   "cell_type": "code",
   "execution_count": 1,
   "id": "58ec8c10-d0c3-4b39-9e4c-1eea120faa36",
   "metadata": {},
   "outputs": [
    {
     "name": "stderr",
     "output_type": "stream",
     "text": [
      "2025-01-01 08:53:19.218628: I tensorflow/core/platform/cpu_feature_guard.cc:210] This TensorFlow binary is optimized to use available CPU instructions in performance-critical operations.\n",
      "To enable the following instructions: SSE4.1 SSE4.2 AVX AVX2 AVX512F FMA, in other operations, rebuild TensorFlow with the appropriate compiler flags.\n"
     ]
    }
   ],
   "source": [
    "import tensorflow_datasets as tfds\n",
    "import tensorflow as tf"
   ]
  },
  {
   "cell_type": "code",
   "execution_count": 2,
   "id": "2ec2b9a7-16c3-454f-9839-2326f170a722",
   "metadata": {},
   "outputs": [
    {
     "name": "stdout",
     "output_type": "stream",
     "text": [
      "sagemaker.config INFO - Not applying SDK defaults from location: /etc/xdg/sagemaker/config.yaml\n",
      "sagemaker.config INFO - Not applying SDK defaults from location: /home/sagemaker-user/.config/sagemaker/config.yaml\n"
     ]
    }
   ],
   "source": [
    "import sagemaker\n",
    "\n",
    "\n",
    "bucket = sagemaker.Session().default_bucket()\n",
    "prefix = \"mnist\"\n",
    "\n",
    "# Define IAM role\n",
    "import boto3\n",
    "import re\n",
    "from sagemaker import get_execution_role\n",
    "\n",
    "role = get_execution_role()"
   ]
  },
  {
   "cell_type": "code",
   "execution_count": 3,
   "id": "da865a7e-b855-4524-a74c-f9fd22d4d9ca",
   "metadata": {},
   "outputs": [],
   "source": [
    "import struct\n",
    "import numpy as np\n",
    "import boto3\n",
    "import io\n",
    "import gzip\n",
    "import pickle\n",
    "from pathlib import Path"
   ]
  },
  {
   "cell_type": "code",
   "execution_count": 4,
   "id": "0d30ba63-8558-4f96-a6b6-ba5b6aa1c6e6",
   "metadata": {},
   "outputs": [],
   "source": [
    "def load_mnist(source_bucket_name, path, kind=\"train\"):\n",
    "    \"\"\"MNISTデータをpathからロード\"\"\"\n",
    "    s3 = boto3.resource(\"s3\")\n",
    "    bucket_minst = s3.Bucket(source_bucket_name)\n",
    "    # 引数に指定したパスを結合\n",
    "    labels_path = Path(path) / f\"{kind}-labels-idx1-ubyte.gz\"\n",
    "    images_path = Path(path) / f\"{kind}-images-idx3-ubyte.gz\"\n",
    "    # ファイルを読み込む：引数にファイル、モードを指定（rbは読み込みのバイナリモード）\n",
    "    with io.BytesIO() as f:\n",
    "        bucket_minst.download_fileobj(str(labels_path), f)\n",
    "        f.seek(0)\n",
    "        with gzip.open(f, mode='rb') as lbpath:\n",
    "            # バイナリを文字列に変換：unpack関数の引数にフォーマット、8バイト分の\n",
    "            # バイナリデータを指定してマジックナンバー、アイテムの個数を読み込む\n",
    "            magic, n = struct.unpack(\">II\", lbpath.read(8))\n",
    "            # ファイルからラベルを読み込み配列を構築：fromfile関数の引数に\n",
    "            # ファイル、配列のデータ形式を指定\n",
    "            labels = np.frombuffer(lbpath.read(), dtype=np.uint8)\n",
    "    with io.BytesIO() as f:\n",
    "        bucket_minst.download_fileobj(str(images_path), f)\n",
    "        f.seek(0)\n",
    "        with gzip.open(f, mode='rb') as imgpath:\n",
    "            magic, num, rows, cols = struct.unpack(\">IIII\", imgpath.read(16))\n",
    "            # 画像ピクセル情報の配列のサイズを変更（行数：ラベルのサイズ、列数：特徴量の個数）\n",
    "            images = np.frombuffer(imgpath.read(), dtype=np.uint8).reshape(len(labels), 28, 28)\n",
    "            images = ((images / 255.) - 0.5) * 2\n",
    "\n",
    "    return images, labels"
   ]
  },
  {
   "cell_type": "code",
   "execution_count": 5,
   "id": "922e3751-0c57-44be-b294-ba20b97807af",
   "metadata": {},
   "outputs": [],
   "source": [
    "x_train_orig, y_train_orig = load_mnist(bucket, prefix, kind=\"train\")\n",
    "\n",
    "x_test_orig, y_test_orig = load_mnist(bucket, prefix, kind=\"t10k\")"
   ]
  },
  {
   "cell_type": "code",
   "execution_count": 6,
   "id": "7c863b1c-52b6-4a6b-ac50-347a7fa27d31",
   "metadata": {},
   "outputs": [
    {
     "data": {
      "text/plain": [
       "(60000,)"
      ]
     },
     "execution_count": 6,
     "metadata": {},
     "output_type": "execute_result"
    }
   ],
   "source": [
    "y_train_orig.shape"
   ]
  },
  {
   "cell_type": "code",
   "execution_count": 7,
   "id": "17b69112-46ed-474f-a59b-c158d2e6bcf1",
   "metadata": {},
   "outputs": [
    {
     "data": {
      "text/plain": [
       "(60000, 28, 28)"
      ]
     },
     "execution_count": 7,
     "metadata": {},
     "output_type": "execute_result"
    }
   ],
   "source": [
    "x_train_orig.shape"
   ]
  },
  {
   "cell_type": "code",
   "execution_count": 8,
   "id": "5a89007b-6fb7-47b5-b97a-0119263dbdfc",
   "metadata": {},
   "outputs": [
    {
     "data": {
      "text/plain": [
       "(10000,)"
      ]
     },
     "execution_count": 8,
     "metadata": {},
     "output_type": "execute_result"
    }
   ],
   "source": [
    "y_test_orig.shape"
   ]
  },
  {
   "cell_type": "code",
   "execution_count": 9,
   "id": "d924a4b1-2298-4d8c-b218-951f8c092405",
   "metadata": {},
   "outputs": [
    {
     "data": {
      "text/plain": [
       "(10000, 28, 28)"
      ]
     },
     "execution_count": 9,
     "metadata": {},
     "output_type": "execute_result"
    }
   ],
   "source": [
    "x_test_orig.shape"
   ]
  },
  {
   "cell_type": "code",
   "execution_count": 10,
   "id": "1bf89c5c-d54e-4282-8e8b-e982a7e48702",
   "metadata": {},
   "outputs": [
    {
     "name": "stderr",
     "output_type": "stream",
     "text": [
      "2025-01-01 08:53:32.228909: W external/local_tsl/tsl/framework/cpu_allocator_impl.cc:83] Allocation of 376320000 exceeds 10% of free system memory.\n"
     ]
    }
   ],
   "source": [
    "mnist_train = tf.data.Dataset.from_tensor_slices((x_train_orig, y_train_orig))"
   ]
  },
  {
   "cell_type": "code",
   "execution_count": 11,
   "id": "6fd324ca-fda3-4e81-a06b-941f585eaeeb",
   "metadata": {},
   "outputs": [
    {
     "name": "stderr",
     "output_type": "stream",
     "text": [
      "2025-01-01 08:53:32.890154: W external/local_tsl/tsl/framework/cpu_allocator_impl.cc:83] Allocation of 62720000 exceeds 10% of free system memory.\n"
     ]
    }
   ],
   "source": [
    "mnist_test = tf.data.Dataset.from_tensor_slices((x_test_orig, y_test_orig))"
   ]
  },
  {
   "cell_type": "code",
   "execution_count": 12,
   "id": "0a6bb948-ee51-41e2-8342-686dd230cea6",
   "metadata": {},
   "outputs": [],
   "source": [
    "BUFFER_SIZE = 10000\n",
    "BATCH_SIZE = 64\n",
    "NUM_EPOCHS = 20"
   ]
  },
  {
   "cell_type": "code",
   "execution_count": 13,
   "id": "88274c24-115b-47df-a2ef-a8b26edc6336",
   "metadata": {},
   "outputs": [],
   "source": [
    "mnist_train = mnist_train.shuffle(buffer_size=BUFFER_SIZE,\n",
    "                                 reshuffle_each_iteration=False)\n",
    "mnist_valid = mnist_train.take(10000).batch(BATCH_SIZE)\n",
    "mnist_train = mnist_train.skip(10000).batch(BATCH_SIZE)"
   ]
  },
  {
   "cell_type": "code",
   "execution_count": 14,
   "id": "922b0b50-1ae2-4047-81a0-afa47e9a95d6",
   "metadata": {},
   "outputs": [
    {
     "data": {
      "text/plain": [
       "<_BatchDataset element_spec=(TensorSpec(shape=(None, 28, 28), dtype=tf.float64, name=None), TensorSpec(shape=(None,), dtype=tf.uint8, name=None))>"
      ]
     },
     "execution_count": 14,
     "metadata": {},
     "output_type": "execute_result"
    }
   ],
   "source": [
    "mnist_train"
   ]
  },
  {
   "cell_type": "code",
   "execution_count": 15,
   "id": "fa2211e1-a972-465d-aecc-aa038954ad27",
   "metadata": {},
   "outputs": [
    {
     "data": {
      "text/plain": [
       "<_BatchDataset element_spec=(TensorSpec(shape=(None, 28, 28), dtype=tf.float64, name=None), TensorSpec(shape=(None,), dtype=tf.uint8, name=None))>"
      ]
     },
     "execution_count": 15,
     "metadata": {},
     "output_type": "execute_result"
    }
   ],
   "source": [
    "mnist_valid"
   ]
  },
  {
   "cell_type": "markdown",
   "id": "b5763084-bd47-4965-a52f-b67f6e98eb83",
   "metadata": {},
   "source": [
    "### 15.3.3 TensorFlow Keras APIを使ってCNNを実装する"
   ]
  },
  {
   "cell_type": "code",
   "execution_count": 16,
   "id": "29cb5a0c-c939-446c-b159-23d21b2fb13b",
   "metadata": {},
   "outputs": [],
   "source": [
    "model = tf.keras.Sequential()\n",
    "model.add(tf.keras.layers.Conv2D(filters=32, kernel_size=(5, 5), strides=(1, 1),\n",
    "                                padding=\"same\", data_format=\"channels_last\",\n",
    "                                name=\"conv_1\", activation=\"relu\"))\n",
    "model.add(tf.keras.layers.MaxPool2D(pool_size=(2, 2), name=\"pool_1\"))\n",
    "model.add(tf.keras.layers.Conv2D(filters=64, kernel_size=(5, 5), strides=(1, 1),\n",
    "                                 padding=\"same\", name=\"conv_2\", activation=\"relu\"))\n",
    "model.add(tf.keras.layers.MaxPool2D(pool_size=(2, 2), name=\"pool_2\"))"
   ]
  },
  {
   "cell_type": "code",
   "execution_count": 17,
   "id": "e12cbc2d-46e4-4725-a53b-6bc131199366",
   "metadata": {},
   "outputs": [
    {
     "data": {
      "text/plain": [
       "(16, 7, 7, 64)"
      ]
     },
     "execution_count": 17,
     "metadata": {},
     "output_type": "execute_result"
    }
   ],
   "source": [
    "model.compute_output_shape(input_shape=(16, 28, 28, 1))"
   ]
  },
  {
   "cell_type": "code",
   "execution_count": 18,
   "id": "19d4481f-fef5-4bef-8c98-5e67b0287dac",
   "metadata": {},
   "outputs": [
    {
     "data": {
      "text/plain": [
       "(16, 3136)"
      ]
     },
     "execution_count": 18,
     "metadata": {},
     "output_type": "execute_result"
    }
   ],
   "source": [
    "model.add(tf.keras.layers.Flatten())\n",
    "model.compute_output_shape(input_shape=(16, 28, 28, 1))"
   ]
  },
  {
   "cell_type": "code",
   "execution_count": 19,
   "id": "57d5d635-5e89-47ce-81cf-fa1f0c252505",
   "metadata": {},
   "outputs": [],
   "source": [
    "model.add(tf.keras.layers.Dense(units=1024, name=\"fc_1\", activation=\"relu\"))\n",
    "model.add(tf.keras.layers.Dropout(rate=0.5))\n",
    "model.add(tf.keras.layers.Dense(units=10, name=\"fc_2\", activation=\"softmax\"))"
   ]
  },
  {
   "cell_type": "code",
   "execution_count": 20,
   "id": "446e6a58-010c-4ee6-8b8e-62dbd0686e56",
   "metadata": {},
   "outputs": [
    {
     "name": "stderr",
     "output_type": "stream",
     "text": [
      "2025-01-01 08:53:48.142323: W external/local_tsl/tsl/framework/cpu_allocator_impl.cc:83] Allocation of 12845056 exceeds 10% of free system memory.\n",
      "2025-01-01 08:53:48.161619: W external/local_tsl/tsl/framework/cpu_allocator_impl.cc:83] Allocation of 12845056 exceeds 10% of free system memory.\n",
      "2025-01-01 08:53:48.169981: W external/local_tsl/tsl/framework/cpu_allocator_impl.cc:83] Allocation of 12845056 exceeds 10% of free system memory.\n"
     ]
    }
   ],
   "source": [
    "tf.random.set_seed(1)\n",
    "model.build(input_shape=(None, 28, 28, 1))\n",
    "model.compile(optimizer=tf.keras.optimizers.Adam(),\n",
    "             loss=tf.keras.losses.SparseCategoricalCrossentropy(),\n",
    "             metrics=[\"accuracy\"])"
   ]
  },
  {
   "cell_type": "code",
   "execution_count": 21,
   "id": "47e5f51d-086a-4153-9f82-cfd4a823ad57",
   "metadata": {},
   "outputs": [
    {
     "data": {
      "text/html": [
       "<pre style=\"white-space:pre;overflow-x:auto;line-height:normal;font-family:Menlo,'DejaVu Sans Mono',consolas,'Courier New',monospace\"><span style=\"font-weight: bold\">Model: \"sequential\"</span>\n",
       "</pre>\n"
      ],
      "text/plain": [
       "\u001b[1mModel: \"sequential\"\u001b[0m\n"
      ]
     },
     "metadata": {},
     "output_type": "display_data"
    },
    {
     "data": {
      "text/html": [
       "<pre style=\"white-space:pre;overflow-x:auto;line-height:normal;font-family:Menlo,'DejaVu Sans Mono',consolas,'Courier New',monospace\">┏━━━━━━━━━━━━━━━━━━━━━━━━━━━━━━━━━┳━━━━━━━━━━━━━━━━━━━━━━━━┳━━━━━━━━━━━━━━━┓\n",
       "┃<span style=\"font-weight: bold\"> Layer (type)                    </span>┃<span style=\"font-weight: bold\"> Output Shape           </span>┃<span style=\"font-weight: bold\">       Param # </span>┃\n",
       "┡━━━━━━━━━━━━━━━━━━━━━━━━━━━━━━━━━╇━━━━━━━━━━━━━━━━━━━━━━━━╇━━━━━━━━━━━━━━━┩\n",
       "│ conv_1 (<span style=\"color: #0087ff; text-decoration-color: #0087ff\">Conv2D</span>)                 │ (<span style=\"color: #00d7ff; text-decoration-color: #00d7ff\">None</span>, <span style=\"color: #00af00; text-decoration-color: #00af00\">28</span>, <span style=\"color: #00af00; text-decoration-color: #00af00\">28</span>, <span style=\"color: #00af00; text-decoration-color: #00af00\">32</span>)     │           <span style=\"color: #00af00; text-decoration-color: #00af00\">832</span> │\n",
       "├─────────────────────────────────┼────────────────────────┼───────────────┤\n",
       "│ pool_1 (<span style=\"color: #0087ff; text-decoration-color: #0087ff\">MaxPooling2D</span>)           │ (<span style=\"color: #00d7ff; text-decoration-color: #00d7ff\">None</span>, <span style=\"color: #00af00; text-decoration-color: #00af00\">14</span>, <span style=\"color: #00af00; text-decoration-color: #00af00\">14</span>, <span style=\"color: #00af00; text-decoration-color: #00af00\">32</span>)     │             <span style=\"color: #00af00; text-decoration-color: #00af00\">0</span> │\n",
       "├─────────────────────────────────┼────────────────────────┼───────────────┤\n",
       "│ conv_2 (<span style=\"color: #0087ff; text-decoration-color: #0087ff\">Conv2D</span>)                 │ (<span style=\"color: #00d7ff; text-decoration-color: #00d7ff\">None</span>, <span style=\"color: #00af00; text-decoration-color: #00af00\">14</span>, <span style=\"color: #00af00; text-decoration-color: #00af00\">14</span>, <span style=\"color: #00af00; text-decoration-color: #00af00\">64</span>)     │        <span style=\"color: #00af00; text-decoration-color: #00af00\">51,264</span> │\n",
       "├─────────────────────────────────┼────────────────────────┼───────────────┤\n",
       "│ pool_2 (<span style=\"color: #0087ff; text-decoration-color: #0087ff\">MaxPooling2D</span>)           │ (<span style=\"color: #00d7ff; text-decoration-color: #00d7ff\">None</span>, <span style=\"color: #00af00; text-decoration-color: #00af00\">7</span>, <span style=\"color: #00af00; text-decoration-color: #00af00\">7</span>, <span style=\"color: #00af00; text-decoration-color: #00af00\">64</span>)       │             <span style=\"color: #00af00; text-decoration-color: #00af00\">0</span> │\n",
       "├─────────────────────────────────┼────────────────────────┼───────────────┤\n",
       "│ flatten (<span style=\"color: #0087ff; text-decoration-color: #0087ff\">Flatten</span>)               │ (<span style=\"color: #00d7ff; text-decoration-color: #00d7ff\">None</span>, <span style=\"color: #00af00; text-decoration-color: #00af00\">3136</span>)           │             <span style=\"color: #00af00; text-decoration-color: #00af00\">0</span> │\n",
       "├─────────────────────────────────┼────────────────────────┼───────────────┤\n",
       "│ fc_1 (<span style=\"color: #0087ff; text-decoration-color: #0087ff\">Dense</span>)                    │ (<span style=\"color: #00d7ff; text-decoration-color: #00d7ff\">None</span>, <span style=\"color: #00af00; text-decoration-color: #00af00\">1024</span>)           │     <span style=\"color: #00af00; text-decoration-color: #00af00\">3,212,288</span> │\n",
       "├─────────────────────────────────┼────────────────────────┼───────────────┤\n",
       "│ dropout (<span style=\"color: #0087ff; text-decoration-color: #0087ff\">Dropout</span>)               │ (<span style=\"color: #00d7ff; text-decoration-color: #00d7ff\">None</span>, <span style=\"color: #00af00; text-decoration-color: #00af00\">1024</span>)           │             <span style=\"color: #00af00; text-decoration-color: #00af00\">0</span> │\n",
       "├─────────────────────────────────┼────────────────────────┼───────────────┤\n",
       "│ fc_2 (<span style=\"color: #0087ff; text-decoration-color: #0087ff\">Dense</span>)                    │ (<span style=\"color: #00d7ff; text-decoration-color: #00d7ff\">None</span>, <span style=\"color: #00af00; text-decoration-color: #00af00\">10</span>)             │        <span style=\"color: #00af00; text-decoration-color: #00af00\">10,250</span> │\n",
       "└─────────────────────────────────┴────────────────────────┴───────────────┘\n",
       "</pre>\n"
      ],
      "text/plain": [
       "┏━━━━━━━━━━━━━━━━━━━━━━━━━━━━━━━━━┳━━━━━━━━━━━━━━━━━━━━━━━━┳━━━━━━━━━━━━━━━┓\n",
       "┃\u001b[1m \u001b[0m\u001b[1mLayer (type)                   \u001b[0m\u001b[1m \u001b[0m┃\u001b[1m \u001b[0m\u001b[1mOutput Shape          \u001b[0m\u001b[1m \u001b[0m┃\u001b[1m \u001b[0m\u001b[1m      Param #\u001b[0m\u001b[1m \u001b[0m┃\n",
       "┡━━━━━━━━━━━━━━━━━━━━━━━━━━━━━━━━━╇━━━━━━━━━━━━━━━━━━━━━━━━╇━━━━━━━━━━━━━━━┩\n",
       "│ conv_1 (\u001b[38;5;33mConv2D\u001b[0m)                 │ (\u001b[38;5;45mNone\u001b[0m, \u001b[38;5;34m28\u001b[0m, \u001b[38;5;34m28\u001b[0m, \u001b[38;5;34m32\u001b[0m)     │           \u001b[38;5;34m832\u001b[0m │\n",
       "├─────────────────────────────────┼────────────────────────┼───────────────┤\n",
       "│ pool_1 (\u001b[38;5;33mMaxPooling2D\u001b[0m)           │ (\u001b[38;5;45mNone\u001b[0m, \u001b[38;5;34m14\u001b[0m, \u001b[38;5;34m14\u001b[0m, \u001b[38;5;34m32\u001b[0m)     │             \u001b[38;5;34m0\u001b[0m │\n",
       "├─────────────────────────────────┼────────────────────────┼───────────────┤\n",
       "│ conv_2 (\u001b[38;5;33mConv2D\u001b[0m)                 │ (\u001b[38;5;45mNone\u001b[0m, \u001b[38;5;34m14\u001b[0m, \u001b[38;5;34m14\u001b[0m, \u001b[38;5;34m64\u001b[0m)     │        \u001b[38;5;34m51,264\u001b[0m │\n",
       "├─────────────────────────────────┼────────────────────────┼───────────────┤\n",
       "│ pool_2 (\u001b[38;5;33mMaxPooling2D\u001b[0m)           │ (\u001b[38;5;45mNone\u001b[0m, \u001b[38;5;34m7\u001b[0m, \u001b[38;5;34m7\u001b[0m, \u001b[38;5;34m64\u001b[0m)       │             \u001b[38;5;34m0\u001b[0m │\n",
       "├─────────────────────────────────┼────────────────────────┼───────────────┤\n",
       "│ flatten (\u001b[38;5;33mFlatten\u001b[0m)               │ (\u001b[38;5;45mNone\u001b[0m, \u001b[38;5;34m3136\u001b[0m)           │             \u001b[38;5;34m0\u001b[0m │\n",
       "├─────────────────────────────────┼────────────────────────┼───────────────┤\n",
       "│ fc_1 (\u001b[38;5;33mDense\u001b[0m)                    │ (\u001b[38;5;45mNone\u001b[0m, \u001b[38;5;34m1024\u001b[0m)           │     \u001b[38;5;34m3,212,288\u001b[0m │\n",
       "├─────────────────────────────────┼────────────────────────┼───────────────┤\n",
       "│ dropout (\u001b[38;5;33mDropout\u001b[0m)               │ (\u001b[38;5;45mNone\u001b[0m, \u001b[38;5;34m1024\u001b[0m)           │             \u001b[38;5;34m0\u001b[0m │\n",
       "├─────────────────────────────────┼────────────────────────┼───────────────┤\n",
       "│ fc_2 (\u001b[38;5;33mDense\u001b[0m)                    │ (\u001b[38;5;45mNone\u001b[0m, \u001b[38;5;34m10\u001b[0m)             │        \u001b[38;5;34m10,250\u001b[0m │\n",
       "└─────────────────────────────────┴────────────────────────┴───────────────┘\n"
      ]
     },
     "metadata": {},
     "output_type": "display_data"
    },
    {
     "data": {
      "text/html": [
       "<pre style=\"white-space:pre;overflow-x:auto;line-height:normal;font-family:Menlo,'DejaVu Sans Mono',consolas,'Courier New',monospace\"><span style=\"font-weight: bold\"> Total params: </span><span style=\"color: #00af00; text-decoration-color: #00af00\">3,274,634</span> (12.49 MB)\n",
       "</pre>\n"
      ],
      "text/plain": [
       "\u001b[1m Total params: \u001b[0m\u001b[38;5;34m3,274,634\u001b[0m (12.49 MB)\n"
      ]
     },
     "metadata": {},
     "output_type": "display_data"
    },
    {
     "data": {
      "text/html": [
       "<pre style=\"white-space:pre;overflow-x:auto;line-height:normal;font-family:Menlo,'DejaVu Sans Mono',consolas,'Courier New',monospace\"><span style=\"font-weight: bold\"> Trainable params: </span><span style=\"color: #00af00; text-decoration-color: #00af00\">3,274,634</span> (12.49 MB)\n",
       "</pre>\n"
      ],
      "text/plain": [
       "\u001b[1m Trainable params: \u001b[0m\u001b[38;5;34m3,274,634\u001b[0m (12.49 MB)\n"
      ]
     },
     "metadata": {},
     "output_type": "display_data"
    },
    {
     "data": {
      "text/html": [
       "<pre style=\"white-space:pre;overflow-x:auto;line-height:normal;font-family:Menlo,'DejaVu Sans Mono',consolas,'Courier New',monospace\"><span style=\"font-weight: bold\"> Non-trainable params: </span><span style=\"color: #00af00; text-decoration-color: #00af00\">0</span> (0.00 B)\n",
       "</pre>\n"
      ],
      "text/plain": [
       "\u001b[1m Non-trainable params: \u001b[0m\u001b[38;5;34m0\u001b[0m (0.00 B)\n"
      ]
     },
     "metadata": {},
     "output_type": "display_data"
    }
   ],
   "source": [
    "model.summary()"
   ]
  },
  {
   "cell_type": "code",
   "execution_count": 22,
   "id": "fbacfe55-1857-446e-9ffe-0e3bbd8bfc31",
   "metadata": {},
   "outputs": [
    {
     "name": "stdout",
     "output_type": "stream",
     "text": [
      "Epoch 1/20\n",
      "\u001b[1m782/782\u001b[0m \u001b[32m━━━━━━━━━━━━━━━━━━━━\u001b[0m\u001b[37m\u001b[0m \u001b[1m174s\u001b[0m 220ms/step - accuracy: 0.8979 - loss: 0.3232 - val_accuracy: 0.9828 - val_loss: 0.0541\n",
      "Epoch 2/20\n",
      "\u001b[1m782/782\u001b[0m \u001b[32m━━━━━━━━━━━━━━━━━━━━\u001b[0m\u001b[37m\u001b[0m \u001b[1m192s\u001b[0m 246ms/step - accuracy: 0.9840 - loss: 0.0515 - val_accuracy: 0.9815 - val_loss: 0.0632\n",
      "Epoch 3/20\n",
      "\u001b[1m782/782\u001b[0m \u001b[32m━━━━━━━━━━━━━━━━━━━━\u001b[0m\u001b[37m\u001b[0m \u001b[1m163s\u001b[0m 196ms/step - accuracy: 0.9885 - loss: 0.0369 - val_accuracy: 0.9814 - val_loss: 0.0631\n",
      "Epoch 4/20\n",
      "\u001b[1m782/782\u001b[0m \u001b[32m━━━━━━━━━━━━━━━━━━━━\u001b[0m\u001b[37m\u001b[0m \u001b[1m133s\u001b[0m 169ms/step - accuracy: 0.9923 - loss: 0.0240 - val_accuracy: 0.9808 - val_loss: 0.0646\n",
      "Epoch 5/20\n",
      "\u001b[1m782/782\u001b[0m \u001b[32m━━━━━━━━━━━━━━━━━━━━\u001b[0m\u001b[37m\u001b[0m \u001b[1m131s\u001b[0m 168ms/step - accuracy: 0.9944 - loss: 0.0182 - val_accuracy: 0.9799 - val_loss: 0.0785\n",
      "Epoch 6/20\n",
      "\u001b[1m782/782\u001b[0m \u001b[32m━━━━━━━━━━━━━━━━━━━━\u001b[0m\u001b[37m\u001b[0m \u001b[1m132s\u001b[0m 169ms/step - accuracy: 0.9932 - loss: 0.0186 - val_accuracy: 0.9875 - val_loss: 0.0523\n",
      "Epoch 7/20\n",
      "\u001b[1m782/782\u001b[0m \u001b[32m━━━━━━━━━━━━━━━━━━━━\u001b[0m\u001b[37m\u001b[0m \u001b[1m140s\u001b[0m 179ms/step - accuracy: 0.9948 - loss: 0.0145 - val_accuracy: 0.9842 - val_loss: 0.0763\n",
      "Epoch 8/20\n",
      "\u001b[1m782/782\u001b[0m \u001b[32m━━━━━━━━━━━━━━━━━━━━\u001b[0m\u001b[37m\u001b[0m \u001b[1m168s\u001b[0m 215ms/step - accuracy: 0.9956 - loss: 0.0131 - val_accuracy: 0.9826 - val_loss: 0.0823\n",
      "Epoch 9/20\n",
      "\u001b[1m782/782\u001b[0m \u001b[32m━━━━━━━━━━━━━━━━━━━━\u001b[0m\u001b[37m\u001b[0m \u001b[1m234s\u001b[0m 256ms/step - accuracy: 0.9953 - loss: 0.0162 - val_accuracy: 0.9897 - val_loss: 0.0456\n",
      "Epoch 10/20\n",
      "\u001b[1m782/782\u001b[0m \u001b[32m━━━━━━━━━━━━━━━━━━━━\u001b[0m\u001b[37m\u001b[0m \u001b[1m153s\u001b[0m 195ms/step - accuracy: 0.9968 - loss: 0.0092 - val_accuracy: 0.9887 - val_loss: 0.0482\n",
      "Epoch 11/20\n",
      "\u001b[1m782/782\u001b[0m \u001b[32m━━━━━━━━━━━━━━━━━━━━\u001b[0m\u001b[37m\u001b[0m \u001b[1m133s\u001b[0m 169ms/step - accuracy: 0.9965 - loss: 0.0113 - val_accuracy: 0.9896 - val_loss: 0.0474\n",
      "Epoch 12/20\n",
      "\u001b[1m782/782\u001b[0m \u001b[32m━━━━━━━━━━━━━━━━━━━━\u001b[0m\u001b[37m\u001b[0m \u001b[1m134s\u001b[0m 171ms/step - accuracy: 0.9971 - loss: 0.0089 - val_accuracy: 0.9901 - val_loss: 0.0416\n",
      "Epoch 13/20\n",
      "\u001b[1m782/782\u001b[0m \u001b[32m━━━━━━━━━━━━━━━━━━━━\u001b[0m\u001b[37m\u001b[0m \u001b[1m142s\u001b[0m 172ms/step - accuracy: 0.9980 - loss: 0.0062 - val_accuracy: 0.9839 - val_loss: 0.0586\n",
      "Epoch 14/20\n",
      "\u001b[1m782/782\u001b[0m \u001b[32m━━━━━━━━━━━━━━━━━━━━\u001b[0m\u001b[37m\u001b[0m \u001b[1m133s\u001b[0m 170ms/step - accuracy: 0.9965 - loss: 0.0126 - val_accuracy: 0.9920 - val_loss: 0.0409\n",
      "Epoch 15/20\n",
      "\u001b[1m782/782\u001b[0m \u001b[32m━━━━━━━━━━━━━━━━━━━━\u001b[0m\u001b[37m\u001b[0m \u001b[1m144s\u001b[0m 173ms/step - accuracy: 0.9973 - loss: 0.0074 - val_accuracy: 0.9888 - val_loss: 0.0566\n",
      "Epoch 16/20\n",
      "\u001b[1m782/782\u001b[0m \u001b[32m━━━━━━━━━━━━━━━━━━━━\u001b[0m\u001b[37m\u001b[0m \u001b[1m135s\u001b[0m 172ms/step - accuracy: 0.9977 - loss: 0.0071 - val_accuracy: 0.9886 - val_loss: 0.0584\n",
      "Epoch 17/20\n",
      "\u001b[1m782/782\u001b[0m \u001b[32m━━━━━━━━━━━━━━━━━━━━\u001b[0m\u001b[37m\u001b[0m \u001b[1m136s\u001b[0m 174ms/step - accuracy: 0.9983 - loss: 0.0060 - val_accuracy: 0.9902 - val_loss: 0.0543\n",
      "Epoch 18/20\n",
      "\u001b[1m782/782\u001b[0m \u001b[32m━━━━━━━━━━━━━━━━━━━━\u001b[0m\u001b[37m\u001b[0m \u001b[1m133s\u001b[0m 171ms/step - accuracy: 0.9978 - loss: 0.0066 - val_accuracy: 0.9898 - val_loss: 0.0548\n",
      "Epoch 19/20\n",
      "\u001b[1m782/782\u001b[0m \u001b[32m━━━━━━━━━━━━━━━━━━━━\u001b[0m\u001b[37m\u001b[0m \u001b[1m134s\u001b[0m 171ms/step - accuracy: 0.9981 - loss: 0.0056 - val_accuracy: 0.9904 - val_loss: 0.0620\n",
      "Epoch 20/20\n",
      "\u001b[1m782/782\u001b[0m \u001b[32m━━━━━━━━━━━━━━━━━━━━\u001b[0m\u001b[37m\u001b[0m \u001b[1m138s\u001b[0m 166ms/step - accuracy: 0.9983 - loss: 0.0062 - val_accuracy: 0.9891 - val_loss: 0.0643\n"
     ]
    }
   ],
   "source": [
    "history = model.fit(mnist_train,\n",
    "                   epochs=NUM_EPOCHS,\n",
    "                   validation_data=mnist_valid,\n",
    "                   shuffle=True)"
   ]
  },
  {
   "cell_type": "code",
   "execution_count": 26,
   "id": "0d2a7f3e-1a70-44ca-94b5-2b11c920531f",
   "metadata": {},
   "outputs": [],
   "source": [
    "model.save(\"./models/my_mnist_model.keras\")"
   ]
  },
  {
   "cell_type": "code",
   "execution_count": 27,
   "id": "ffaca73e-8908-4dee-8b6c-980e4ec41502",
   "metadata": {},
   "outputs": [
    {
     "data": {
      "image/png": "[encoded data removed]",
      "text/plain": [
       "<Figure size 1200x400 with 2 Axes>"
      ]
     },
     "metadata": {},
     "output_type": "display_data"
    }
   ],
   "source": [
    "import matplotlib.pyplot as plt\n",
    "hist = history.history\n",
    "x_arr = np.arange(len(hist[\"loss\"])) + 1\n",
    "fig = plt.figure(figsize=(12, 4))\n",
    "ax = fig.add_subplot(1, 2, 1)\n",
    "ax.plot(x_arr, hist[\"loss\"], \"-o\", label=\"Train loss\")\n",
    "ax.plot(x_arr, hist[\"val_loss\"], \"--<\", label=\"Validation loss\")\n",
    "ax.set_xlabel(\"Epoch\", size=15)\n",
    "ax.set_ylabel(\"Loss\", size=15)\n",
    "ax.legend(fontsize=15)\n",
    "ax = fig.add_subplot(1, 2, 2)\n",
    "ax.plot(x_arr, hist[\"accuracy\"], \"-o\", label=\"Train acc.\")\n",
    "ax.plot(x_arr, hist[\"val_accuracy\"], \"--<\", label=\"Validation acc.\")\n",
    "ax.set_xlabel(\"Epoch\", size=15)\n",
    "ax.set_ylabel(\"Accuracy\", size=15)\n",
    "ax.legend(fontsize=15)\n",
    "plt.show()"
   ]
  },
  {
   "cell_type": "markdown",
   "id": "d190aab6-4d1b-4ca8-b4df-216f90b0fd8c",
   "metadata": {},
   "source": [
    "訓練したモデルをテストデータセットで評価するには`evaluate`メゾットを呼び出す。"
   ]
  },
  {
   "cell_type": "code",
   "execution_count": 28,
   "id": "31d9a73f-7179-4a24-9fc0-ddb5f55ee6c2",
   "metadata": {},
   "outputs": [
    {
     "name": "stdout",
     "output_type": "stream",
     "text": [
      "\u001b[1m500/500\u001b[0m \u001b[32m━━━━━━━━━━━━━━━━━━━━\u001b[0m\u001b[37m\u001b[0m \u001b[1m8s\u001b[0m 15ms/step - accuracy: 0.9861 - loss: 0.0846\n",
      "Test Acc.: 98.92%\n"
     ]
    }
   ],
   "source": [
    "test_results = model.evaluate(mnist_test.batch(20))\n",
    "print(\"Test Acc.: {:.2f}%\".format(test_results[1] * 100))"
   ]
  },
  {
   "cell_type": "code",
   "execution_count": 29,
   "id": "95d48950-83e2-41b4-918d-26010910c281",
   "metadata": {},
   "outputs": [
    {
     "name": "stdout",
     "output_type": "stream",
     "text": [
      "TensorShape([12, 10])\n"
     ]
    }
   ],
   "source": [
    "batch_test = next(iter(mnist_test.batch(12)))\n",
    "preds = model(batch_test[0])\n",
    "tf.print(preds.shape)"
   ]
  },
  {
   "cell_type": "code",
   "execution_count": 30,
   "id": "89a453cd-5bf6-4731-a4cd-39b8bf288a6c",
   "metadata": {},
   "outputs": [
    {
     "name": "stdout",
     "output_type": "stream",
     "text": [
      "tf.Tensor([7 2 1 0 4 1 4 9 5 9 0 6], shape=(12,), dtype=int64)\n"
     ]
    }
   ],
   "source": [
    "preds = tf.argmax(preds, axis=1)\n",
    "print(preds)"
   ]
  },
  {
   "cell_type": "code",
   "execution_count": 37,
   "id": "4dc27208-366e-4f07-a03c-a5b92b7755de",
   "metadata": {},
   "outputs": [
    {
     "data": {
      "image/png": "[encoded data removed]",
      "text/plain": [
       "<Figure size 1200x400 with 12 Axes>"
      ]
     },
     "metadata": {},
     "output_type": "display_data"
    }
   ],
   "source": [
    "fig = plt.figure(figsize=(12, 4))\n",
    "for i in range(12):\n",
    "    ax = fig.add_subplot(2, 6, i+1)\n",
    "    ax.set_xticks([])\n",
    "    ax.set_yticks([])\n",
    "    img = batch_test[0][i, :, :]\n",
    "    ax.imshow(img, cmap=\"gray_r\")\n",
    "    ax.text(0.9, 0.1, \"{}\".format(preds[i]), size=15, color=\"blue\",\n",
    "           horizontalalignment=\"center\", verticalalignment=\"center\",\n",
    "           transform=ax.transAxes)\n",
    "\n",
    "plt.show()"
   ]
  },
  {
   "cell_type": "markdown",
   "id": "eade733f-3407-47c1-95e4-0a1e9dae334e",
   "metadata": {},
   "source": [
    "## 15.4 CNNを使って顔画像から性別を予測する"
   ]
  },
  {
   "cell_type": "markdown",
   "id": "251460b4-b2ad-42a1-9d30-426be204be2d",
   "metadata": {},
   "source": [
    "### 15.4.1 CelebA データセットを読み込む"
   ]
  },
  {
   "cell_type": "code",
   "execution_count": 1,
   "id": "e80a0124-36aa-406f-b7be-05d8fa951358",
   "metadata": {},
   "outputs": [
    {
     "name": "stderr",
     "output_type": "stream",
     "text": [
      "2025-01-02 10:37:59.276134: I tensorflow/core/platform/cpu_feature_guard.cc:210] This TensorFlow binary is optimized to use available CPU instructions in performance-critical operations.\n",
      "To enable the following instructions: SSE4.1 SSE4.2 AVX AVX2 AVX512F FMA, in other operations, rebuild TensorFlow with the appropriate compiler flags.\n"
     ]
    }
   ],
   "source": [
    "import tensorflow as tf"
   ]
  },
  {
   "cell_type": "markdown",
   "id": "4c9c1108-fb45-404f-aa82-23f4962008b0",
   "metadata": {},
   "source": [
    "CelebAデータセットは、訓練データセット、検証データセット、テストデータセットに分かれている。"
   ]
  },
  {
   "cell_type": "code",
   "execution_count": 14,
   "id": "75def280-6b76-45b1-a077-b379d17eff01",
   "metadata": {},
   "outputs": [],
   "source": [
    "import sagemaker\n",
    "\n",
    "\n",
    "bucket = sagemaker.Session().default_bucket()\n",
    "prefix = \"Celeb_A\"\n",
    "\n",
    "# Define IAM role\n",
    "import boto3\n",
    "import re\n",
    "from sagemaker import get_execution_role\n",
    "\n",
    "role = get_execution_role()"
   ]
  },
  {
   "cell_type": "code",
   "execution_count": 21,
   "id": "1708c182-2f5f-4671-8952-268c59ba7731",
   "metadata": {},
   "outputs": [],
   "source": [
    "from pathlib import Path"
   ]
  },
  {
   "cell_type": "code",
   "execution_count": 13,
   "id": "634a9084-2eb3-49f5-a84d-3a156b5bd7e1",
   "metadata": {},
   "outputs": [
    {
     "name": "stdout",
     "output_type": "stream",
     "text": [
      "sagemaker-ap-northeast-1-202533513976\n"
     ]
    }
   ],
   "source": [
    "print(bucket)"
   ]
  },
  {
   "cell_type": "markdown",
   "id": "27a0cf55-3574-4501-8a8d-16508af25069",
   "metadata": {},
   "source": [
    "S3からデータセットをダウンロードする。"
   ]
  },
  {
   "cell_type": "code",
   "execution_count": 3,
   "id": "418ca2e9-faa6-4979-9795-6984a5a4aa20",
   "metadata": {},
   "outputs": [],
   "source": [
    "s3 = boto3.resource(\"s3\")\n",
    "bucket_minst = s3.Bucket(bucket)"
   ]
  },
  {
   "cell_type": "code",
   "execution_count": 18,
   "id": "05f8e74c-4645-4cf4-a9a7-b122269a755b",
   "metadata": {},
   "outputs": [],
   "source": [
    "prefix_path = \"Celeb_A/\""
   ]
  },
  {
   "cell_type": "code",
   "execution_count": 39,
   "id": "8fa68afd-8100-4b6f-b219-39e9e2dcf152",
   "metadata": {},
   "outputs": [],
   "source": [
    "download_path = Path(\"/home/sagemaker-user/tensorflow_datasets/celeb_a/2.0.1/\").resolve()"
   ]
  },
  {
   "cell_type": "code",
   "execution_count": 47,
   "id": "891598ee-7a6d-47e8-a8d9-baab0913fdb9",
   "metadata": {},
   "outputs": [],
   "source": [
    "for obj in bucket_minst.objects.filter(Prefix=prefix_path):\n",
    "    # print((download_path / Path(obj.key).relative_to(prefix_path)))\n",
    "    main_path = download_path / Path(obj.key).relative_to(prefix_path)\n",
    "    main_path.parent.mkdir(parents=True, exist_ok=True)\n",
    "    with open(main_path, mode=\"wb\") as local_f:\n",
    "        bucket_minst.download_fileobj(obj.key, local_f)"
   ]
  },
  {
   "cell_type": "code",
   "execution_count": 49,
   "id": "7288ae8d-3513-4973-9cea-0711242bae28",
   "metadata": {},
   "outputs": [
    {
     "name": "stdout",
     "output_type": "stream",
     "text": [
      "Collecting tensorflow-datasets\n",
      "  Using cached tensorflow_datasets-4.9.7-py3-none-any.whl.metadata (9.6 kB)\n",
      "Requirement already satisfied: absl-py in /opt/conda/lib/python3.11/site-packages (from tensorflow-datasets) (2.1.0)\n",
      "Requirement already satisfied: click in /opt/conda/lib/python3.11/site-packages (from tensorflow-datasets) (8.1.7)\n",
      "Collecting dm-tree (from tensorflow-datasets)\n",
      "  Using cached dm_tree-0.1.8-cp311-cp311-manylinux_2_17_x86_64.manylinux2014_x86_64.whl.metadata (1.9 kB)\n",
      "Collecting immutabledict (from tensorflow-datasets)\n",
      "  Using cached immutabledict-4.2.1-py3-none-any.whl.metadata (3.5 kB)\n",
      "Requirement already satisfied: numpy in /opt/conda/lib/python3.11/site-packages (from tensorflow-datasets) (1.26.4)\n",
      "Collecting promise (from tensorflow-datasets)\n",
      "  Using cached promise-2.3-py3-none-any.whl\n",
      "Requirement already satisfied: protobuf>=3.20 in /opt/conda/lib/python3.11/site-packages (from tensorflow-datasets) (4.25.3)\n",
      "Requirement already satisfied: psutil in /opt/conda/lib/python3.11/site-packages (from tensorflow-datasets) (5.9.8)\n",
      "Requirement already satisfied: pyarrow in /opt/conda/lib/python3.11/site-packages (from tensorflow-datasets) (17.0.0)\n",
      "Requirement already satisfied: requests>=2.19.0 in /opt/conda/lib/python3.11/site-packages (from tensorflow-datasets) (2.32.3)\n",
      "Collecting simple-parsing (from tensorflow-datasets)\n",
      "  Using cached simple_parsing-0.1.6-py3-none-any.whl.metadata (7.3 kB)\n",
      "Collecting tensorflow-metadata (from tensorflow-datasets)\n",
      "  Using cached tensorflow_metadata-1.16.1-py3-none-any.whl.metadata (2.4 kB)\n",
      "Requirement already satisfied: termcolor in /opt/conda/lib/python3.11/site-packages (from tensorflow-datasets) (2.5.0)\n",
      "Collecting toml (from tensorflow-datasets)\n",
      "  Using cached toml-0.10.2-py2.py3-none-any.whl.metadata (7.1 kB)\n",
      "Requirement already satisfied: tqdm in /opt/conda/lib/python3.11/site-packages (from tensorflow-datasets) (4.67.1)\n",
      "Requirement already satisfied: wrapt in /opt/conda/lib/python3.11/site-packages (from tensorflow-datasets) (1.17.0)\n",
      "Collecting array-record>=0.5.0 (from tensorflow-datasets)\n",
      "  Using cached array_record-0.6.0-cp311-cp311-manylinux_2_17_x86_64.manylinux2014_x86_64.whl.metadata (692 bytes)\n",
      "Collecting etils>=1.9.1 (from etils[edc,enp,epath,epy,etree]>=1.9.1; python_version >= \"3.11\"->tensorflow-datasets)\n",
      "  Using cached etils-1.11.0-py3-none-any.whl.metadata (6.5 kB)\n",
      "Requirement already satisfied: fsspec in /opt/conda/lib/python3.11/site-packages (from etils[edc,enp,epath,epy,etree]>=1.9.1; python_version >= \"3.11\"->tensorflow-datasets) (2023.6.0)\n",
      "Requirement already satisfied: importlib_resources in /opt/conda/lib/python3.11/site-packages (from etils[edc,enp,epath,epy,etree]>=1.9.1; python_version >= \"3.11\"->tensorflow-datasets) (6.4.5)\n",
      "Requirement already satisfied: typing_extensions in /opt/conda/lib/python3.11/site-packages (from etils[edc,enp,epath,epy,etree]>=1.9.1; python_version >= \"3.11\"->tensorflow-datasets) (4.12.2)\n",
      "Requirement already satisfied: zipp in /opt/conda/lib/python3.11/site-packages (from etils[edc,enp,epath,epy,etree]>=1.9.1; python_version >= \"3.11\"->tensorflow-datasets) (3.21.0)\n",
      "Requirement already satisfied: charset_normalizer<4,>=2 in /opt/conda/lib/python3.11/site-packages (from requests>=2.19.0->tensorflow-datasets) (3.4.0)\n",
      "Requirement already satisfied: idna<4,>=2.5 in /opt/conda/lib/python3.11/site-packages (from requests>=2.19.0->tensorflow-datasets) (3.10)\n",
      "Requirement already satisfied: urllib3<3,>=1.21.1 in /opt/conda/lib/python3.11/site-packages (from requests>=2.19.0->tensorflow-datasets) (1.26.19)\n",
      "Requirement already satisfied: certifi>=2017.4.17 in /opt/conda/lib/python3.11/site-packages (from requests>=2.19.0->tensorflow-datasets) (2024.8.30)\n",
      "Requirement already satisfied: six in /opt/conda/lib/python3.11/site-packages (from promise->tensorflow-datasets) (1.17.0)\n",
      "Collecting docstring-parser<1.0,>=0.15 (from simple-parsing->tensorflow-datasets)\n",
      "  Using cached docstring_parser-0.16-py3-none-any.whl.metadata (3.0 kB)\n",
      "Requirement already satisfied: googleapis-common-protos<2,>=1.56.4 in /opt/conda/lib/python3.11/site-packages (from tensorflow-metadata->tensorflow-datasets) (1.66.0)\n",
      "Using cached tensorflow_datasets-4.9.7-py3-none-any.whl (5.3 MB)\n",
      "Using cached array_record-0.6.0-cp311-cp311-manylinux_2_17_x86_64.manylinux2014_x86_64.whl (2.3 MB)\n",
      "Using cached etils-1.11.0-py3-none-any.whl (165 kB)\n",
      "Using cached dm_tree-0.1.8-cp311-cp311-manylinux_2_17_x86_64.manylinux2014_x86_64.whl (152 kB)\n",
      "Using cached immutabledict-4.2.1-py3-none-any.whl (4.7 kB)\n",
      "Using cached simple_parsing-0.1.6-py3-none-any.whl (112 kB)\n",
      "Using cached tensorflow_metadata-1.16.1-py3-none-any.whl (28 kB)\n",
      "Using cached toml-0.10.2-py2.py3-none-any.whl (16 kB)\n",
      "Using cached docstring_parser-0.16-py3-none-any.whl (36 kB)\n",
      "Installing collected packages: dm-tree, toml, promise, immutabledict, etils, docstring-parser, tensorflow-metadata, simple-parsing, array-record, tensorflow-datasets\n",
      "Successfully installed array-record-0.6.0 dm-tree-0.1.8 docstring-parser-0.16 etils-1.11.0 immutabledict-4.2.1 promise-2.3 simple-parsing-0.1.6 tensorflow-datasets-4.9.7 tensorflow-metadata-1.16.1 toml-0.10.2\n",
      "Note: you may need to restart the kernel to use updated packages.\n"
     ]
    }
   ],
   "source": [
    "%pip install tensorflow-datasets"
   ]
  },
  {
   "cell_type": "code",
   "execution_count": 50,
   "id": "9e64c7df-f682-47bc-b492-e17fa253dc69",
   "metadata": {},
   "outputs": [],
   "source": [
    "import tensorflow_datasets as tfds"
   ]
  },
  {
   "cell_type": "code",
   "execution_count": 68,
   "id": "6daada93-a875-4eea-ba23-6053ecde10ef",
   "metadata": {},
   "outputs": [
    {
     "ename": "AssertionError",
     "evalue": "Failed to construct dataset \"celeb_a\", builder_kwargs \"{'version': '2.0.1', 'data_dir': None}\": Dataset celeb_a cannot be loaded at version 2.0.1, only: 2.1.0.",
     "output_type": "error",
     "traceback": [
      "\u001b[0;31m---------------------------------------------------------------------------\u001b[0m",
      "\u001b[0;31mAssertionError\u001b[0m                            Traceback (most recent call last)",
      "Cell \u001b[0;32mIn[68], line 1\u001b[0m\n\u001b[0;32m----> 1\u001b[0m celeba \u001b[38;5;241m=\u001b[39m \u001b[43mtfds\u001b[49m\u001b[38;5;241;43m.\u001b[39;49m\u001b[43mload\u001b[49m\u001b[43m(\u001b[49m\u001b[38;5;124;43m'\u001b[39;49m\u001b[38;5;124;43mceleb_a:2.0.1\u001b[39;49m\u001b[38;5;124;43m'\u001b[39;49m\u001b[43m,\u001b[49m\u001b[43m \u001b[49m\u001b[43mdownload\u001b[49m\u001b[38;5;241;43m=\u001b[39;49m\u001b[38;5;28;43;01mFalse\u001b[39;49;00m\u001b[43m,\u001b[49m\u001b[43m \u001b[49m\u001b[43mshuffle_files\u001b[49m\u001b[38;5;241;43m=\u001b[39;49m\u001b[38;5;28;43;01mFalse\u001b[39;49;00m\u001b[43m)\u001b[49m\n\u001b[1;32m      2\u001b[0m celeba_train \u001b[38;5;241m=\u001b[39m celeba[\u001b[38;5;124m\"\u001b[39m\u001b[38;5;124mtrain\u001b[39m\u001b[38;5;124m\"\u001b[39m]\n",
      "File \u001b[0;32m/opt/conda/lib/python3.11/site-packages/tensorflow_datasets/core/logging/__init__.py:176\u001b[0m, in \u001b[0;36m_FunctionDecorator.__call__\u001b[0;34m(self, function, instance, args, kwargs)\u001b[0m\n\u001b[1;32m    174\u001b[0m metadata \u001b[38;5;241m=\u001b[39m \u001b[38;5;28mself\u001b[39m\u001b[38;5;241m.\u001b[39m_start_call()\n\u001b[1;32m    175\u001b[0m \u001b[38;5;28;01mtry\u001b[39;00m:\n\u001b[0;32m--> 176\u001b[0m   \u001b[38;5;28;01mreturn\u001b[39;00m \u001b[43mfunction\u001b[49m\u001b[43m(\u001b[49m\u001b[38;5;241;43m*\u001b[39;49m\u001b[43margs\u001b[49m\u001b[43m,\u001b[49m\u001b[43m \u001b[49m\u001b[38;5;241;43m*\u001b[39;49m\u001b[38;5;241;43m*\u001b[39;49m\u001b[43mkwargs\u001b[49m\u001b[43m)\u001b[49m\n\u001b[1;32m    177\u001b[0m \u001b[38;5;28;01mexcept\u001b[39;00m \u001b[38;5;167;01mException\u001b[39;00m:\n\u001b[1;32m    178\u001b[0m   metadata\u001b[38;5;241m.\u001b[39mmark_error()\n",
      "File \u001b[0;32m/opt/conda/lib/python3.11/site-packages/tensorflow_datasets/core/load.py:655\u001b[0m, in \u001b[0;36mload\u001b[0;34m(name, split, data_dir, batch_size, shuffle_files, download, as_supervised, decoders, read_config, with_info, builder_kwargs, download_and_prepare_kwargs, as_dataset_kwargs, try_gcs)\u001b[0m\n\u001b[1;32m    520\u001b[0m \u001b[38;5;129m@tfds_logging\u001b[39m\u001b[38;5;241m.\u001b[39mload()\n\u001b[1;32m    521\u001b[0m \u001b[38;5;28;01mdef\u001b[39;00m \u001b[38;5;21mload\u001b[39m(\n\u001b[1;32m    522\u001b[0m     name: \u001b[38;5;28mstr\u001b[39m,\n\u001b[0;32m   (...)\u001b[0m\n\u001b[1;32m    537\u001b[0m ):\n\u001b[1;32m    538\u001b[0m   \u001b[38;5;66;03m# pylint: disable=line-too-long\u001b[39;00m\n\u001b[1;32m    539\u001b[0m \u001b[38;5;250m  \u001b[39m\u001b[38;5;124;03m\"\"\"Loads the named dataset into a `tf.data.Dataset`.\u001b[39;00m\n\u001b[1;32m    540\u001b[0m \n\u001b[1;32m    541\u001b[0m \u001b[38;5;124;03m  `tfds.load` is a convenience method that:\u001b[39;00m\n\u001b[0;32m   (...)\u001b[0m\n\u001b[1;32m    653\u001b[0m \u001b[38;5;124;03m      Split-specific information is available in `ds_info.splits`.\u001b[39;00m\n\u001b[1;32m    654\u001b[0m \u001b[38;5;124;03m  \"\"\"\u001b[39;00m  \u001b[38;5;66;03m# fmt: skip\u001b[39;00m\n\u001b[0;32m--> 655\u001b[0m   dbuilder \u001b[38;5;241m=\u001b[39m \u001b[43m_fetch_builder\u001b[49m\u001b[43m(\u001b[49m\n\u001b[1;32m    656\u001b[0m \u001b[43m      \u001b[49m\u001b[43mname\u001b[49m\u001b[43m,\u001b[49m\n\u001b[1;32m    657\u001b[0m \u001b[43m      \u001b[49m\u001b[43mdata_dir\u001b[49m\u001b[43m,\u001b[49m\n\u001b[1;32m    658\u001b[0m \u001b[43m      \u001b[49m\u001b[43mbuilder_kwargs\u001b[49m\u001b[43m,\u001b[49m\n\u001b[1;32m    659\u001b[0m \u001b[43m      \u001b[49m\u001b[43mtry_gcs\u001b[49m\u001b[43m,\u001b[49m\n\u001b[1;32m    660\u001b[0m \u001b[43m  \u001b[49m\u001b[43m)\u001b[49m\n\u001b[1;32m    661\u001b[0m   _download_and_prepare_builder(dbuilder, download, download_and_prepare_kwargs)\n\u001b[1;32m    663\u001b[0m   \u001b[38;5;28;01mif\u001b[39;00m as_dataset_kwargs \u001b[38;5;129;01mis\u001b[39;00m \u001b[38;5;28;01mNone\u001b[39;00m:\n",
      "File \u001b[0;32m/opt/conda/lib/python3.11/site-packages/tensorflow_datasets/core/load.py:497\u001b[0m, in \u001b[0;36m_fetch_builder\u001b[0;34m(name, data_dir, builder_kwargs, try_gcs)\u001b[0m\n\u001b[1;32m    495\u001b[0m \u001b[38;5;28;01mif\u001b[39;00m builder_kwargs \u001b[38;5;129;01mis\u001b[39;00m \u001b[38;5;28;01mNone\u001b[39;00m:\n\u001b[1;32m    496\u001b[0m   builder_kwargs \u001b[38;5;241m=\u001b[39m {}\n\u001b[0;32m--> 497\u001b[0m \u001b[38;5;28;01mreturn\u001b[39;00m \u001b[43mbuilder\u001b[49m\u001b[43m(\u001b[49m\u001b[43mname\u001b[49m\u001b[43m,\u001b[49m\u001b[43m \u001b[49m\u001b[43mdata_dir\u001b[49m\u001b[38;5;241;43m=\u001b[39;49m\u001b[43mdata_dir\u001b[49m\u001b[43m,\u001b[49m\u001b[43m \u001b[49m\u001b[43mtry_gcs\u001b[49m\u001b[38;5;241;43m=\u001b[39;49m\u001b[43mtry_gcs\u001b[49m\u001b[43m,\u001b[49m\u001b[43m \u001b[49m\u001b[38;5;241;43m*\u001b[39;49m\u001b[38;5;241;43m*\u001b[39;49m\u001b[43mbuilder_kwargs\u001b[49m\u001b[43m)\u001b[49m\n",
      "File \u001b[0;32m/opt/conda/lib/python3.11/contextlib.py:81\u001b[0m, in \u001b[0;36mContextDecorator.__call__.<locals>.inner\u001b[0;34m(*args, **kwds)\u001b[0m\n\u001b[1;32m     78\u001b[0m \u001b[38;5;129m@wraps\u001b[39m(func)\n\u001b[1;32m     79\u001b[0m \u001b[38;5;28;01mdef\u001b[39;00m \u001b[38;5;21minner\u001b[39m(\u001b[38;5;241m*\u001b[39margs, \u001b[38;5;241m*\u001b[39m\u001b[38;5;241m*\u001b[39mkwds):\n\u001b[1;32m     80\u001b[0m     \u001b[38;5;28;01mwith\u001b[39;00m \u001b[38;5;28mself\u001b[39m\u001b[38;5;241m.\u001b[39m_recreate_cm():\n\u001b[0;32m---> 81\u001b[0m         \u001b[38;5;28;01mreturn\u001b[39;00m \u001b[43mfunc\u001b[49m\u001b[43m(\u001b[49m\u001b[38;5;241;43m*\u001b[39;49m\u001b[43margs\u001b[49m\u001b[43m,\u001b[49m\u001b[43m \u001b[49m\u001b[38;5;241;43m*\u001b[39;49m\u001b[38;5;241;43m*\u001b[39;49m\u001b[43mkwds\u001b[49m\u001b[43m)\u001b[49m\n",
      "File \u001b[0;32m/opt/conda/lib/python3.11/site-packages/tensorflow_datasets/core/logging/__init__.py:176\u001b[0m, in \u001b[0;36m_FunctionDecorator.__call__\u001b[0;34m(self, function, instance, args, kwargs)\u001b[0m\n\u001b[1;32m    174\u001b[0m metadata \u001b[38;5;241m=\u001b[39m \u001b[38;5;28mself\u001b[39m\u001b[38;5;241m.\u001b[39m_start_call()\n\u001b[1;32m    175\u001b[0m \u001b[38;5;28;01mtry\u001b[39;00m:\n\u001b[0;32m--> 176\u001b[0m   \u001b[38;5;28;01mreturn\u001b[39;00m \u001b[43mfunction\u001b[49m\u001b[43m(\u001b[49m\u001b[38;5;241;43m*\u001b[39;49m\u001b[43margs\u001b[49m\u001b[43m,\u001b[49m\u001b[43m \u001b[49m\u001b[38;5;241;43m*\u001b[39;49m\u001b[38;5;241;43m*\u001b[39;49m\u001b[43mkwargs\u001b[49m\u001b[43m)\u001b[49m\n\u001b[1;32m    177\u001b[0m \u001b[38;5;28;01mexcept\u001b[39;00m \u001b[38;5;167;01mException\u001b[39;00m:\n\u001b[1;32m    178\u001b[0m   metadata\u001b[38;5;241m.\u001b[39mmark_error()\n",
      "File \u001b[0;32m/opt/conda/lib/python3.11/site-packages/tensorflow_datasets/core/load.py:221\u001b[0m, in \u001b[0;36mbuilder\u001b[0;34m(name, try_gcs, **builder_kwargs)\u001b[0m\n\u001b[1;32m    217\u001b[0m \u001b[38;5;28;01mif\u001b[39;00m \u001b[38;5;28mcls\u001b[39m:\n\u001b[1;32m    218\u001b[0m   \u001b[38;5;28;01mwith\u001b[39;00m py_utils\u001b[38;5;241m.\u001b[39mtry_reraise(\n\u001b[1;32m    219\u001b[0m       prefix\u001b[38;5;241m=\u001b[39m\u001b[38;5;124mf\u001b[39m\u001b[38;5;124m'\u001b[39m\u001b[38;5;124mFailed to construct \u001b[39m\u001b[38;5;132;01m{\u001b[39;00mget_dataset_repr()\u001b[38;5;132;01m}\u001b[39;00m\u001b[38;5;124m: \u001b[39m\u001b[38;5;124m'\u001b[39m\n\u001b[1;32m    220\u001b[0m   ):\n\u001b[0;32m--> 221\u001b[0m     \u001b[38;5;28;01mreturn\u001b[39;00m \u001b[38;5;28;43mcls\u001b[39;49m\u001b[43m(\u001b[49m\u001b[38;5;241;43m*\u001b[39;49m\u001b[38;5;241;43m*\u001b[39;49m\u001b[43mbuilder_kwargs\u001b[49m\u001b[43m)\u001b[49m  \u001b[38;5;66;03m# pytype: disable=not-instantiable\u001b[39;00m\n\u001b[1;32m    223\u001b[0m \u001b[38;5;66;03m# If neither the code nor the files are found, raise DatasetNotFoundError\u001b[39;00m\n\u001b[1;32m    224\u001b[0m \u001b[38;5;28;01mraise\u001b[39;00m not_found_error\n",
      "File \u001b[0;32m/opt/conda/lib/python3.11/site-packages/tensorflow_datasets/core/logging/__init__.py:296\u001b[0m, in \u001b[0;36mbuilder_init.<locals>.decorator\u001b[0;34m(function, dsbuilder, args, kwargs)\u001b[0m\n\u001b[1;32m    294\u001b[0m _thread_id_to_builder_init_count[metadata\u001b[38;5;241m.\u001b[39mthread_id] \u001b[38;5;241m+\u001b[39m\u001b[38;5;241m=\u001b[39m \u001b[38;5;241m1\u001b[39m\n\u001b[1;32m    295\u001b[0m \u001b[38;5;28;01mtry\u001b[39;00m:\n\u001b[0;32m--> 296\u001b[0m   \u001b[38;5;28;01mreturn\u001b[39;00m \u001b[43mfunction\u001b[49m\u001b[43m(\u001b[49m\u001b[38;5;241;43m*\u001b[39;49m\u001b[43margs\u001b[49m\u001b[43m,\u001b[49m\u001b[43m \u001b[49m\u001b[38;5;241;43m*\u001b[39;49m\u001b[38;5;241;43m*\u001b[39;49m\u001b[43mkwargs\u001b[49m\u001b[43m)\u001b[49m\n\u001b[1;32m    297\u001b[0m \u001b[38;5;28;01mexcept\u001b[39;00m \u001b[38;5;167;01mException\u001b[39;00m:\n\u001b[1;32m    298\u001b[0m   metadata\u001b[38;5;241m.\u001b[39mmark_error()\n",
      "File \u001b[0;32m/opt/conda/lib/python3.11/site-packages/tensorflow_datasets/core/dataset_builder.py:1466\u001b[0m, in \u001b[0;36mFileReaderBuilder.__init__\u001b[0;34m(self, file_format, **kwargs)\u001b[0m\n\u001b[1;32m   1449\u001b[0m \u001b[38;5;129m@tfds_logging\u001b[39m\u001b[38;5;241m.\u001b[39mbuilder_init()\n\u001b[1;32m   1450\u001b[0m \u001b[38;5;28;01mdef\u001b[39;00m \u001b[38;5;21m__init__\u001b[39m(\n\u001b[1;32m   1451\u001b[0m     \u001b[38;5;28mself\u001b[39m,\n\u001b[0;32m   (...)\u001b[0m\n\u001b[1;32m   1454\u001b[0m     \u001b[38;5;241m*\u001b[39m\u001b[38;5;241m*\u001b[39mkwargs: Any,\n\u001b[1;32m   1455\u001b[0m ):\n\u001b[1;32m   1456\u001b[0m \u001b[38;5;250m  \u001b[39m\u001b[38;5;124;03m\"\"\"Initializes an instance of FileReaderBuilder.\u001b[39;00m\n\u001b[1;32m   1457\u001b[0m \n\u001b[1;32m   1458\u001b[0m \u001b[38;5;124;03m  Callers must pass arguments as keyword arguments.\u001b[39;00m\n\u001b[0;32m   (...)\u001b[0m\n\u001b[1;32m   1464\u001b[0m \u001b[38;5;124;03m    **kwargs: Arguments passed to `DatasetBuilder`.\u001b[39;00m\n\u001b[1;32m   1465\u001b[0m \u001b[38;5;124;03m  \"\"\"\u001b[39;00m\n\u001b[0;32m-> 1466\u001b[0m   \u001b[38;5;28;43msuper\u001b[39;49m\u001b[43m(\u001b[49m\u001b[43m)\u001b[49m\u001b[38;5;241;43m.\u001b[39;49m\u001b[38;5;21;43m__init__\u001b[39;49m\u001b[43m(\u001b[49m\u001b[38;5;241;43m*\u001b[39;49m\u001b[38;5;241;43m*\u001b[39;49m\u001b[43mkwargs\u001b[49m\u001b[43m)\u001b[49m\n\u001b[1;32m   1467\u001b[0m   \u001b[38;5;28mself\u001b[39m\u001b[38;5;241m.\u001b[39minfo\u001b[38;5;241m.\u001b[39mset_file_format(file_format)\n",
      "File \u001b[0;32m/opt/conda/lib/python3.11/site-packages/tensorflow_datasets/core/logging/__init__.py:296\u001b[0m, in \u001b[0;36mbuilder_init.<locals>.decorator\u001b[0;34m(function, dsbuilder, args, kwargs)\u001b[0m\n\u001b[1;32m    294\u001b[0m _thread_id_to_builder_init_count[metadata\u001b[38;5;241m.\u001b[39mthread_id] \u001b[38;5;241m+\u001b[39m\u001b[38;5;241m=\u001b[39m \u001b[38;5;241m1\u001b[39m\n\u001b[1;32m    295\u001b[0m \u001b[38;5;28;01mtry\u001b[39;00m:\n\u001b[0;32m--> 296\u001b[0m   \u001b[38;5;28;01mreturn\u001b[39;00m \u001b[43mfunction\u001b[49m\u001b[43m(\u001b[49m\u001b[38;5;241;43m*\u001b[39;49m\u001b[43margs\u001b[49m\u001b[43m,\u001b[49m\u001b[43m \u001b[49m\u001b[38;5;241;43m*\u001b[39;49m\u001b[38;5;241;43m*\u001b[39;49m\u001b[43mkwargs\u001b[49m\u001b[43m)\u001b[49m\n\u001b[1;32m    297\u001b[0m \u001b[38;5;28;01mexcept\u001b[39;00m \u001b[38;5;167;01mException\u001b[39;00m:\n\u001b[1;32m    298\u001b[0m   metadata\u001b[38;5;241m.\u001b[39mmark_error()\n",
      "File \u001b[0;32m/opt/conda/lib/python3.11/site-packages/tensorflow_datasets/core/dataset_builder.py:289\u001b[0m, in \u001b[0;36mDatasetBuilder.__init__\u001b[0;34m(self, data_dir, config, version)\u001b[0m\n\u001b[1;32m    287\u001b[0m \u001b[38;5;28mself\u001b[39m\u001b[38;5;241m.\u001b[39m_builder_config \u001b[38;5;241m=\u001b[39m \u001b[38;5;28mself\u001b[39m\u001b[38;5;241m.\u001b[39m_create_builder_config(config, version\u001b[38;5;241m=\u001b[39mversion)\n\u001b[1;32m    288\u001b[0m \u001b[38;5;66;03m# Extract code version (VERSION or config)\u001b[39;00m\n\u001b[0;32m--> 289\u001b[0m \u001b[38;5;28mself\u001b[39m\u001b[38;5;241m.\u001b[39m_version \u001b[38;5;241m=\u001b[39m \u001b[38;5;28;43mself\u001b[39;49m\u001b[38;5;241;43m.\u001b[39;49m\u001b[43m_pick_version\u001b[49m\u001b[43m(\u001b[49m\u001b[43mversion\u001b[49m\u001b[43m)\u001b[49m\n\u001b[1;32m    290\u001b[0m \u001b[38;5;66;03m# Compute the base directory (for download) and dataset/version directory.\u001b[39;00m\n\u001b[1;32m    291\u001b[0m \u001b[38;5;28mself\u001b[39m\u001b[38;5;241m.\u001b[39m_data_dir_root, \u001b[38;5;28mself\u001b[39m\u001b[38;5;241m.\u001b[39m_data_dir \u001b[38;5;241m=\u001b[39m \u001b[38;5;28mself\u001b[39m\u001b[38;5;241m.\u001b[39m_build_data_dir(data_dir)\n",
      "File \u001b[0;32m/opt/conda/lib/python3.11/site-packages/tensorflow_datasets/core/dataset_builder.py:403\u001b[0m, in \u001b[0;36mDatasetBuilder._pick_version\u001b[0;34m(self, requested_version)\u001b[0m\n\u001b[1;32m    399\u001b[0m available_versions \u001b[38;5;241m=\u001b[39m [\u001b[38;5;28mstr\u001b[39m(v) \u001b[38;5;28;01mfor\u001b[39;00m v \u001b[38;5;129;01min\u001b[39;00m \u001b[38;5;28mself\u001b[39m\u001b[38;5;241m.\u001b[39mversions]\n\u001b[1;32m    400\u001b[0m msg \u001b[38;5;241m=\u001b[39m \u001b[38;5;124m\"\u001b[39m\u001b[38;5;124mDataset \u001b[39m\u001b[38;5;132;01m{}\u001b[39;00m\u001b[38;5;124m cannot be loaded at version \u001b[39m\u001b[38;5;132;01m{}\u001b[39;00m\u001b[38;5;124m, only: \u001b[39m\u001b[38;5;132;01m{}\u001b[39;00m\u001b[38;5;124m.\u001b[39m\u001b[38;5;124m\"\u001b[39m\u001b[38;5;241m.\u001b[39mformat(\n\u001b[1;32m    401\u001b[0m     \u001b[38;5;28mself\u001b[39m\u001b[38;5;241m.\u001b[39mname, requested_version, \u001b[38;5;124m\"\u001b[39m\u001b[38;5;124m, \u001b[39m\u001b[38;5;124m\"\u001b[39m\u001b[38;5;241m.\u001b[39mjoin(available_versions)\n\u001b[1;32m    402\u001b[0m )\n\u001b[0;32m--> 403\u001b[0m \u001b[38;5;28;01mraise\u001b[39;00m \u001b[38;5;167;01mAssertionError\u001b[39;00m(msg)\n",
      "\u001b[0;31mAssertionError\u001b[0m: Failed to construct dataset \"celeb_a\", builder_kwargs \"{'version': '2.0.1', 'data_dir': None}\": Dataset celeb_a cannot be loaded at version 2.0.1, only: 2.1.0."
     ]
    }
   ],
   "source": [
    "celeba = tfds.load('celeb_a:2.0.1', download=False, shuffle_files=False)\n",
    "celeba_train = celeba[\"train\"]"
   ]
  },
  {
   "cell_type": "markdown",
   "id": "ef9ab3b0-719c-45e6-9772-50b53a9428fa",
   "metadata": {},
   "source": [
    "上手くいかないので実行しないで進める"
   ]
  },
  {
   "cell_type": "markdown",
   "id": "f603270c-c1b0-4f61-b6bf-28e3ef39f7b2",
   "metadata": {},
   "source": [
    "### 15.4.2 画像変換とデータ拡張"
   ]
  },
  {
   "cell_type": "markdown",
   "id": "003b2bb3-db4f-4708-a138-bedd47e7d621",
   "metadata": {},
   "source": [
    "**データ拡張**または**データの水増し**は、訓練データが限られている状況に対処する様々な手法の総称である。"
   ]
  },
  {
   "cell_type": "markdown",
   "id": "c975c5dd-5399-4b2c-b82b-f45da9be3459",
   "metadata": {},
   "source": [
    "1. 画像を矩形に切り抜く。\n",
    "2. 水平方向に反転させる。\n",
    "3. コントラストを調整する。\n",
    "4. 明度を調整する。\n",
    "5. 画像を中心でくり抜き、元のサイズ (218 × 178)に戻す。"
   ]
  },
  {
   "cell_type": "code",
   "execution_count": null,
   "id": "22291a52-cc2d-4aba-aa65-0516762ffc2c",
   "metadata": {},
   "outputs": [],
   "source": [
    "import matplotlib.pyplot as plt\n",
    "# 5つの訓練データを取得\n",
    "examples = []\n",
    "for example in celeba_train.take(5):\n",
    "    examples.append(example[\"image\"])"
   ]
  },
  {
   "cell_type": "code",
   "execution_count": null,
   "id": "287daea8-2096-4fca-82ca-e3c2da202b52",
   "metadata": {},
   "outputs": [],
   "source": [
    "fig = plt.figure(figsize=(16, 8.5))\n",
    "## 列1：画像を矩形に切り抜く\n",
    "ax = fig.add_subplot(2, 5, 1)\n",
    "ax.set_title(\"Crop to a \\nbounding-box\", size=15)\n",
    "ax.imshow(examples[0])\n",
    "ax = fig.add_subplot(2, 5, 6)\n",
    "img_cropped = tf.image.crop_to_bounding_box(examples[0], 50, 20, 128, 128)\n",
    "ax.imshow(img_cropped)\n",
    "## 列2：水平方向に反転させる\n",
    "ax = fig.add_subplot(2, 5, 2)\n",
    "ax.set_title(\"Flip (horizontal)\", size=15)\n",
    "ax.imshow(examples[1])\n",
    "ax = fig.add_subplot(2, 5, 7)\n",
    "img_flipped = tf.image.flip_left_right(examples[1])\n",
    "ax.imshow(img_flipped)\n",
    "## 列3：コントラストを調整する\n",
    "ax = fig.add_subplot(2, 5, 3)\n",
    "ax.set_title(\"Adjust contrast\", size=15)\n",
    "ax.imshow(examples[2])\n",
    "ax = fig.add_subplot(2, 5, 8)\n",
    "img_adj_contrast = tf.image.adjust_contrast(examples[2], contrast_factor=2)\n",
    "ax.imshow(img_adj_contrast)\n",
    "## 列4：明度を調整する\n",
    "ax = fig.add_subplot(2, 5, 4)\n",
    "ax.set_title(\"Adjust brightness\", size=15)\n",
    "ax.imshow(examples[3])\n",
    "ax = fig.add_subplot(2, 5, 9)\n",
    "img_adj_brightness = tf.image.adjust_brightness(examples[3], delta=0.3)\n",
    "ax.imshow(img_adj_brightness)\n",
    "## 列5：画像を中心でくり抜き、元のサイズ (218×178) に戻す\n",
    "ax = fig.add_subplot(2, 5, 5)\n",
    "ax.set_title(\"Central crop\\nand resize\", size=15)\n",
    "ax.imshow(examples[4])\n",
    "ax = fig.add_subplot(2, 5, 10)\n",
    "img_center_crop = tf.image.resize(examples[4], delta=0.7)\n",
    "img_resized = tf.image.resize(img_center_crop, size=(218, 178))\n",
    "ax.imshow(img_resized.numpy().astype(\"uint8\"))\n",
    "plt.show()"
   ]
  },
  {
   "cell_type": "markdown",
   "id": "beb267c5-1ce5-4a16-b4c9-bf6f912cc469",
   "metadata": {},
   "source": [
    "コードで定義した変換は決定論的なものである。しかし、これらすべての返還をランダムに適用することもできる。<br>\n",
    "モデルの訓練時のデータ拡張にはこの方法が推奨される。"
   ]
  },
  {
   "cell_type": "markdown",
   "id": "5aaff387-f40b-49a1-acc1-c5c9bfa0f832",
   "metadata": {},
   "source": [
    "- ランダムな矩形（左上の座標をランダムに選択する）を画像からくり抜く。\n",
    "- 水平軸または垂直軸に沿って（0.5の確率で）画像をランダムに反転させる。\n",
    "- 画像のコントラストをランダムに変化させる（`contrast_factor`をランダムに選択する）"
   ]
  },
  {
   "cell_type": "code",
   "execution_count": null,
   "id": "89497ef5-c3a6-4e66-9c34-6439acd37e27",
   "metadata": {},
   "outputs": [],
   "source": [
    "tf.random.set_seed(1)\n",
    "fig = plt.figure(figsize=(14, 12))\n",
    "for i, example in enumerate(celeba_train.take(3)):\n",
    "    image = example[\"image\"]\n",
    "    ax = fig.add_subplot(3, 4, i*4+1)\n",
    "    ax.imshow(image)\n",
    "    if i == 0:\n",
    "        ax.set_title(\"Orig\", size=15)\n",
    "\n",
    "    ax = fig.add_subplot(3, 4, i*4+2)\n",
    "    img_crop = tf.image.random_crop(image, size=(178, 178, 3))\n",
    "    ax.imshow(img_crop)\n",
    "    if i == 0:\n",
    "        ax.set_title(\"Step 1: Random crop\", size=15)\n",
    "    ax = fig.add_subplot(3, 4, i*4+3)\n",
    "    img_flip = tf.image.random_flip_left_right(img_crop)\n",
    "    ax.imshow(tf.cast(img_flip, tf.uint8))\n",
    "    if i == 0:\n",
    "        ax.set_title(\"Step 2: Random flip\", size=15)\n",
    "    ax = fig.add_subplot(3, 4, i*4+4)\n",
    "    img_resize = tf.image.resize(img_flip, size=(128, 128))\n",
    "    ax.imshow(tf.cast(img_resize, tf.uint8))\n",
    "    if i == 0:\n",
    "        ax.set_title(\"Step 3: Resize\", size=15)\n",
    "\n",
    "plt.show()"
   ]
  },
  {
   "cell_type": "code",
   "execution_count": null,
   "id": "d1daae68-8031-4dfe-a4e2-736c66de8e9a",
   "metadata": {},
   "outputs": [],
   "source": [
    "def preprocess(example, size=(64, 64), mode=\"train\"):\n",
    "    image = example[\"image\"]\n",
    "    label = example[\"attributes\"][\"Male\"]\n",
    "    if mode == \"train\":\n",
    "        image_cropped = tf.image.random_crop(image, size=(178, 178, 3))\n",
    "        image_resized = tf.image.resize(image_cropped, size=size)\n",
    "        image_flip = tf.image.random_flip_left_right(image_resized)\n",
    "        return (image_flip/255.0, tf.cast(label, tf.int32))\n",
    "    else: # 非訓練データでは、ランダムな切り抜きではなく中央での切り抜きを行う\n",
    "        image_cropped = tf.image.crop_to_bounding_box(\n",
    "            image, offset_height=20, offset_width=0,\n",
    "            target_height=178, target_width=178)\n",
    "        image_resized = tf.image.resize(image_cropped, size=size)\n",
    "        return (image_resized/255.0, tf.cast(label, tf.int32))"
   ]
  },
  {
   "cell_type": "code",
   "execution_count": null,
   "id": "6afcee63-764b-4864-9e3b-f25415b7cbb8",
   "metadata": {},
   "outputs": [],
   "source": [
    "tf.random.set_seed(1)\n",
    "ds = caleba_train.shuffle(1000, reshuffle_each_iteration=False)\n",
    "ds = ds.take(2).repeat(5)\n",
    "ds = ds.ds.map(lambda x:preprocess(x, size=(178, 178), mode=\"train\"))\n",
    "fig = plt.figure(figsize=(15, 6))\n",
    "for j, example in enumerate(ds):\n",
    "    ax = fig.add_subplot(2, 5, j//2+(j%2)*5+1)\n",
    "    ax.set_xticks([])\n",
    "    ax.set_yticks([])\n",
    "    ax.imshow(example[0])\n",
    "\n",
    "plt.show()"
   ]
  },
  {
   "cell_type": "markdown",
   "id": "9e1f69e1-3ac3-4327-bda4-6f1d34ab4f46",
   "metadata": {},
   "source": [
    "次に、`preprocess`関数を訓練データセットと検証データセットに適用する。"
   ]
  },
  {
   "cell_type": "code",
   "execution_count": null,
   "id": "c0fd2a6d-ddf6-4e13-99e9-7ab29d3e5352",
   "metadata": {},
   "outputs": [],
   "source": [
    "import numpy as np\n",
    "BATCH_SIZE = 32\n",
    "BUFFER_SIZE = 1000\n",
    "IMAGE_SIZE = (64, 64)\n",
    "steps_per_epoch = np.ceil(16000/BATCH_SIZE)\n",
    "ds_train = celeba_train.map(lambda x: preprocess(x, size=IMAGE_SIZE, mode=\"train\"))\n",
    "ds_train = ds_train.shuffle(buffer_size=BUFFER_SIZE).repeat()\n",
    "ds_train = ds_train.batch(BATCH_SIZE)\n",
    "ds_valid = celeba_valid.map(lambda x: preprocess(x, size=IMAGE_SIZE, mode=\"eval\"))\n",
    "ds_valid = ds_valid.batch(BATCH_SIZE)"
   ]
  },
  {
   "cell_type": "markdown",
   "id": "785cea94-c099-49e3-9986-111942cb592d",
   "metadata": {},
   "source": [
    "### 15.4.3 CNN性別分類器を訓練する"
   ]
  },
  {
   "cell_type": "code",
   "execution_count": null,
   "id": "ccf2a413-aa43-4af0-a3ee-5821a7f83231",
   "metadata": {},
   "outputs": [],
   "source": [
    "model = tf.keras.Sequential([\n",
    "    ## 1つ目の畳み込み層、最大値プーリング層、ドロップアウト層\n",
    "    tf.keras.layers.Conv2D(32, (3, 3), padding=\"same\", activation=\"relu\"),\n",
    "    tf.keras.layers.MaxPooling2D((2, 2)),\n",
    "    tf.keras.layers.Dropout(rate=0.5),\n",
    "    ## 2つ目の畳み込み層、最大値プーリング層、ドロップアウト層\n",
    "    tf.keras.layers.Conv2D(64, (3, 3), padding=\"same\", activation=\"relu\"),\n",
    "    tf.keras.layers.MaxPooling2D((2, 2)),\n",
    "    tf.keras.layers.Dropout(rate=0.5),\n",
    "    ## 3つ目の畳み込み層、最大値プーリング層\n",
    "    tf.keras.layers.Conv2D(１２８, (3, 3), padding=\"same\", activation=\"relu\"),\n",
    "    tf.keras.layers.MaxPooling2D((2, 2)),\n",
    "    ## 4つ目の畳み込み層\n",
    "    tf.keras.layers.Conv2D(256, (3, 3), padding=\"same\", activation=\"relu\")])"
   ]
  },
  {
   "cell_type": "markdown",
   "id": "5d6a41e5-c18d-417a-870e-3fc696ffc14f",
   "metadata": {},
   "source": [
    "これらの層を適用した後の出力特徴量マップの形状を見てみよう。"
   ]
  },
  {
   "cell_type": "code",
   "execution_count": null,
   "id": "ad39ed59-be08-4fd9-8885-0d4606647d4e",
   "metadata": {},
   "outputs": [],
   "source": [
    "model.compute_output_shape(input_shape=(None, 64, 64, 3))\n",
    "# TensorShape([None, 8, 8, 256])"
   ]
  },
  {
   "cell_type": "code",
   "execution_count": null,
   "id": "0a91fb1a-897d-4d75-92ed-954d0a23160e",
   "metadata": {},
   "outputs": [],
   "source": [
    "model.add(tf.keras.layers.GlobalAveragePooling2D())\n",
    "model.compute_output_shape(input_shape=(None, 64, 64, 3))\n",
    "# TensorShape([None, 256])"
   ]
  },
  {
   "cell_type": "code",
   "execution_count": null,
   "id": "832fe543-e19e-4733-8039-9a5171ad2d3b",
   "metadata": {},
   "outputs": [],
   "source": [
    "mode.add(tf.keras.layers.Dense(1, activation=None))\n",
    "tf.random.set_seed(1)\n",
    "model.build(input_shape=(None, 64, 64, 3))\n",
    "model.summary()"
   ]
  },
  {
   "cell_type": "markdown",
   "id": "68b95154-e7ff-4d58-a6e6-5df7c366a056",
   "metadata": {},
   "source": [
    "モデル出力が1つだけの2値分類なので、`BinaryCrossentropy`を使うべき<br>\n",
    "最後の層はシグモイド活性化関数を適用しないため(`activation=None`)、モデルの出力は確率ではなくロジットである。<br>\n",
    "`BinaryCrossentropy`に`from_logits=True`を指定して、内部で損失関数にシグモイド関数を適用させる。"
   ]
  },
  {
   "cell_type": "code",
   "execution_count": null,
   "id": "863ec98d-b76d-4e76-b30b-b82de99cb02c",
   "metadata": {},
   "outputs": [],
   "source": [
    "model.compile(optimizer=tf.keras.optimizers.Adam(),\n",
    "             loss=tf.keras.losses.BinaryCrossentropy(from_logits=True),\n",
    "             metrics=[\"accuracy\"])\n",
    "history = model.fit(ds_train, validation_date=ds_valid,\n",
    "                   epochs=20, steps_per_epoch=steps_per_epoch)"
   ]
  },
  {
   "cell_type": "markdown",
   "id": "4de4dff9-65d7-41ae-bca3-551ff8b2761b",
   "metadata": {},
   "source": [
    "学習曲線を可視化して、訓練時と検証時の損失率と正解率をエポックごとに比較しよう。"
   ]
  },
  {
   "cell_type": "code",
   "execution_count": null,
   "id": "6de62f87-25ec-41c5-b22f-fb672532059f",
   "metadata": {},
   "outputs": [],
   "source": [
    "hist = history.history\n",
    "x_arr = np.arange(len(hist[\"loss\"])) + 1\n",
    "fig = plt.figure(figsize=(12, 4))\n",
    "ax = fig.add_subplot(1, 2, 1)\n",
    "ax.plot(x_arr, hist[\"loss\"], \"-o\", label=\"Train loss\")\n",
    "ax.plot(x_arr, hist[\"val_loss\"], \"--<\", label=\"Validation loss\")\n",
    "ax.legend(fontsize=15)\n",
    "ax.set_xlabel(\"Epoch\", size=15)\n",
    "ax.set_ylabel(\"Loss\", size=15)\n",
    "ax = fig.add_subplot(1, 2, 2)\n",
    "ax.plot(x_arr, hist[\"accuracy\"], \"-o\", label=\"Train acc.\")\n",
    "ax.plot(x_arr, hist[\"val_accuracy\"], \"--<\", label=\"Validation acc.\")\n",
    "ax.legend(fontsize=15)\n",
    "ax.set_xlabel(\"Epoch\", size=15)\n",
    "ax.set_ylabel(\"Accuracy\", size=15)\n",
    "plt.show()"
   ]
  },
  {
   "cell_type": "code",
   "execution_count": null,
   "id": "167d69a3-fc84-4240-a304-258a8d3a5e17",
   "metadata": {},
   "outputs": [],
   "source": [
    "history = model.fit(ds_train, validation_data=ds_valid, epochs=30, initial_epoch=20, steps_per_epoch=steps_per_epoch)"
   ]
  },
  {
   "cell_type": "code",
   "execution_count": null,
   "id": "c4ee1490-edd3-48f2-933f-c3469429cc3e",
   "metadata": {},
   "outputs": [],
   "source": [
    "ds_test = celeba_test.map(\n",
    "    lambda x:preprocess(x, size=IMAGE_SIZE, mode=\"eval\")).batch(32)\n",
    "test_results = model.evaluate(ds_test, verbose=0)\n",
    "print(\"Test Acc: {:.2f}%\".format(test_results[1]*100))"
   ]
  },
  {
   "cell_type": "code",
   "execution_count": null,
   "id": "1eb22a81-bf5f-458e-875f-868d04b2c92f",
   "metadata": {},
   "outputs": [],
   "source": [
    "ds = ds_test.unbatch().take(10)\n",
    "pred_logits = model.predict(ds.batch(10))\n",
    "probas = tf.sigmoid(pred_logits)\n",
    "probas = probas.numpy().flatten()*100\n",
    "fig = plt.figure(figsize=(15, 7))\n",
    "for j, example in enumerate(ds):\n",
    "    ax = fig.add_subplot(2, 5, j+1)\n",
    "    ax.set_xticks([])\n",
    "    ax.set_yticks([])\n",
    "    ax.imshow(example[0])\n",
    "    if example[1].numpy() == 1:\n",
    "        label=\"Male\"\n",
    "    else:\n",
    "        label=\"Female\"\n",
    "    ax.test(0.5, -0.15, \"GT: {:s}\\nPr(Male)={:.0f}%\".format(label, probas[j]),\n",
    "            size=16,\n",
    "            horizontalalignment=\"center\",\n",
    "            verticalalignment=\"center\",\n",
    "            transform=ax.transAxes)"
   ]
  }
 ],
 "metadata": {
  "kernelspec": {
   "display_name": "Python 3 (ipykernel)",
   "language": "python",
   "name": "python3"
  },
  "language_info": {
   "codemirror_mode": {
    "name": "ipython",
    "version": 3
   },
   "file_extension": ".py",
   "mimetype": "text/x-python",
   "name": "python",
   "nbconvert_exporter": "python",
   "pygments_lexer": "ipython3",
   "version": "3.11.11"
  }
 },
 "nbformat": 4,
 "nbformat_minor": 5
}
