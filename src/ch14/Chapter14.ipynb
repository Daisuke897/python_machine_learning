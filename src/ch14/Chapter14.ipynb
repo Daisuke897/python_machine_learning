{
 "cells": [
  {
   "cell_type": "markdown",
   "id": "bfe2d82b-98fd-4f1c-92e9-4e8c55b295c6",
   "metadata": {},
   "source": [
    "# 第14章 TensorFlowのメカニズム"
   ]
  },
  {
   "cell_type": "markdown",
   "id": "184669e0-bebd-4422-9ffa-63e6a51bdfef",
   "metadata": {},
   "source": [
    "より高度なディープラーニングモデルを実装するための準備を整えよう"
   ]
  },
  {
   "cell_type": "markdown",
   "id": "3d5765ff-e347-4118-9a27-c664cc3c7bbd",
   "metadata": {},
   "source": [
    "## 14.1 TensorFlowの主な特徴"
   ]
  },
  {
   "cell_type": "markdown",
   "id": "5de12e2c-8a02-4e57-b28c-6f8a0e72be82",
   "metadata": {},
   "source": [
    "## 14.2 TensorFlowの計算フラグ：TensorFlow 2.x への移行"
   ]
  },
  {
   "cell_type": "markdown",
   "id": "e60ef4c0-d173-4b06-ad0b-027aaae93b12",
   "metadata": {},
   "source": [
    "- 単純な算術演算のグラフをどのように定義するか\n",
    "- グラフをTensorFlow 2.x に移行する方法\n",
    "- **Eager Execution**（つまり動的グラフ）のパラダイム\n",
    "- 計算を高速化する関数デコレーション"
   ]
  },
  {
   "cell_type": "markdown",
   "id": "c71db0a6-864b-40b1-9d8a-2198fb0d2890",
   "metadata": {},
   "source": [
    "### 14.2.1 計算グラフ"
   ]
  },
  {
   "cell_type": "markdown",
   "id": "b4c44b3c-66c5-42b3-80a4-8ba23aaf5d8a",
   "metadata": {},
   "source": [
    "$z=2\\times(a-b)+c$を評価したいとする"
   ]
  },
  {
   "cell_type": "markdown",
   "id": "fa344f95-e6e7-40b6-ade3-d22cb334c6a2",
   "metadata": {},
   "source": [
    "### 14.2.2 TensorFlow 1.x で計算グラフを作成する"
   ]
  },
  {
   "cell_type": "code",
   "execution_count": 1,
   "id": "bf8df2ab-0ad6-4f8b-87ed-d6500e66a7ce",
   "metadata": {},
   "outputs": [
    {
     "name": "stderr",
     "output_type": "stream",
     "text": [
      "2024-12-24 10:57:35.605065: I tensorflow/core/platform/cpu_feature_guard.cc:210] This TensorFlow binary is optimized to use available CPU instructions in performance-critical operations.\n",
      "To enable the following instructions: SSE4.1 SSE4.2 AVX AVX2 AVX512F FMA, in other operations, rebuild TensorFlow with the appropriate compiler flags.\n"
     ]
    }
   ],
   "source": [
    "import tensorflow as tf"
   ]
  },
  {
   "cell_type": "code",
   "execution_count": 2,
   "id": "400d95ae-5931-427f-a4b0-a5f2f6512c73",
   "metadata": {},
   "outputs": [],
   "source": [
    "## TensorFlow 1.x のスタイル\n",
    "g = tf.Graph()\n",
    "## 計算グラフにノードを追加\n",
    "with g.as_default():\n",
    "    a = tf.constant(1, name=\"a\")\n",
    "    b = tf.constant(2, name=\"b\")\n",
    "    c = tf.constant(3, name=\"c\")\n",
    "    z = 2*(a-b) + c"
   ]
  },
  {
   "cell_type": "code",
   "execution_count": 3,
   "id": "8ae24a9e-9d95-4d56-966f-22aeb5393e17",
   "metadata": {},
   "outputs": [
    {
     "name": "stdout",
     "output_type": "stream",
     "text": [
      "Result: z= 1\n"
     ]
    },
    {
     "name": "stderr",
     "output_type": "stream",
     "text": [
      "2024-12-16 12:05:13.682273: I tensorflow/compiler/mlir/mlir_graph_optimization_pass.cc:388] MLIR V1 optimization pass is not enabled\n"
     ]
    }
   ],
   "source": [
    "## TensorFlow 1.x のスタイル\n",
    "with tf.compat.v1.Session(graph=g) as sess:\n",
    "    print(\"Result: z=\", sess.run(z))"
   ]
  },
  {
   "cell_type": "markdown",
   "id": "6d475d7b-b309-4512-a4f4-e9609af4a92d",
   "metadata": {},
   "source": [
    "### 14.2.3 計算グラフをTensorFlow 2.x に移行させる"
   ]
  },
  {
   "cell_type": "code",
   "execution_count": 4,
   "id": "7bbf6caa-270b-4db7-ab1f-284aa56d3fa8",
   "metadata": {},
   "outputs": [
    {
     "name": "stdout",
     "output_type": "stream",
     "text": [
      "Result: z =  1\n"
     ]
    }
   ],
   "source": [
    "## TensorFlow 2.x のスタイル\n",
    "a = tf.constant(1, name=\"a\")\n",
    "b = tf.constant(2, name=\"b\")\n",
    "c = tf.constant(3, name=\"c\")\n",
    "z = 2*(a-b) + c\n",
    "tf.print(\"Result: z = \", z)"
   ]
  },
  {
   "cell_type": "markdown",
   "id": "346db24a-c381-4ee8-bfc4-48eb13708ad5",
   "metadata": {},
   "source": [
    "### 14.2.4 TensorFlow 1.xでデータをモデルに読み込む"
   ]
  },
  {
   "cell_type": "code",
   "execution_count": 5,
   "id": "036f1ad7-a0ab-4170-8d5b-d50cdf1eecb0",
   "metadata": {},
   "outputs": [
    {
     "name": "stdout",
     "output_type": "stream",
     "text": [
      "Result: z = 1\n"
     ]
    }
   ],
   "source": [
    "## TensorFlow 1.x のスタイル\n",
    "g = tf.Graph()\n",
    "with g.as_default():\n",
    "    a = tf.compat.v1.placeholder(shape=None, dtype=tf.int32, name=\"tf_a\")\n",
    "    b = tf.compat.v1.placeholder(shape=None, dtype=tf.int32, name=\"tf_b\")\n",
    "    c = tf.compat.v1.placeholder(shape=None, dtype=tf.int32, name=\"tf_c\")\n",
    "    z = 2*(a-b) + c\n",
    "\n",
    "with tf.compat.v1.Session(graph=g) as sess:\n",
    "    feed_dict = {a:1, b:2, c:3}\n",
    "    print(\"Result: z =\", sess.run(z, feed_dict=feed_dict))"
   ]
  },
  {
   "cell_type": "markdown",
   "id": "119e0a01-d0aa-4941-a913-d752bf6d5923",
   "metadata": {},
   "source": [
    "### 14.2.5 TensorFlow 2.x でデータをモデルに読み込む"
   ]
  },
  {
   "cell_type": "code",
   "execution_count": 6,
   "id": "cccc6279-1490-4b16-a100-cac74c975260",
   "metadata": {},
   "outputs": [],
   "source": [
    "## TensorFlow 2.xのスタイル\n",
    "def compute_z(a, b, c):\n",
    "    r1 = tf.subtract(a, b)\n",
    "    r2 = tf.multiply(2, r1)\n",
    "    z = tf.add(r2, c)\n",
    "    return z"
   ]
  },
  {
   "cell_type": "code",
   "execution_count": 7,
   "id": "a9f4aee2-7200-4beb-a1b9-fa0186514665",
   "metadata": {},
   "outputs": [
    {
     "name": "stdout",
     "output_type": "stream",
     "text": [
      "Scaler Inputs: 1\n",
      "Rank 1 Inputs: [1]\n",
      "Rank 2 Inputs: [[1]]\n"
     ]
    }
   ],
   "source": [
    "tf.print(\"Scaler Inputs:\", compute_z(1, 2, 3))\n",
    "tf.print(\"Rank 1 Inputs:\", compute_z([1], [2], [3]))\n",
    "tf.print(\"Rank 2 Inputs:\", compute_z([[1]], [[2]], [[3]]))"
   ]
  },
  {
   "cell_type": "markdown",
   "id": "ece08725-d984-4c20-a475-6bb3313c24d6",
   "metadata": {},
   "source": [
    "### 14.2.6 関数デコレータによる計算性能の改善"
   ]
  },
  {
   "cell_type": "code",
   "execution_count": 8,
   "id": "4f14a944-608a-426f-89f3-29413c616a81",
   "metadata": {},
   "outputs": [],
   "source": [
    "@tf.function\n",
    "def compute_z(a, b, c):\n",
    "    r1 = tf.subtract(a, b)\n",
    "    r2 = tf.multiply(2, r1)\n",
    "    z = tf.add(r2, c)\n",
    "    return z"
   ]
  },
  {
   "cell_type": "code",
   "execution_count": 9,
   "id": "080564be-0e2d-4bf2-a6dc-c5d581612d74",
   "metadata": {},
   "outputs": [
    {
     "name": "stdout",
     "output_type": "stream",
     "text": [
      "Scaler Inputs: 1\n",
      "Rank 1 Inputs: [1]\n",
      "Rank 2 Inputs: [[1]]\n"
     ]
    }
   ],
   "source": [
    "tf.print(\"Scaler Inputs:\", compute_z(1, 2, 3))\n",
    "tf.print(\"Rank 1 Inputs:\", compute_z([1], [2], [3]))\n",
    "tf.print(\"Rank 2 Inputs:\", compute_z([[1]], [[2]], [[3]]))"
   ]
  },
  {
   "cell_type": "code",
   "execution_count": 10,
   "id": "8878dd03-3831-4800-af5c-2c7ab60b2380",
   "metadata": {},
   "outputs": [],
   "source": [
    "@tf.function(input_signature=(tf.TensorSpec(shape=[None], dtype=tf.int32),\n",
    "                             tf.TensorSpec(shape=[None], dtype=tf.int32),\n",
    "                             tf.TensorSpec(shape=[None], dtype=tf.int32),))\n",
    "def compute_z(a, b, c):\n",
    "    r1 = tf.subtract(a, b)\n",
    "    r2 = tf.multiply(2, r1)\n",
    "    z = tf.add(r2, c)\n",
    "    return z"
   ]
  },
  {
   "cell_type": "code",
   "execution_count": 11,
   "id": "ee9a6476-63ef-485d-aaba-3c615667464b",
   "metadata": {},
   "outputs": [
    {
     "name": "stdout",
     "output_type": "stream",
     "text": [
      "Rank 1 Inputs: [1]\n",
      "Rank 1 Inputs: [1 2]\n"
     ]
    }
   ],
   "source": [
    "tf.print(\"Rank 1 Inputs:\", compute_z([1], [2], [3]))\n",
    "tf.print(\"Rank 1 Inputs:\", compute_z([1, 2], [2, 4], [3, 6]))"
   ]
  },
  {
   "cell_type": "markdown",
   "id": "3105f660-6596-4f3b-a141-527430e43699",
   "metadata": {},
   "source": [
    "## 14.3 TensorFlowのVariableオブジェクト：モデルパラメータの格納と更新"
   ]
  },
  {
   "cell_type": "markdown",
   "id": "fdd78239-e5b6-41d2-a0dc-ca2b4a6d7384",
   "metadata": {},
   "source": [
    "TensorFlowの`Variable`は、訓練中にモデルのパラメータを格納・更新できるようにする特別な`Tensor`オブジェクトである。"
   ]
  },
  {
   "cell_type": "markdown",
   "id": "25df3c25-92d1-493a-8ee3-69b3c3d36475",
   "metadata": {},
   "source": [
    "`Variable`を作成するには、ユーザー指定の入力値で`tf.Variable()`を呼び出せばよい。"
   ]
  },
  {
   "cell_type": "code",
   "execution_count": 3,
   "id": "d2d5b91f-71ba-4b05-8f44-4286b57b2cc2",
   "metadata": {},
   "outputs": [
    {
     "name": "stdout",
     "output_type": "stream",
     "text": [
      "<tf.Variable 'var_a:0' shape=() dtype=float32, numpy=3.14>\n"
     ]
    }
   ],
   "source": [
    "a = tf.Variable(initial_value=3.14, name=\"var_a\")\n",
    "print(a)"
   ]
  },
  {
   "cell_type": "code",
   "execution_count": 4,
   "id": "dec026da-bb7c-4e3b-935f-a8f81bb169ce",
   "metadata": {},
   "outputs": [
    {
     "name": "stdout",
     "output_type": "stream",
     "text": [
      "<tf.Variable 'var_b:0' shape=(3,) dtype=int32, numpy=array([1, 2, 3], dtype=int32)>\n"
     ]
    }
   ],
   "source": [
    "b = tf.Variable(initial_value=[1, 2, 3], name=\"var_b\")\n",
    "print(b)"
   ]
  },
  {
   "cell_type": "code",
   "execution_count": 6,
   "id": "9865fccb-a3d4-4392-98a0-e29bfefaa1e6",
   "metadata": {},
   "outputs": [
    {
     "name": "stdout",
     "output_type": "stream",
     "text": [
      "<tf.Variable 'Variable:0' shape=(2,) dtype=bool, numpy=array([ True, False])>\n"
     ]
    }
   ],
   "source": [
    "c = tf.Variable(initial_value=[True, False], dtype=tf.bool)\n",
    "print(c)"
   ]
  },
  {
   "cell_type": "code",
   "execution_count": 7,
   "id": "75ab3a21-829d-40c7-bc67-6e9d2d79134d",
   "metadata": {},
   "outputs": [
    {
     "name": "stdout",
     "output_type": "stream",
     "text": [
      "<tf.Variable 'Variable:0' shape=(1,) dtype=string, numpy=array([b'abc'], dtype=object)>\n"
     ]
    }
   ],
   "source": [
    "d = tf.Variable(initial_value=[\"abc\"], dtype=tf.string)\n",
    "print(d)"
   ]
  },
  {
   "cell_type": "markdown",
   "id": "f2509247-9631-45eb-8582-d4c3c8e5f322",
   "metadata": {},
   "source": [
    "`Variable`を作成するときは、常に初期値を指定しなければならないことに注意"
   ]
  },
  {
   "cell_type": "markdown",
   "id": "2d4b9cff-3065-44ab-8c72-64f177d253fe",
   "metadata": {},
   "source": [
    "訓練可能ではない変数は次のように定義できる。"
   ]
  },
  {
   "cell_type": "code",
   "execution_count": 8,
   "id": "9c4b4936-9c01-4394-ae91-7ca242b92602",
   "metadata": {},
   "outputs": [
    {
     "name": "stdout",
     "output_type": "stream",
     "text": [
      "False\n"
     ]
    }
   ],
   "source": [
    "w = tf.Variable([1, 2, 3], trainable=False)\n",
    "print(w.trainable)"
   ]
  },
  {
   "cell_type": "markdown",
   "id": "b9242ede-dced-47d5-9200-6132c515429d",
   "metadata": {},
   "source": [
    "`Variable`の値は`assign`や`assign_add`などのメゾットを実行することで効率よく変更できる。"
   ]
  },
  {
   "cell_type": "code",
   "execution_count": 9,
   "id": "b6585865-2948-4c85-a56c-6b3345b5550a",
   "metadata": {},
   "outputs": [
    {
     "name": "stdout",
     "output_type": "stream",
     "text": [
      "<tf.Variable 'UnreadVariable' shape=(3,) dtype=int32, numpy=array([3, 1, 4], dtype=int32)>\n"
     ]
    }
   ],
   "source": [
    "print(w.assign([3, 1, 4], read_value=True))"
   ]
  },
  {
   "cell_type": "code",
   "execution_count": 10,
   "id": "c71ed3da-e0c9-4675-95a6-d121705ccab0",
   "metadata": {},
   "outputs": [
    {
     "name": "stdout",
     "output_type": "stream",
     "text": [
      "tf.Tensor([5 0 6], shape=(3,), dtype=int32)\n"
     ]
    }
   ],
   "source": [
    "w.assign_add([2, -1, 2], read_value=False)\n",
    "print(w.value())"
   ]
  },
  {
   "cell_type": "markdown",
   "id": "4a70be44-d8d2-4a2f-adeb-34038f2f42e1",
   "metadata": {},
   "source": [
    "TensorFlowの`Variable`を作成するときも、乱数の初期化を利用することができる。"
   ]
  },
  {
   "cell_type": "markdown",
   "id": "1d0bf7f8-ec47-410f-b4bf-deafde02a046",
   "metadata": {},
   "source": [
    "TensorFlowの`tf.random`モジュールを使ってさまざまな分布の乱数を生成できる。"
   ]
  },
  {
   "cell_type": "markdown",
   "id": "3b06adfb-d714-41cf-95d0-178cd679dc79",
   "metadata": {},
   "source": [
    "Glorot初期化を使って`Variable`を作成できることを確認する。"
   ]
  },
  {
   "cell_type": "code",
   "execution_count": 2,
   "id": "f86c8f91-b6e5-4ed0-8f52-73d224884ca9",
   "metadata": {},
   "outputs": [
    {
     "name": "stdout",
     "output_type": "stream",
     "text": [
      "[0.458178699 -0.602661967 0.497707337]\n"
     ]
    }
   ],
   "source": [
    "tf.random.set_seed(1)\n",
    "init = tf.keras.initializers.GlorotNormal()\n",
    "tf.print(init(shape=(3,)))"
   ]
  },
  {
   "cell_type": "markdown",
   "id": "84cc4987-5c9e-4336-9d3d-2237f79791ea",
   "metadata": {},
   "source": [
    "この演算子を使って2×3の形状を持つ`Variable`を初期化できる"
   ]
  },
  {
   "cell_type": "code",
   "execution_count": 3,
   "id": "197f645e-1bf7-48e2-b8f7-193daa835699",
   "metadata": {},
   "outputs": [
    {
     "name": "stdout",
     "output_type": "stream",
     "text": [
      "[[0.501909614 -0.660183072 0.545211077]\n",
      " [-0.548415601 0.474084854 0.80210489]]\n"
     ]
    }
   ],
   "source": [
    "v = tf.Variable(init(shape=(2, 3)))\n",
    "tf.print(v)"
   ]
  },
  {
   "cell_type": "markdown",
   "id": "a960d518-c69b-4691-a5cf-b75699a9285d",
   "metadata": {},
   "source": [
    "`tf.Module`クラスの中で`Variable`を定義する方法を見てみよう。"
   ]
  },
  {
   "cell_type": "code",
   "execution_count": 4,
   "id": "a35b266c-f717-4599-b16c-64b9a2b5581d",
   "metadata": {},
   "outputs": [
    {
     "name": "stdout",
     "output_type": "stream",
     "text": [
      "All module variables: [TensorShape([2, 3]), TensorShape([1, 2])]\n"
     ]
    }
   ],
   "source": [
    "class MyModel(tf.Module):\n",
    "    def __init__(self):\n",
    "        init = tf.keras.initializers.GlorotNormal()\n",
    "        self.w1 = tf.Variable(init(shape=(2, 3)), trainable=True)\n",
    "        self.w2 = tf.Variable(init(shape=(1, 2)), trainable=False)\n",
    "\n",
    "m = MyModel()\n",
    "print(\"All module variables:\", [v.shape for v in m.variables])"
   ]
  },
  {
   "cell_type": "code",
   "execution_count": 5,
   "id": "56bbf6af-13b7-45db-ad99-058d97bdda00",
   "metadata": {},
   "outputs": [
    {
     "name": "stdout",
     "output_type": "stream",
     "text": [
      "Trainable variables: [TensorShape([2, 3])]\n"
     ]
    }
   ],
   "source": [
    "print(\"Trainable variables:\", [v.shape for v in m.trainable_variables])"
   ]
  },
  {
   "cell_type": "markdown",
   "id": "02210735-a813-471b-8927-a31c28d71aad",
   "metadata": {},
   "source": [
    "最後に、`tf.function`でデコレートされた関数の外で変数を定義する必要がある"
   ]
  },
  {
   "cell_type": "code",
   "execution_count": 3,
   "id": "b14456ac-0df7-4c2b-8e31-cfc3e6e37b03",
   "metadata": {},
   "outputs": [],
   "source": [
    "tf.random.set_seed(1)\n",
    "w = tf.Variable(tf.random.uniform((3, 3)))\n",
    "@tf.function\n",
    "def compute_z(x):\n",
    "    return tf.matmul(w, x)"
   ]
  },
  {
   "cell_type": "code",
   "execution_count": 4,
   "id": "f06cb495-d82c-47c5-a4a2-f9fa90f884fa",
   "metadata": {},
   "outputs": [
    {
     "name": "stdout",
     "output_type": "stream",
     "text": [
      "[[3.8610158]\n",
      " [2.94593048]\n",
      " [3.82629013]]\n"
     ]
    }
   ],
   "source": [
    "x = tf.constant([[1], [2], [3]], dtype=tf.float32)\n",
    "tf.print(compute_z(x))"
   ]
  },
  {
   "cell_type": "markdown",
   "id": "9b0e1427-b692-4ba8-8f91-e60d663c3fc8",
   "metadata": {},
   "source": [
    "## 14.4 自動微分とGradientTapeによる勾配の計算"
   ]
  },
  {
   "cell_type": "markdown",
   "id": "cbf69d76-2f44-405b-833b-a0def9b19497",
   "metadata": {},
   "source": [
    "何らかの変数を使った演算の勾配を計算する方法について説明する"
   ]
  },
  {
   "cell_type": "markdown",
   "id": "3fbca181-2a86-44a6-9ea1-a117e7704ea1",
   "metadata": {},
   "source": [
    "### 14.4.1 訓練可能な変数について損失項の勾配を計算する"
   ]
  },
  {
   "cell_type": "markdown",
   "id": "19611949-cd4f-4c06-885c-3b9c39294a96",
   "metadata": {},
   "source": [
    "TensorFlowは**自動微分**をサポートしている。"
   ]
  },
  {
   "cell_type": "markdown",
   "id": "a0ca31fe-c44c-4734-847c-3a86d339c235",
   "metadata": {},
   "source": [
    "**自動微分**については、入れ子の関数の勾配を計算するための**連鎖律**の実装として考えられる。"
   ]
  },
  {
   "cell_type": "code",
   "execution_count": 13,
   "id": "4f2be7f4-264b-484d-b728-cc334bcab466",
   "metadata": {},
   "outputs": [
    {
     "name": "stdout",
     "output_type": "stream",
     "text": [
      "True True\n"
     ]
    }
   ],
   "source": [
    "w = tf.Variable(1.0)\n",
    "b = tf.Variable(0.5)\n",
    "print(w.trainable, b.trainable)"
   ]
  },
  {
   "cell_type": "code",
   "execution_count": 14,
   "id": "85764ea1-2e1e-4ae4-9226-fd76fca9c32b",
   "metadata": {},
   "outputs": [
    {
     "name": "stdout",
     "output_type": "stream",
     "text": [
      "dL/dw: -0.559999764\n"
     ]
    }
   ],
   "source": [
    "x = tf.convert_to_tensor([1.4])\n",
    "y = tf.convert_to_tensor([2.1])\n",
    "with tf.GradientTape() as tape:\n",
    "    z = tf.add(tf.multiply(w, x), b)\n",
    "    loss = tf.reduce_sum(tf.square(y - z))\n",
    "dloss_dw = tape.gradient(loss, w)\n",
    "tf.print(\"dL/dw:\", dloss_dw)"
   ]
  },
  {
   "cell_type": "code",
   "execution_count": 15,
   "id": "db92c349-1da5-48ee-a81c-c298f6d027b5",
   "metadata": {},
   "outputs": [
    {
     "name": "stdout",
     "output_type": "stream",
     "text": [
      "[-0.559999764]\n"
     ]
    }
   ],
   "source": [
    "## 計算した勾配を検証\n",
    "tf.print(2*x*(w*x+b-y))"
   ]
  },
  {
   "cell_type": "markdown",
   "id": "0b355912-336e-49da-80d6-1ff0c3eff192",
   "metadata": {},
   "source": [
    "### 14.4.2 訓練可能ではない変数について勾配を計算する"
   ]
  },
  {
   "cell_type": "code",
   "execution_count": 16,
   "id": "458de58a-8dde-4766-8fe0-e4c799710f9f",
   "metadata": {},
   "outputs": [
    {
     "name": "stdout",
     "output_type": "stream",
     "text": [
      "dL/dx: [-0.399999857]\n"
     ]
    }
   ],
   "source": [
    "with tf.GradientTape() as tape:\n",
    "    tape.watch(x)\n",
    "    z = tf.add(tf.multiply(w, x), b)\n",
    "    loss = tf.reduce_sum(tf.square(y - z))\n",
    "\n",
    "dloss_dx = tape.gradient(loss, x)\n",
    "tf.print(\"dL/dx:\", dloss_dx)"
   ]
  },
  {
   "cell_type": "markdown",
   "id": "f0167a19-b736-4e2a-844c-71dae2526e08",
   "metadata": {},
   "source": [
    "### 14.4.3 複数の勾配計算のリソースを保持する"
   ]
  },
  {
   "cell_type": "markdown",
   "id": "fb464710-80af-44b1-9d4a-655d59062797",
   "metadata": {},
   "source": [
    "`tf.GradientTape`のコンテキストで計算を監視する際、勾配テープはデフォルトで1つの勾配計算のリソースしか保持されない。"
   ]
  },
  {
   "cell_type": "markdown",
   "id": "4fdcd03b-1f45-41cd-865f-50b5dae076e6",
   "metadata": {},
   "source": [
    "複数の勾配を計算したい場合は、勾配テープの永続化が必要となる。"
   ]
  },
  {
   "cell_type": "code",
   "execution_count": 17,
   "id": "56f99dde-3b74-414f-86f3-b13ed6cc91c4",
   "metadata": {},
   "outputs": [],
   "source": [
    "with tf.GradientTape(persistent=True) as tape:\n",
    "    z = tf.add(tf.multiply(w, x), b)\n",
    "    loss = tf.reduce_sum(tf.square(y - z))"
   ]
  },
  {
   "cell_type": "code",
   "execution_count": 18,
   "id": "188d4c37-3650-4e69-bda6-36f351789d33",
   "metadata": {},
   "outputs": [
    {
     "name": "stdout",
     "output_type": "stream",
     "text": [
      "dL/dw: -0.559999764\n"
     ]
    }
   ],
   "source": [
    "dloss_dw = tape.gradient(loss, w)\n",
    "tf.print(\"dL/dw:\", dloss_dw)"
   ]
  },
  {
   "cell_type": "code",
   "execution_count": 19,
   "id": "fc09168e-5d47-404e-b7a8-97ef0df420ae",
   "metadata": {},
   "outputs": [
    {
     "name": "stdout",
     "output_type": "stream",
     "text": [
      "dL/db: -0.399999857\n"
     ]
    }
   ],
   "source": [
    "dloss_db = tape.gradient(loss, b)\n",
    "tf.print(\"dL/db:\", dloss_db)"
   ]
  },
  {
   "cell_type": "markdown",
   "id": "2f19afaa-1b39-49d1-aa69-b245bd591b0c",
   "metadata": {},
   "source": [
    "`tf.keras`を使ってパラメータを最適化できることを示す"
   ]
  },
  {
   "cell_type": "code",
   "execution_count": 20,
   "id": "060616ba-6265-4cac-a361-427185717ab4",
   "metadata": {},
   "outputs": [
    {
     "name": "stdout",
     "output_type": "stream",
     "text": [
      "Updated w: 1.004\n",
      "Updated bias: 0.504\n"
     ]
    }
   ],
   "source": [
    "optimizer = tf.keras.optimizers.SGD()\n",
    "optimizer.apply_gradients(zip([dloss_db, dloss_db], [w, b]))\n",
    "tf.print(\"Updated w:\", w)\n",
    "tf.print(\"Updated bias:\", b)"
   ]
  },
  {
   "cell_type": "markdown",
   "id": "7a940afa-c774-4137-b0a7-ed0c709508e6",
   "metadata": {},
   "source": [
    "## 14.5 Keras APIを使って一般的なアーキテクチャの実装を単純化する"
   ]
  },
  {
   "cell_type": "code",
   "execution_count": 2,
   "id": "42929511-4d4c-4ebb-bdd2-5ac0b5e0b3ed",
   "metadata": {},
   "outputs": [
    {
     "data": {
      "text/html": [
       "<pre style=\"white-space:pre;overflow-x:auto;line-height:normal;font-family:Menlo,'DejaVu Sans Mono',consolas,'Courier New',monospace\"><span style=\"font-weight: bold\">Model: \"sequential\"</span>\n",
       "</pre>\n"
      ],
      "text/plain": [
       "\u001b[1mModel: \"sequential\"\u001b[0m\n"
      ]
     },
     "metadata": {},
     "output_type": "display_data"
    },
    {
     "data": {
      "text/html": [
       "<pre style=\"white-space:pre;overflow-x:auto;line-height:normal;font-family:Menlo,'DejaVu Sans Mono',consolas,'Courier New',monospace\">┏━━━━━━━━━━━━━━━━━━━━━━━━━━━━━━━━━┳━━━━━━━━━━━━━━━━━━━━━━━━┳━━━━━━━━━━━━━━━┓\n",
       "┃<span style=\"font-weight: bold\"> Layer (type)                    </span>┃<span style=\"font-weight: bold\"> Output Shape           </span>┃<span style=\"font-weight: bold\">       Param # </span>┃\n",
       "┡━━━━━━━━━━━━━━━━━━━━━━━━━━━━━━━━━╇━━━━━━━━━━━━━━━━━━━━━━━━╇━━━━━━━━━━━━━━━┩\n",
       "│ dense (<span style=\"color: #0087ff; text-decoration-color: #0087ff\">Dense</span>)                   │ (<span style=\"color: #00d7ff; text-decoration-color: #00d7ff\">None</span>, <span style=\"color: #00af00; text-decoration-color: #00af00\">16</span>)             │            <span style=\"color: #00af00; text-decoration-color: #00af00\">80</span> │\n",
       "├─────────────────────────────────┼────────────────────────┼───────────────┤\n",
       "│ dense_1 (<span style=\"color: #0087ff; text-decoration-color: #0087ff\">Dense</span>)                 │ (<span style=\"color: #00d7ff; text-decoration-color: #00d7ff\">None</span>, <span style=\"color: #00af00; text-decoration-color: #00af00\">32</span>)             │           <span style=\"color: #00af00; text-decoration-color: #00af00\">544</span> │\n",
       "└─────────────────────────────────┴────────────────────────┴───────────────┘\n",
       "</pre>\n"
      ],
      "text/plain": [
       "┏━━━━━━━━━━━━━━━━━━━━━━━━━━━━━━━━━┳━━━━━━━━━━━━━━━━━━━━━━━━┳━━━━━━━━━━━━━━━┓\n",
       "┃\u001b[1m \u001b[0m\u001b[1mLayer (type)                   \u001b[0m\u001b[1m \u001b[0m┃\u001b[1m \u001b[0m\u001b[1mOutput Shape          \u001b[0m\u001b[1m \u001b[0m┃\u001b[1m \u001b[0m\u001b[1m      Param #\u001b[0m\u001b[1m \u001b[0m┃\n",
       "┡━━━━━━━━━━━━━━━━━━━━━━━━━━━━━━━━━╇━━━━━━━━━━━━━━━━━━━━━━━━╇━━━━━━━━━━━━━━━┩\n",
       "│ dense (\u001b[38;5;33mDense\u001b[0m)                   │ (\u001b[38;5;45mNone\u001b[0m, \u001b[38;5;34m16\u001b[0m)             │            \u001b[38;5;34m80\u001b[0m │\n",
       "├─────────────────────────────────┼────────────────────────┼───────────────┤\n",
       "│ dense_1 (\u001b[38;5;33mDense\u001b[0m)                 │ (\u001b[38;5;45mNone\u001b[0m, \u001b[38;5;34m32\u001b[0m)             │           \u001b[38;5;34m544\u001b[0m │\n",
       "└─────────────────────────────────┴────────────────────────┴───────────────┘\n"
      ]
     },
     "metadata": {},
     "output_type": "display_data"
    },
    {
     "data": {
      "text/html": [
       "<pre style=\"white-space:pre;overflow-x:auto;line-height:normal;font-family:Menlo,'DejaVu Sans Mono',consolas,'Courier New',monospace\"><span style=\"font-weight: bold\"> Total params: </span><span style=\"color: #00af00; text-decoration-color: #00af00\">624</span> (2.44 KB)\n",
       "</pre>\n"
      ],
      "text/plain": [
       "\u001b[1m Total params: \u001b[0m\u001b[38;5;34m624\u001b[0m (2.44 KB)\n"
      ]
     },
     "metadata": {},
     "output_type": "display_data"
    },
    {
     "data": {
      "text/html": [
       "<pre style=\"white-space:pre;overflow-x:auto;line-height:normal;font-family:Menlo,'DejaVu Sans Mono',consolas,'Courier New',monospace\"><span style=\"font-weight: bold\"> Trainable params: </span><span style=\"color: #00af00; text-decoration-color: #00af00\">624</span> (2.44 KB)\n",
       "</pre>\n"
      ],
      "text/plain": [
       "\u001b[1m Trainable params: \u001b[0m\u001b[38;5;34m624\u001b[0m (2.44 KB)\n"
      ]
     },
     "metadata": {},
     "output_type": "display_data"
    },
    {
     "data": {
      "text/html": [
       "<pre style=\"white-space:pre;overflow-x:auto;line-height:normal;font-family:Menlo,'DejaVu Sans Mono',consolas,'Courier New',monospace\"><span style=\"font-weight: bold\"> Non-trainable params: </span><span style=\"color: #00af00; text-decoration-color: #00af00\">0</span> (0.00 B)\n",
       "</pre>\n"
      ],
      "text/plain": [
       "\u001b[1m Non-trainable params: \u001b[0m\u001b[38;5;34m0\u001b[0m (0.00 B)\n"
      ]
     },
     "metadata": {},
     "output_type": "display_data"
    }
   ],
   "source": [
    "model = tf.keras.Sequential()\n",
    "model.add(tf.keras.layers.Dense(units=16, activation=\"relu\"))\n",
    "model.add(tf.keras.layers.Dense(units=32, activation=\"relu\"))\n",
    "## 遅延変数作成\n",
    "model.build(input_shape=(None, 4))\n",
    "model.summary()"
   ]
  },
  {
   "cell_type": "markdown",
   "id": "9d3f0d93-d492-4735-a23f-a4373da8d858",
   "metadata": {},
   "source": [
    "1つ目の層は$16 \\times 4 + 16 = 80$、2つ目の層は$16 \\times 32 + 32 = 544$である。"
   ]
  },
  {
   "cell_type": "markdown",
   "id": "643b6acc-ef34-441b-850e-ec647aa0fdd7",
   "metadata": {},
   "source": [
    "変数（モデルパラメータ）が作成されたら、訓練可能な変数と訓練可能ではない変数に次のようにアクセスできる"
   ]
  },
  {
   "cell_type": "code",
   "execution_count": 3,
   "id": "0cb5f825-702b-41a6-ba62-ecbc3b94a65a",
   "metadata": {},
   "outputs": [
    {
     "name": "stdout",
     "output_type": "stream",
     "text": [
      "kernel               True (4, 16)\n",
      "bias                 True (16,)\n",
      "kernel               True (16, 32)\n",
      "bias                 True (32,)\n"
     ]
    }
   ],
   "source": [
    "## モデルの変数を出力\n",
    "for v in model.variables:\n",
    "    print(\"{:20s}\".format(v.name), v.trainable, v.shape)"
   ]
  },
  {
   "cell_type": "code",
   "execution_count": 4,
   "id": "74ca82e5-38c5-4b37-ac00-feef21f42141",
   "metadata": {},
   "outputs": [],
   "source": [
    "model = tf.keras.Sequential()\n",
    "model.add(tf.keras.layers.Dense(\n",
    "    units=16,\n",
    "    activation=tf.keras.activations.relu,\n",
    "    kernel_initializer=tf.keras.initializers.glorot_uniform(),\n",
    "    bias_initializer=tf.keras.initializers.Constant(2.0),\n",
    "))\n",
    "model.add(tf.keras.layers.Dense(\n",
    "    units=32,\n",
    "    activation=tf.keras.activations.sigmoid,\n",
    "    kernel_regularizer=tf.keras.regularizers.l1,\n",
    "))"
   ]
  },
  {
   "cell_type": "code",
   "execution_count": 5,
   "id": "9d913bab-7803-42e5-88a5-19babb9de051",
   "metadata": {},
   "outputs": [],
   "source": [
    "model.compile(\n",
    "    optimizer=tf.keras.optimizers.SGD(learning_rate=0.001),\n",
    "    loss=tf.keras.losses.BinaryCrossentropy(),\n",
    "    metrics=[\n",
    "        tf.keras.metrics.Accuracy(),\n",
    "        tf.keras.metrics.Precision(),\n",
    "        tf.keras.metrics.Recall(),\n",
    "    ],\n",
    ")"
   ]
  },
  {
   "cell_type": "markdown",
   "id": "0ebee97a-1086-4ba8-acab-5854b19c7b27",
   "metadata": {},
   "source": [
    "### 14.5.1 XOR分類問題を解く"
   ]
  },
  {
   "cell_type": "markdown",
   "id": "320f3cf0-60fc-4265-807f-a67ca4816814",
   "metadata": {},
   "source": [
    "実践的な例として、Keras APIを使ってXOR分類問題を解いてみよう。"
   ]
  },
  {
   "cell_type": "markdown",
   "id": "88c7d157-47dc-4e48-ab5e-6dba5e3973c0",
   "metadata": {},
   "source": [
    "`tf.keras.Sequential`クラスを使ってモデルを構築する。<br>\n",
    "その過程で非線形の決定境界に対処するモデルのキャパシティも確認する。"
   ]
  },
  {
   "cell_type": "markdown",
   "id": "8529ad4d-d6e1-41de-a2ed-97d0ef939ba5",
   "metadata": {},
   "source": [
    "XOR分類問題は、「2つのクラス間での非線形の決定境界の捕捉」に関してモデルのキャパシティを分類するという古典的な問題である。"
   ]
  },
  {
   "cell_type": "markdown",
   "id": "5c140f4c-f5bb-48b6-8eab-33aa62db7e9b",
   "metadata": {},
   "source": [
    "データを生成して訓練データセットと検証データセットに分割するコードは次のようになる。"
   ]
  },
  {
   "cell_type": "code",
   "execution_count": 2,
   "id": "462b5490-4cf0-4f4f-8ff3-183396b3c494",
   "metadata": {},
   "outputs": [
    {
     "name": "stderr",
     "output_type": "stream",
     "text": [
      "2024-12-29 00:37:13.891407: I tensorflow/core/platform/cpu_feature_guard.cc:210] This TensorFlow binary is optimized to use available CPU instructions in performance-critical operations.\n",
      "To enable the following instructions: SSE4.1 SSE4.2 AVX AVX2 AVX512F FMA, in other operations, rebuild TensorFlow with the appropriate compiler flags.\n"
     ]
    }
   ],
   "source": [
    "import tensorflow as tf"
   ]
  },
  {
   "cell_type": "code",
   "execution_count": 141,
   "id": "de5a34f9-1813-42b7-a7cd-3854e7685357",
   "metadata": {},
   "outputs": [
    {
     "name": "stdout",
     "output_type": "stream",
     "text": [
      "Collecting mlxtend\n",
      "  Using cached mlxtend-0.23.3-py3-none-any.whl.metadata (7.3 kB)\n",
      "Requirement already satisfied: scipy>=1.2.1 in /opt/conda/lib/python3.11/site-packages (from mlxtend) (1.12.0)\n",
      "Requirement already satisfied: numpy>=1.16.2 in /opt/conda/lib/python3.11/site-packages (from mlxtend) (1.26.4)\n",
      "Requirement already satisfied: pandas>=0.24.2 in /opt/conda/lib/python3.11/site-packages (from mlxtend) (2.2.3)\n",
      "Requirement already satisfied: scikit-learn>=1.3.1 in /opt/conda/lib/python3.11/site-packages (from mlxtend) (1.4.2)\n",
      "Requirement already satisfied: matplotlib>=3.0.0 in /opt/conda/lib/python3.11/site-packages (from mlxtend) (3.9.2)\n",
      "Requirement already satisfied: joblib>=0.13.2 in /opt/conda/lib/python3.11/site-packages (from mlxtend) (1.4.2)\n",
      "Requirement already satisfied: contourpy>=1.0.1 in /opt/conda/lib/python3.11/site-packages (from matplotlib>=3.0.0->mlxtend) (1.3.1)\n",
      "Requirement already satisfied: cycler>=0.10 in /opt/conda/lib/python3.11/site-packages (from matplotlib>=3.0.0->mlxtend) (0.12.1)\n",
      "Requirement already satisfied: fonttools>=4.22.0 in /opt/conda/lib/python3.11/site-packages (from matplotlib>=3.0.0->mlxtend) (4.54.1)\n",
      "Requirement already satisfied: kiwisolver>=1.3.1 in /opt/conda/lib/python3.11/site-packages (from matplotlib>=3.0.0->mlxtend) (1.4.7)\n",
      "Requirement already satisfied: packaging>=20.0 in /opt/conda/lib/python3.11/site-packages (from matplotlib>=3.0.0->mlxtend) (24.2)\n",
      "Requirement already satisfied: pillow>=8 in /opt/conda/lib/python3.11/site-packages (from matplotlib>=3.0.0->mlxtend) (10.4.0)\n",
      "Requirement already satisfied: pyparsing>=2.3.1 in /opt/conda/lib/python3.11/site-packages (from matplotlib>=3.0.0->mlxtend) (3.2.0)\n",
      "Requirement already satisfied: python-dateutil>=2.7 in /opt/conda/lib/python3.11/site-packages (from matplotlib>=3.0.0->mlxtend) (2.9.0)\n",
      "Requirement already satisfied: pytz>=2020.1 in /opt/conda/lib/python3.11/site-packages (from pandas>=0.24.2->mlxtend) (2023.3)\n",
      "Requirement already satisfied: tzdata>=2022.7 in /opt/conda/lib/python3.11/site-packages (from pandas>=0.24.2->mlxtend) (2024.2)\n",
      "Requirement already satisfied: threadpoolctl>=2.0.0 in /opt/conda/lib/python3.11/site-packages (from scikit-learn>=1.3.1->mlxtend) (3.5.0)\n",
      "Requirement already satisfied: six>=1.5 in /opt/conda/lib/python3.11/site-packages (from python-dateutil>=2.7->matplotlib>=3.0.0->mlxtend) (1.16.0)\n",
      "Using cached mlxtend-0.23.3-py3-none-any.whl (1.4 MB)\n",
      "Installing collected packages: mlxtend\n",
      "Successfully installed mlxtend-0.23.3\n",
      "Note: you may need to restart the kernel to use updated packages.\n"
     ]
    }
   ],
   "source": [
    "%pip install mlxtend"
   ]
  },
  {
   "cell_type": "code",
   "execution_count": 142,
   "id": "572b4fe5-d803-47e9-863d-27642cad859b",
   "metadata": {},
   "outputs": [],
   "source": [
    "from mlxtend.plotting import plot_decision_regions"
   ]
  },
  {
   "cell_type": "code",
   "execution_count": 5,
   "id": "a63d2f01-8957-4e92-9640-f9665b03d64a",
   "metadata": {},
   "outputs": [
    {
     "data": {
      "image/png": "[encoded data removed]",
      "text/plain": [
       "<Figure size 600x600 with 1 Axes>"
      ]
     },
     "metadata": {},
     "output_type": "display_data"
    }
   ],
   "source": [
    "import numpy as np\n",
    "import matplotlib.pyplot as plt\n",
    "tf.random.set_seed(1)\n",
    "np.random.seed(1)\n",
    "x = np.random.uniform(low=-1, high=1, size=(200, 2))\n",
    "y = np.ones(len(x))\n",
    "y[x[:, 0] * x[:, 1] < 0] = 0\n",
    "x_train = x[:100, :]\n",
    "y_train = y[:100]\n",
    "x_valid = x[100:, :]\n",
    "y_valid = y[100:]\n",
    "fig = plt.figure(figsize=(6, 6))\n",
    "plt.plot(x[y==0, 0], x[y==0, 1], \"o\", alpha=0.75, markersize=10)\n",
    "plt.plot(x[y==1, 0], x[y==1, 1], \"<\", alpha=0.75, markersize=10)\n",
    "plt.xlabel(r\"$x_1$\", size=15)\n",
    "plt.xlabel(r\"$x_2$\", size=15)\n",
    "plt.show()"
   ]
  },
  {
   "cell_type": "markdown",
   "id": "2dbdcad2-c23f-45f0-8cd6-939adcf983f2",
   "metadata": {},
   "source": [
    "パラメータの数が多いほどネットワークがより複雑な関数に適合できることを意味するが、通常はモデルが大きくなるほど訓練が難しくなる。"
   ]
  },
  {
   "cell_type": "markdown",
   "id": "51dda0de-5d29-431f-af75-c623230fa078",
   "metadata": {},
   "source": [
    "実際には、ロジスティック回帰といった単層ニューラルネットワークなど、ベースラインとして単純なモデルから始めるのが常によい考えである。"
   ]
  },
  {
   "cell_type": "code",
   "execution_count": 3,
   "id": "196e4ac2-cd28-44e3-8b18-d073ffb9e8a1",
   "metadata": {},
   "outputs": [
    {
     "name": "stderr",
     "output_type": "stream",
     "text": [
      "/opt/conda/lib/python3.11/site-packages/keras/src/layers/core/dense.py:87: UserWarning: Do not pass an `input_shape`/`input_dim` argument to a layer. When using Sequential models, prefer using an `Input(shape)` object as the first layer in the model instead.\n",
      "  super().__init__(activity_regularizer=activity_regularizer, **kwargs)\n"
     ]
    },
    {
     "data": {
      "text/html": [
       "<pre style=\"white-space:pre;overflow-x:auto;line-height:normal;font-family:Menlo,'DejaVu Sans Mono',consolas,'Courier New',monospace\"><span style=\"font-weight: bold\">Model: \"sequential\"</span>\n",
       "</pre>\n"
      ],
      "text/plain": [
       "\u001b[1mModel: \"sequential\"\u001b[0m\n"
      ]
     },
     "metadata": {},
     "output_type": "display_data"
    },
    {
     "data": {
      "text/html": [
       "<pre style=\"white-space:pre;overflow-x:auto;line-height:normal;font-family:Menlo,'DejaVu Sans Mono',consolas,'Courier New',monospace\">┏━━━━━━━━━━━━━━━━━━━━━━━━━━━━━━━━━┳━━━━━━━━━━━━━━━━━━━━━━━━┳━━━━━━━━━━━━━━━┓\n",
       "┃<span style=\"font-weight: bold\"> Layer (type)                    </span>┃<span style=\"font-weight: bold\"> Output Shape           </span>┃<span style=\"font-weight: bold\">       Param # </span>┃\n",
       "┡━━━━━━━━━━━━━━━━━━━━━━━━━━━━━━━━━╇━━━━━━━━━━━━━━━━━━━━━━━━╇━━━━━━━━━━━━━━━┩\n",
       "│ dense (<span style=\"color: #0087ff; text-decoration-color: #0087ff\">Dense</span>)                   │ (<span style=\"color: #00d7ff; text-decoration-color: #00d7ff\">None</span>, <span style=\"color: #00af00; text-decoration-color: #00af00\">1</span>)              │             <span style=\"color: #00af00; text-decoration-color: #00af00\">3</span> │\n",
       "└─────────────────────────────────┴────────────────────────┴───────────────┘\n",
       "</pre>\n"
      ],
      "text/plain": [
       "┏━━━━━━━━━━━━━━━━━━━━━━━━━━━━━━━━━┳━━━━━━━━━━━━━━━━━━━━━━━━┳━━━━━━━━━━━━━━━┓\n",
       "┃\u001b[1m \u001b[0m\u001b[1mLayer (type)                   \u001b[0m\u001b[1m \u001b[0m┃\u001b[1m \u001b[0m\u001b[1mOutput Shape          \u001b[0m\u001b[1m \u001b[0m┃\u001b[1m \u001b[0m\u001b[1m      Param #\u001b[0m\u001b[1m \u001b[0m┃\n",
       "┡━━━━━━━━━━━━━━━━━━━━━━━━━━━━━━━━━╇━━━━━━━━━━━━━━━━━━━━━━━━╇━━━━━━━━━━━━━━━┩\n",
       "│ dense (\u001b[38;5;33mDense\u001b[0m)                   │ (\u001b[38;5;45mNone\u001b[0m, \u001b[38;5;34m1\u001b[0m)              │             \u001b[38;5;34m3\u001b[0m │\n",
       "└─────────────────────────────────┴────────────────────────┴───────────────┘\n"
      ]
     },
     "metadata": {},
     "output_type": "display_data"
    },
    {
     "data": {
      "text/html": [
       "<pre style=\"white-space:pre;overflow-x:auto;line-height:normal;font-family:Menlo,'DejaVu Sans Mono',consolas,'Courier New',monospace\"><span style=\"font-weight: bold\"> Total params: </span><span style=\"color: #00af00; text-decoration-color: #00af00\">3</span> (12.00 B)\n",
       "</pre>\n"
      ],
      "text/plain": [
       "\u001b[1m Total params: \u001b[0m\u001b[38;5;34m3\u001b[0m (12.00 B)\n"
      ]
     },
     "metadata": {},
     "output_type": "display_data"
    },
    {
     "data": {
      "text/html": [
       "<pre style=\"white-space:pre;overflow-x:auto;line-height:normal;font-family:Menlo,'DejaVu Sans Mono',consolas,'Courier New',monospace\"><span style=\"font-weight: bold\"> Trainable params: </span><span style=\"color: #00af00; text-decoration-color: #00af00\">3</span> (12.00 B)\n",
       "</pre>\n"
      ],
      "text/plain": [
       "\u001b[1m Trainable params: \u001b[0m\u001b[38;5;34m3\u001b[0m (12.00 B)\n"
      ]
     },
     "metadata": {},
     "output_type": "display_data"
    },
    {
     "data": {
      "text/html": [
       "<pre style=\"white-space:pre;overflow-x:auto;line-height:normal;font-family:Menlo,'DejaVu Sans Mono',consolas,'Courier New',monospace\"><span style=\"font-weight: bold\"> Non-trainable params: </span><span style=\"color: #00af00; text-decoration-color: #00af00\">0</span> (0.00 B)\n",
       "</pre>\n"
      ],
      "text/plain": [
       "\u001b[1m Non-trainable params: \u001b[0m\u001b[38;5;34m0\u001b[0m (0.00 B)\n"
      ]
     },
     "metadata": {},
     "output_type": "display_data"
    }
   ],
   "source": [
    "model = tf.keras.Sequential()\n",
    "model.add(tf.keras.layers.Dense(units=1, input_shape=(2,), activation=\"sigmoid\"))\n",
    "model.summary()"
   ]
  },
  {
   "cell_type": "code",
   "execution_count": 5,
   "id": "b9b872ac-b728-4ece-8ac8-797bb49cecc2",
   "metadata": {},
   "outputs": [],
   "source": [
    "model.compile(optimizer=tf.keras.optimizers.SGD(),\n",
    "             loss=tf.keras.losses.BinaryCrossentropy(),\n",
    "             metrics=[tf.keras.metrics.BinaryAccuracy()])\n",
    "hist = model.fit(x_train, y_train,\n",
    "                validation_data=(x_valid, y_valid),\n",
    "                epochs=200, batch_size=2, verbose=0)"
   ]
  },
  {
   "cell_type": "code",
   "execution_count": 7,
   "id": "ced43ffb-583c-4290-8ff1-dcd735f5ae66",
   "metadata": {},
   "outputs": [
    {
     "name": "stderr",
     "output_type": "stream",
     "text": [
      "/tmp/ipykernel_111/2071287988.py:15: DeprecationWarning: Converting `np.integer` or `np.signedinteger` to a dtype is deprecated. The current result is `np.dtype(np.int_)` which is not strictly correct. Note that the result depends on the system. To ensure stable results use may want to use `np.int64` or `np.int32`.\n",
      "  plot_decision_regions(X=x_valid, y=y_valid.astype(np.integer), clf=model)\n"
     ]
    },
    {
     "name": "stdout",
     "output_type": "stream",
     "text": [
      "\u001b[1m20000/20000\u001b[0m \u001b[32m━━━━━━━━━━━━━━━━━━━━\u001b[0m\u001b[37m\u001b[0m \u001b[1m23s\u001b[0m 1ms/step\n"
     ]
    },
    {
     "data": {
      "image/png": "[encoded data removed]",
      "text/plain": [
       "<Figure size 1600x400 with 3 Axes>"
      ]
     },
     "metadata": {},
     "output_type": "display_data"
    }
   ],
   "source": [
    "history = hist.history\n",
    "fig = plt.figure(figsize=(16, 4))\n",
    "ax = fig.add_subplot(1, 3, 1)\n",
    "plt.plot(history[\"loss\"], lw=4)\n",
    "plt.plot(history[\"val_loss\"], lw=4)\n",
    "plt.legend([\"Train loss\", \"Validation loss\"], fontsize=15)\n",
    "ax.set_xlabel(\"Epochs\", size=15)\n",
    "ax = fig.add_subplot(1, 3, 2)\n",
    "plt.plot(history[\"binary_accuracy\"], lw=4)\n",
    "plt.plot(history[\"val_binary_accuracy\"], lw=4)\n",
    "plt.legend([\"Train Acc.\", \"Validation Acc.\"], fontsize=15)\n",
    "ax.set_xlabel(\"Epochs\", size=15)\n",
    "ax = fig.add_subplot(1, 3, 3)\n",
    "plot_decision_regions(X=x_valid, y=y_valid.astype(np.integer), clf=model)\n",
    "ax.set_xlabel(r\"$x_1$\", size=15)\n",
    "ax.xaxis.set_label_coords(1, -0.025)\n",
    "ax.set_ylabel(r\"$x_2$\", size=15)\n",
    "ax.yaxis.set_label_coords(-0.025, 1)\n",
    "plt.show()"
   ]
  },
  {
   "cell_type": "markdown",
   "id": "20d6c2ce-dca0-44f5-a46a-104182d1154d",
   "metadata": {},
   "source": [
    "損失率、正解率、そして決定境界に沿った検証データの散布図が3つのパネルに分かれている。"
   ]
  },
  {
   "cell_type": "markdown",
   "id": "38ad4144-268e-4c5d-b1a3-25eca7f5b963",
   "metadata": {},
   "source": [
    "隠れ層を持たない単純なモデルは線形の決定境界しか抽出できないため、XOR問題を解くのは不可能である。"
   ]
  },
  {
   "cell_type": "markdown",
   "id": "055a8c47-c695-4048-9bfe-b3fa54c15d84",
   "metadata": {},
   "source": [
    "結果として、訓練データセットと検証データセットの両方で損失項の値が非常に大きいことと、分解正解率が非常に低いことが確認できる。"
   ]
  },
  {
   "cell_type": "markdown",
   "id": "be7850ca-a265-489c-adb8-74466b59e82e",
   "metadata": {},
   "source": [
    "XOR問題により的確に取り組む方法の1つは、隠れ層を追加して、検証データセットで満足のいく結果が観測されるまで隠れユニットの個数を変えながら比較することである。"
   ]
  },
  {
   "cell_type": "markdown",
   "id": "79221a3f-4086-4611-9e01-14b4b9f546ea",
   "metadata": {},
   "source": [
    "あるいは、隠れ層をさらに追加して、さらに深いモデルにすることもできる。"
   ]
  },
  {
   "cell_type": "markdown",
   "id": "b28e3435-a0cb-451f-9781-f9112cd00ab9",
   "metadata": {},
   "source": [
    "ネットワークを深くすると、同等の性能を達成するのに必要なパラメータの個数が少なくなるという利点がある。"
   ]
  },
  {
   "cell_type": "markdown",
   "id": "aacb69dd-f906-4ac7-95af-907e5c1bed72",
   "metadata": {},
   "source": [
    "ただし、深いモデルには、勾配消失問題や勾配発散問題に陥りやすく、訓練するのが難しくなるという問題がある。"
   ]
  },
  {
   "cell_type": "markdown",
   "id": "73b8ab79-3749-43cd-a2c5-6a46a5da97a5",
   "metadata": {},
   "source": [
    "練習がてら、4つの隠れユニットを持つ隠れ層を1～4個追加してみよう。"
   ]
  },
  {
   "cell_type": "markdown",
   "id": "80938095-9304-4fb8-b555-bcc2bd2cba40",
   "metadata": {},
   "source": [
    "次の例は、3つの隠れ層を持つフィードフォワードニューラルネットワークの結果を示している。"
   ]
  },
  {
   "cell_type": "code",
   "execution_count": 8,
   "id": "d65311bf-1d4a-4b32-ac51-a54a5a7f13c0",
   "metadata": {},
   "outputs": [
    {
     "data": {
      "text/html": [
       "<pre style=\"white-space:pre;overflow-x:auto;line-height:normal;font-family:Menlo,'DejaVu Sans Mono',consolas,'Courier New',monospace\"><span style=\"font-weight: bold\">Model: \"sequential_1\"</span>\n",
       "</pre>\n"
      ],
      "text/plain": [
       "\u001b[1mModel: \"sequential_1\"\u001b[0m\n"
      ]
     },
     "metadata": {},
     "output_type": "display_data"
    },
    {
     "data": {
      "text/html": [
       "<pre style=\"white-space:pre;overflow-x:auto;line-height:normal;font-family:Menlo,'DejaVu Sans Mono',consolas,'Courier New',monospace\">┏━━━━━━━━━━━━━━━━━━━━━━━━━━━━━━━━━┳━━━━━━━━━━━━━━━━━━━━━━━━┳━━━━━━━━━━━━━━━┓\n",
       "┃<span style=\"font-weight: bold\"> Layer (type)                    </span>┃<span style=\"font-weight: bold\"> Output Shape           </span>┃<span style=\"font-weight: bold\">       Param # </span>┃\n",
       "┡━━━━━━━━━━━━━━━━━━━━━━━━━━━━━━━━━╇━━━━━━━━━━━━━━━━━━━━━━━━╇━━━━━━━━━━━━━━━┩\n",
       "│ dense_4 (<span style=\"color: #0087ff; text-decoration-color: #0087ff\">Dense</span>)                 │ (<span style=\"color: #00d7ff; text-decoration-color: #00d7ff\">None</span>, <span style=\"color: #00af00; text-decoration-color: #00af00\">4</span>)              │            <span style=\"color: #00af00; text-decoration-color: #00af00\">12</span> │\n",
       "├─────────────────────────────────┼────────────────────────┼───────────────┤\n",
       "│ dense_5 (<span style=\"color: #0087ff; text-decoration-color: #0087ff\">Dense</span>)                 │ (<span style=\"color: #00d7ff; text-decoration-color: #00d7ff\">None</span>, <span style=\"color: #00af00; text-decoration-color: #00af00\">4</span>)              │            <span style=\"color: #00af00; text-decoration-color: #00af00\">20</span> │\n",
       "├─────────────────────────────────┼────────────────────────┼───────────────┤\n",
       "│ dense_6 (<span style=\"color: #0087ff; text-decoration-color: #0087ff\">Dense</span>)                 │ (<span style=\"color: #00d7ff; text-decoration-color: #00d7ff\">None</span>, <span style=\"color: #00af00; text-decoration-color: #00af00\">4</span>)              │            <span style=\"color: #00af00; text-decoration-color: #00af00\">20</span> │\n",
       "├─────────────────────────────────┼────────────────────────┼───────────────┤\n",
       "│ dense_7 (<span style=\"color: #0087ff; text-decoration-color: #0087ff\">Dense</span>)                 │ (<span style=\"color: #00d7ff; text-decoration-color: #00d7ff\">None</span>, <span style=\"color: #00af00; text-decoration-color: #00af00\">1</span>)              │             <span style=\"color: #00af00; text-decoration-color: #00af00\">5</span> │\n",
       "└─────────────────────────────────┴────────────────────────┴───────────────┘\n",
       "</pre>\n"
      ],
      "text/plain": [
       "┏━━━━━━━━━━━━━━━━━━━━━━━━━━━━━━━━━┳━━━━━━━━━━━━━━━━━━━━━━━━┳━━━━━━━━━━━━━━━┓\n",
       "┃\u001b[1m \u001b[0m\u001b[1mLayer (type)                   \u001b[0m\u001b[1m \u001b[0m┃\u001b[1m \u001b[0m\u001b[1mOutput Shape          \u001b[0m\u001b[1m \u001b[0m┃\u001b[1m \u001b[0m\u001b[1m      Param #\u001b[0m\u001b[1m \u001b[0m┃\n",
       "┡━━━━━━━━━━━━━━━━━━━━━━━━━━━━━━━━━╇━━━━━━━━━━━━━━━━━━━━━━━━╇━━━━━━━━━━━━━━━┩\n",
       "│ dense_4 (\u001b[38;5;33mDense\u001b[0m)                 │ (\u001b[38;5;45mNone\u001b[0m, \u001b[38;5;34m4\u001b[0m)              │            \u001b[38;5;34m12\u001b[0m │\n",
       "├─────────────────────────────────┼────────────────────────┼───────────────┤\n",
       "│ dense_5 (\u001b[38;5;33mDense\u001b[0m)                 │ (\u001b[38;5;45mNone\u001b[0m, \u001b[38;5;34m4\u001b[0m)              │            \u001b[38;5;34m20\u001b[0m │\n",
       "├─────────────────────────────────┼────────────────────────┼───────────────┤\n",
       "│ dense_6 (\u001b[38;5;33mDense\u001b[0m)                 │ (\u001b[38;5;45mNone\u001b[0m, \u001b[38;5;34m4\u001b[0m)              │            \u001b[38;5;34m20\u001b[0m │\n",
       "├─────────────────────────────────┼────────────────────────┼───────────────┤\n",
       "│ dense_7 (\u001b[38;5;33mDense\u001b[0m)                 │ (\u001b[38;5;45mNone\u001b[0m, \u001b[38;5;34m1\u001b[0m)              │             \u001b[38;5;34m5\u001b[0m │\n",
       "└─────────────────────────────────┴────────────────────────┴───────────────┘\n"
      ]
     },
     "metadata": {},
     "output_type": "display_data"
    },
    {
     "data": {
      "text/html": [
       "<pre style=\"white-space:pre;overflow-x:auto;line-height:normal;font-family:Menlo,'DejaVu Sans Mono',consolas,'Courier New',monospace\"><span style=\"font-weight: bold\"> Total params: </span><span style=\"color: #00af00; text-decoration-color: #00af00\">57</span> (228.00 B)\n",
       "</pre>\n"
      ],
      "text/plain": [
       "\u001b[1m Total params: \u001b[0m\u001b[38;5;34m57\u001b[0m (228.00 B)\n"
      ]
     },
     "metadata": {},
     "output_type": "display_data"
    },
    {
     "data": {
      "text/html": [
       "<pre style=\"white-space:pre;overflow-x:auto;line-height:normal;font-family:Menlo,'DejaVu Sans Mono',consolas,'Courier New',monospace\"><span style=\"font-weight: bold\"> Trainable params: </span><span style=\"color: #00af00; text-decoration-color: #00af00\">57</span> (228.00 B)\n",
       "</pre>\n"
      ],
      "text/plain": [
       "\u001b[1m Trainable params: \u001b[0m\u001b[38;5;34m57\u001b[0m (228.00 B)\n"
      ]
     },
     "metadata": {},
     "output_type": "display_data"
    },
    {
     "data": {
      "text/html": [
       "<pre style=\"white-space:pre;overflow-x:auto;line-height:normal;font-family:Menlo,'DejaVu Sans Mono',consolas,'Courier New',monospace\"><span style=\"font-weight: bold\"> Non-trainable params: </span><span style=\"color: #00af00; text-decoration-color: #00af00\">0</span> (0.00 B)\n",
       "</pre>\n"
      ],
      "text/plain": [
       "\u001b[1m Non-trainable params: \u001b[0m\u001b[38;5;34m0\u001b[0m (0.00 B)\n"
      ]
     },
     "metadata": {},
     "output_type": "display_data"
    }
   ],
   "source": [
    "tf.random.set_seed(1)\n",
    "model = tf.keras.Sequential()\n",
    "model.add(tf.keras.Input(shape=(2,)))\n",
    "model.add(tf.keras.layers.Dense(units=4, activation=\"relu\"))\n",
    "model.add(tf.keras.layers.Dense(units=4, activation=\"relu\"))\n",
    "model.add(tf.keras.layers.Dense(units=4, activation=\"relu\"))\n",
    "model.add(tf.keras.layers.Dense(units=1, activation=\"sigmoid\"))\n",
    "model.summary()"
   ]
  },
  {
   "cell_type": "code",
   "execution_count": 12,
   "id": "70ee6ab9-4405-432d-a6e4-bbcd282b39ab",
   "metadata": {},
   "outputs": [],
   "source": [
    "model.compile(optimizer=tf.keras.optimizers.SGD(),\n",
    "             loss=tf.keras.losses.BinaryCrossentropy(),\n",
    "             metrics=[tf.keras.metrics.BinaryAccuracy()])\n",
    "hist = model.fit(x_train, y_train, validation_data=(x_valid, y_valid),\n",
    "                epochs=200, batch_size=2, verbose=0)"
   ]
  },
  {
   "cell_type": "code",
   "execution_count": 13,
   "id": "d06cb925-5595-417c-9c28-d58428978e00",
   "metadata": {},
   "outputs": [
    {
     "name": "stderr",
     "output_type": "stream",
     "text": [
      "/tmp/ipykernel_112/560639765.py:14: DeprecationWarning: Converting `np.integer` or `np.signedinteger` to a dtype is deprecated. The current result is `np.dtype(np.int_)` which is not strictly correct. Note that the result depends on the system. To ensure stable results use may want to use `np.int64` or `np.int32`.\n",
      "  plot_decision_regions(X=x_valid, y=y_valid.astype(np.integer), clf=model)\n"
     ]
    },
    {
     "name": "stdout",
     "output_type": "stream",
     "text": [
      "\u001b[1m20000/20000\u001b[0m \u001b[32m━━━━━━━━━━━━━━━━━━━━\u001b[0m\u001b[37m\u001b[0m \u001b[1m22s\u001b[0m 1ms/step\n"
     ]
    },
    {
     "data": {
      "image/png": "[encoded data removed]",
      "text/plain": [
       "<Figure size 1600x400 with 3 Axes>"
      ]
     },
     "metadata": {},
     "output_type": "display_data"
    }
   ],
   "source": [
    "history = hist.history\n",
    "fig = plt.figure(figsize=(16, 4))\n",
    "ax = fig.add_subplot(1, 3, 1)\n",
    "plt.plot(history[\"loss\"], lw=4)\n",
    "plt.plot(history[\"val_loss\"], lw=4)\n",
    "plt.legend([\"Train loss\", \"Validation loss\"], fontsize=15)\n",
    "ax.set_xlabel(\"Epochs\", size=15)\n",
    "ax = fig.add_subplot(1, 3, 2)\n",
    "plt.plot(history[\"binary_accuracy\"], lw=4)\n",
    "plt.plot(history[\"val_binary_accuracy\"], lw=4)\n",
    "plt.legend([\"Train Acc.\", \"Validation Acc.\"], fontsize=15)\n",
    "ax.set_xlabel(\"Epochs\", size=15)\n",
    "ax = fig.add_subplot(1, 3, 3)\n",
    "plot_decision_regions(X=x_valid, y=y_valid.astype(np.integer), clf=model)\n",
    "ax.set_xlabel(r\"$x_1$\", size=15)\n",
    "ax.xaxis.set_label_coords(1, -0.025)\n",
    "ax.set_ylabel(r\"$x_2$\", size=15)\n",
    "ax.yaxis.set_label_coords(-0.025, 1)\n",
    "plt.show()"
   ]
  },
  {
   "cell_type": "markdown",
   "id": "a60cebf2-83ef-424e-9b46-67638ed264a3",
   "metadata": {},
   "source": [
    "このように、モデルがこのデータから非線形の決定境界を抽出できるようになった。"
   ]
  },
  {
   "cell_type": "markdown",
   "id": "db22aa5a-b04c-477c-95c4-a4cbe57b1364",
   "metadata": {},
   "source": [
    "訓練データセットでの正解率は100%に達している。検証データセットでの正解率は95%であり、このモデルはわずかながら過学習していることを示している。"
   ]
  },
  {
   "cell_type": "markdown",
   "id": "3b05f88a-ee3a-40c8-90c9-8f9b83a35738",
   "metadata": {},
   "source": [
    "### 14.5.2 KerasのFunctional API を使ってより柔軟にモデルを構築する"
   ]
  },
  {
   "cell_type": "code",
   "execution_count": 14,
   "id": "5bdee988-92fa-422b-9893-b67ac3b4d1d2",
   "metadata": {},
   "outputs": [
    {
     "data": {
      "text/html": [
       "<pre style=\"white-space:pre;overflow-x:auto;line-height:normal;font-family:Menlo,'DejaVu Sans Mono',consolas,'Courier New',monospace\"><span style=\"font-weight: bold\">Model: \"functional_8\"</span>\n",
       "</pre>\n"
      ],
      "text/plain": [
       "\u001b[1mModel: \"functional_8\"\u001b[0m\n"
      ]
     },
     "metadata": {},
     "output_type": "display_data"
    },
    {
     "data": {
      "text/html": [
       "<pre style=\"white-space:pre;overflow-x:auto;line-height:normal;font-family:Menlo,'DejaVu Sans Mono',consolas,'Courier New',monospace\">┏━━━━━━━━━━━━━━━━━━━━━━━━━━━━━━━━━┳━━━━━━━━━━━━━━━━━━━━━━━━┳━━━━━━━━━━━━━━━┓\n",
       "┃<span style=\"font-weight: bold\"> Layer (type)                    </span>┃<span style=\"font-weight: bold\"> Output Shape           </span>┃<span style=\"font-weight: bold\">       Param # </span>┃\n",
       "┡━━━━━━━━━━━━━━━━━━━━━━━━━━━━━━━━━╇━━━━━━━━━━━━━━━━━━━━━━━━╇━━━━━━━━━━━━━━━┩\n",
       "│ input_layer_2 (<span style=\"color: #0087ff; text-decoration-color: #0087ff\">InputLayer</span>)      │ (<span style=\"color: #00d7ff; text-decoration-color: #00d7ff\">None</span>, <span style=\"color: #00af00; text-decoration-color: #00af00\">2</span>)              │             <span style=\"color: #00af00; text-decoration-color: #00af00\">0</span> │\n",
       "├─────────────────────────────────┼────────────────────────┼───────────────┤\n",
       "│ dense_8 (<span style=\"color: #0087ff; text-decoration-color: #0087ff\">Dense</span>)                 │ (<span style=\"color: #00d7ff; text-decoration-color: #00d7ff\">None</span>, <span style=\"color: #00af00; text-decoration-color: #00af00\">4</span>)              │            <span style=\"color: #00af00; text-decoration-color: #00af00\">12</span> │\n",
       "├─────────────────────────────────┼────────────────────────┼───────────────┤\n",
       "│ dense_9 (<span style=\"color: #0087ff; text-decoration-color: #0087ff\">Dense</span>)                 │ (<span style=\"color: #00d7ff; text-decoration-color: #00d7ff\">None</span>, <span style=\"color: #00af00; text-decoration-color: #00af00\">4</span>)              │            <span style=\"color: #00af00; text-decoration-color: #00af00\">20</span> │\n",
       "├─────────────────────────────────┼────────────────────────┼───────────────┤\n",
       "│ dense_10 (<span style=\"color: #0087ff; text-decoration-color: #0087ff\">Dense</span>)                │ (<span style=\"color: #00d7ff; text-decoration-color: #00d7ff\">None</span>, <span style=\"color: #00af00; text-decoration-color: #00af00\">4</span>)              │            <span style=\"color: #00af00; text-decoration-color: #00af00\">20</span> │\n",
       "├─────────────────────────────────┼────────────────────────┼───────────────┤\n",
       "│ dense_11 (<span style=\"color: #0087ff; text-decoration-color: #0087ff\">Dense</span>)                │ (<span style=\"color: #00d7ff; text-decoration-color: #00d7ff\">None</span>, <span style=\"color: #00af00; text-decoration-color: #00af00\">1</span>)              │             <span style=\"color: #00af00; text-decoration-color: #00af00\">5</span> │\n",
       "└─────────────────────────────────┴────────────────────────┴───────────────┘\n",
       "</pre>\n"
      ],
      "text/plain": [
       "┏━━━━━━━━━━━━━━━━━━━━━━━━━━━━━━━━━┳━━━━━━━━━━━━━━━━━━━━━━━━┳━━━━━━━━━━━━━━━┓\n",
       "┃\u001b[1m \u001b[0m\u001b[1mLayer (type)                   \u001b[0m\u001b[1m \u001b[0m┃\u001b[1m \u001b[0m\u001b[1mOutput Shape          \u001b[0m\u001b[1m \u001b[0m┃\u001b[1m \u001b[0m\u001b[1m      Param #\u001b[0m\u001b[1m \u001b[0m┃\n",
       "┡━━━━━━━━━━━━━━━━━━━━━━━━━━━━━━━━━╇━━━━━━━━━━━━━━━━━━━━━━━━╇━━━━━━━━━━━━━━━┩\n",
       "│ input_layer_2 (\u001b[38;5;33mInputLayer\u001b[0m)      │ (\u001b[38;5;45mNone\u001b[0m, \u001b[38;5;34m2\u001b[0m)              │             \u001b[38;5;34m0\u001b[0m │\n",
       "├─────────────────────────────────┼────────────────────────┼───────────────┤\n",
       "│ dense_8 (\u001b[38;5;33mDense\u001b[0m)                 │ (\u001b[38;5;45mNone\u001b[0m, \u001b[38;5;34m4\u001b[0m)              │            \u001b[38;5;34m12\u001b[0m │\n",
       "├─────────────────────────────────┼────────────────────────┼───────────────┤\n",
       "│ dense_9 (\u001b[38;5;33mDense\u001b[0m)                 │ (\u001b[38;5;45mNone\u001b[0m, \u001b[38;5;34m4\u001b[0m)              │            \u001b[38;5;34m20\u001b[0m │\n",
       "├─────────────────────────────────┼────────────────────────┼───────────────┤\n",
       "│ dense_10 (\u001b[38;5;33mDense\u001b[0m)                │ (\u001b[38;5;45mNone\u001b[0m, \u001b[38;5;34m4\u001b[0m)              │            \u001b[38;5;34m20\u001b[0m │\n",
       "├─────────────────────────────────┼────────────────────────┼───────────────┤\n",
       "│ dense_11 (\u001b[38;5;33mDense\u001b[0m)                │ (\u001b[38;5;45mNone\u001b[0m, \u001b[38;5;34m1\u001b[0m)              │             \u001b[38;5;34m5\u001b[0m │\n",
       "└─────────────────────────────────┴────────────────────────┴───────────────┘\n"
      ]
     },
     "metadata": {},
     "output_type": "display_data"
    },
    {
     "data": {
      "text/html": [
       "<pre style=\"white-space:pre;overflow-x:auto;line-height:normal;font-family:Menlo,'DejaVu Sans Mono',consolas,'Courier New',monospace\"><span style=\"font-weight: bold\"> Total params: </span><span style=\"color: #00af00; text-decoration-color: #00af00\">57</span> (228.00 B)\n",
       "</pre>\n"
      ],
      "text/plain": [
       "\u001b[1m Total params: \u001b[0m\u001b[38;5;34m57\u001b[0m (228.00 B)\n"
      ]
     },
     "metadata": {},
     "output_type": "display_data"
    },
    {
     "data": {
      "text/html": [
       "<pre style=\"white-space:pre;overflow-x:auto;line-height:normal;font-family:Menlo,'DejaVu Sans Mono',consolas,'Courier New',monospace\"><span style=\"font-weight: bold\"> Trainable params: </span><span style=\"color: #00af00; text-decoration-color: #00af00\">57</span> (228.00 B)\n",
       "</pre>\n"
      ],
      "text/plain": [
       "\u001b[1m Trainable params: \u001b[0m\u001b[38;5;34m57\u001b[0m (228.00 B)\n"
      ]
     },
     "metadata": {},
     "output_type": "display_data"
    },
    {
     "data": {
      "text/html": [
       "<pre style=\"white-space:pre;overflow-x:auto;line-height:normal;font-family:Menlo,'DejaVu Sans Mono',consolas,'Courier New',monospace\"><span style=\"font-weight: bold\"> Non-trainable params: </span><span style=\"color: #00af00; text-decoration-color: #00af00\">0</span> (0.00 B)\n",
       "</pre>\n"
      ],
      "text/plain": [
       "\u001b[1m Non-trainable params: \u001b[0m\u001b[38;5;34m0\u001b[0m (0.00 B)\n"
      ]
     },
     "metadata": {},
     "output_type": "display_data"
    }
   ],
   "source": [
    "tf.random.set_seed(1)\n",
    "## 入力層\n",
    "inputs = tf.keras.Input(shape=(2,))\n",
    "## 隠れ層\n",
    "h1 = tf.keras.layers.Dense(units=4, activation=\"relu\")(inputs)\n",
    "h2 = tf.keras.layers.Dense(units=4, activation=\"relu\")(h1)\n",
    "h3 = tf.keras.layers.Dense(units=4, activation=\"relu\")(h2)\n",
    "## 出力層\n",
    "outputs = tf.keras.layers.Dense(units=1, activation=\"sigmoid\")(h3)\n",
    "## モデルを構築\n",
    "model = tf.keras.Model(inputs=inputs, outputs=outputs)\n",
    "model.summary()"
   ]
  },
  {
   "cell_type": "code",
   "execution_count": 15,
   "id": "2c4c2d11-7398-486f-94f8-e94a5d6c128f",
   "metadata": {},
   "outputs": [],
   "source": [
    "model.compile(optimizer=tf.keras.optimizers.SGD(),\n",
    "             loss=tf.keras.losses.BinaryCrossentropy(),\n",
    "             metrics=[tf.keras.metrics.BinaryAccuracy()])\n",
    "hist = model.fit(x_train, y_train, validation_data=(x_valid, y_valid),\n",
    "                epochs=200, batch_size=2, verbose=0)"
   ]
  },
  {
   "cell_type": "markdown",
   "id": "392b1c5f-db49-4219-83e1-c7a4764fb022",
   "metadata": {},
   "source": [
    "### 14.5.3 KerasのModelクラスに基づいてモデルを実装する"
   ]
  },
  {
   "cell_type": "markdown",
   "id": "214f958d-7188-4e86-ba40-d742c8e67596",
   "metadata": {},
   "source": [
    "複雑なモデルを構築するもう1つの方法は、`tf.keras.Model`のサブクラス化である。"
   ]
  },
  {
   "cell_type": "markdown",
   "id": "b4f2abc4-0cf6-4217-bb83-86e38167c67a",
   "metadata": {},
   "source": [
    "前項と同じモデルを実装する新しいクラスは次のように定義する。"
   ]
  },
  {
   "cell_type": "code",
   "execution_count": 3,
   "id": "e1fc2cb5-5860-4c8c-831e-ae252fe5f348",
   "metadata": {},
   "outputs": [],
   "source": [
    "class MyModel(tf.keras.Model):\n",
    "    def __init__(self):\n",
    "        super(MyModel, self).__init__()\n",
    "        self.hidden_1 = tf.keras.layers.Dense(units=4, activation=\"relu\")\n",
    "        self.hidden_2 = tf.keras.layers.Dense(units=4, activation=\"relu\")\n",
    "        self.hidden_3 = tf.keras.layers.Dense(units=4, activation=\"relu\")\n",
    "        self.output_layer = tf.keras.layers.Dense(units=1, activation=\"sigmoid\")\n",
    "\n",
    "    def call(self, inputs):\n",
    "        h = self.hidden_1(inputs)\n",
    "        h = self.hidden_2(h)\n",
    "        h = self.hidden_3(h)\n",
    "        return self.output_layer(h)"
   ]
  },
  {
   "cell_type": "markdown",
   "id": "42ac6529-173b-4da3-ab59-913ed3eebf2b",
   "metadata": {},
   "source": [
    "`tf.keras.Model`のサブクラスであるモデルは、`build`、`compile`、`fit`など、モデルの一般的なメゾットを継承する。"
   ]
  },
  {
   "cell_type": "markdown",
   "id": "76dd7f07-f810-42f2-a9ba-0eca7623c725",
   "metadata": {},
   "source": [
    "このため、新しいクラスのインスタンスを作成した後は、`Keras`を使って構築した他のモデルと同じようにコンパイル/訓練できる。"
   ]
  },
  {
   "cell_type": "code",
   "execution_count": 6,
   "id": "910cc584-5b39-4d83-aa19-358f810df371",
   "metadata": {},
   "outputs": [
    {
     "name": "stderr",
     "output_type": "stream",
     "text": [
      "/opt/conda/lib/python3.11/site-packages/keras/src/layers/layer.py:391: UserWarning: `build()` was called on layer 'my_model_1', however the layer does not have a `build()` method implemented and it looks like it has unbuilt state. This will cause the layer to be marked as built, despite not being actually built, which may cause failures down the line. Make sure to implement a proper `build()` method.\n",
      "  warnings.warn(\n"
     ]
    },
    {
     "data": {
      "text/html": [
       "<pre style=\"white-space:pre;overflow-x:auto;line-height:normal;font-family:Menlo,'DejaVu Sans Mono',consolas,'Courier New',monospace\"><span style=\"font-weight: bold\">Model: \"my_model_1\"</span>\n",
       "</pre>\n"
      ],
      "text/plain": [
       "\u001b[1mModel: \"my_model_1\"\u001b[0m\n"
      ]
     },
     "metadata": {},
     "output_type": "display_data"
    },
    {
     "data": {
      "text/html": [
       "<pre style=\"white-space:pre;overflow-x:auto;line-height:normal;font-family:Menlo,'DejaVu Sans Mono',consolas,'Courier New',monospace\">┏━━━━━━━━━━━━━━━━━━━━━━━━━━━━━━━━━┳━━━━━━━━━━━━━━━━━━━━━━━━┳━━━━━━━━━━━━━━━┓\n",
       "┃<span style=\"font-weight: bold\"> Layer (type)                    </span>┃<span style=\"font-weight: bold\"> Output Shape           </span>┃<span style=\"font-weight: bold\">       Param # </span>┃\n",
       "┡━━━━━━━━━━━━━━━━━━━━━━━━━━━━━━━━━╇━━━━━━━━━━━━━━━━━━━━━━━━╇━━━━━━━━━━━━━━━┩\n",
       "│ dense_4 (<span style=\"color: #0087ff; text-decoration-color: #0087ff\">Dense</span>)                 │ ?                      │   <span style=\"color: #00af00; text-decoration-color: #00af00\">0</span> (unbuilt) │\n",
       "├─────────────────────────────────┼────────────────────────┼───────────────┤\n",
       "│ dense_5 (<span style=\"color: #0087ff; text-decoration-color: #0087ff\">Dense</span>)                 │ ?                      │   <span style=\"color: #00af00; text-decoration-color: #00af00\">0</span> (unbuilt) │\n",
       "├─────────────────────────────────┼────────────────────────┼───────────────┤\n",
       "│ dense_6 (<span style=\"color: #0087ff; text-decoration-color: #0087ff\">Dense</span>)                 │ ?                      │   <span style=\"color: #00af00; text-decoration-color: #00af00\">0</span> (unbuilt) │\n",
       "├─────────────────────────────────┼────────────────────────┼───────────────┤\n",
       "│ dense_7 (<span style=\"color: #0087ff; text-decoration-color: #0087ff\">Dense</span>)                 │ ?                      │   <span style=\"color: #00af00; text-decoration-color: #00af00\">0</span> (unbuilt) │\n",
       "└─────────────────────────────────┴────────────────────────┴───────────────┘\n",
       "</pre>\n"
      ],
      "text/plain": [
       "┏━━━━━━━━━━━━━━━━━━━━━━━━━━━━━━━━━┳━━━━━━━━━━━━━━━━━━━━━━━━┳━━━━━━━━━━━━━━━┓\n",
       "┃\u001b[1m \u001b[0m\u001b[1mLayer (type)                   \u001b[0m\u001b[1m \u001b[0m┃\u001b[1m \u001b[0m\u001b[1mOutput Shape          \u001b[0m\u001b[1m \u001b[0m┃\u001b[1m \u001b[0m\u001b[1m      Param #\u001b[0m\u001b[1m \u001b[0m┃\n",
       "┡━━━━━━━━━━━━━━━━━━━━━━━━━━━━━━━━━╇━━━━━━━━━━━━━━━━━━━━━━━━╇━━━━━━━━━━━━━━━┩\n",
       "│ dense_4 (\u001b[38;5;33mDense\u001b[0m)                 │ ?                      │   \u001b[38;5;34m0\u001b[0m (unbuilt) │\n",
       "├─────────────────────────────────┼────────────────────────┼───────────────┤\n",
       "│ dense_5 (\u001b[38;5;33mDense\u001b[0m)                 │ ?                      │   \u001b[38;5;34m0\u001b[0m (unbuilt) │\n",
       "├─────────────────────────────────┼────────────────────────┼───────────────┤\n",
       "│ dense_6 (\u001b[38;5;33mDense\u001b[0m)                 │ ?                      │   \u001b[38;5;34m0\u001b[0m (unbuilt) │\n",
       "├─────────────────────────────────┼────────────────────────┼───────────────┤\n",
       "│ dense_7 (\u001b[38;5;33mDense\u001b[0m)                 │ ?                      │   \u001b[38;5;34m0\u001b[0m (unbuilt) │\n",
       "└─────────────────────────────────┴────────────────────────┴───────────────┘\n"
      ]
     },
     "metadata": {},
     "output_type": "display_data"
    },
    {
     "data": {
      "text/html": [
       "<pre style=\"white-space:pre;overflow-x:auto;line-height:normal;font-family:Menlo,'DejaVu Sans Mono',consolas,'Courier New',monospace\"><span style=\"font-weight: bold\"> Total params: </span><span style=\"color: #00af00; text-decoration-color: #00af00\">0</span> (0.00 B)\n",
       "</pre>\n"
      ],
      "text/plain": [
       "\u001b[1m Total params: \u001b[0m\u001b[38;5;34m0\u001b[0m (0.00 B)\n"
      ]
     },
     "metadata": {},
     "output_type": "display_data"
    },
    {
     "data": {
      "text/html": [
       "<pre style=\"white-space:pre;overflow-x:auto;line-height:normal;font-family:Menlo,'DejaVu Sans Mono',consolas,'Courier New',monospace\"><span style=\"font-weight: bold\"> Trainable params: </span><span style=\"color: #00af00; text-decoration-color: #00af00\">0</span> (0.00 B)\n",
       "</pre>\n"
      ],
      "text/plain": [
       "\u001b[1m Trainable params: \u001b[0m\u001b[38;5;34m0\u001b[0m (0.00 B)\n"
      ]
     },
     "metadata": {},
     "output_type": "display_data"
    },
    {
     "data": {
      "text/html": [
       "<pre style=\"white-space:pre;overflow-x:auto;line-height:normal;font-family:Menlo,'DejaVu Sans Mono',consolas,'Courier New',monospace\"><span style=\"font-weight: bold\"> Non-trainable params: </span><span style=\"color: #00af00; text-decoration-color: #00af00\">0</span> (0.00 B)\n",
       "</pre>\n"
      ],
      "text/plain": [
       "\u001b[1m Non-trainable params: \u001b[0m\u001b[38;5;34m0\u001b[0m (0.00 B)\n"
      ]
     },
     "metadata": {},
     "output_type": "display_data"
    }
   ],
   "source": [
    "tf.random.set_seed(1)\n",
    "model = MyModel()\n",
    "model.build(input_shape=(None, 2))\n",
    "model.summary()\n",
    "## コンパイル\n",
    "model.compile(optimizer=tf.keras.optimizers.SGD(),\n",
    "             loss=tf.keras.losses.BinaryCrossentropy(),\n",
    "             metrics=[tf.keras.metrics.BinaryAccuracy()])\n",
    "## 訓練\n",
    "hist = model.fit(x_train, y_train,\n",
    "                validation_data=(x_valid, y_valid),\n",
    "                epochs=200, batch_size=2, verbose=0)"
   ]
  },
  {
   "cell_type": "markdown",
   "id": "43d8efd1-f39a-4a22-83a0-939d05bf7e49",
   "metadata": {},
   "source": [
    "### 14.5.4 Keras を使ってカスタム層を記述する"
   ]
  },
  {
   "cell_type": "markdown",
   "id": "b851307d-29ba-4a82-8164-2e9df6f44306",
   "metadata": {},
   "source": [
    "Kerasがまだサポートしていない新しい層を定義したい場合は、`tf.keras.layers.Layer`クラスを継承する新しいクラスを定義できる。"
   ]
  },
  {
   "cell_type": "markdown",
   "id": "c648686f-1db6-452d-9bd7-2b06c062ca2f",
   "metadata": {},
   "source": [
    "この方法は、新しい層を設計したり、既存の層をカスタマイズしたりする場合に特に便利である。"
   ]
  },
  {
   "cell_type": "markdown",
   "id": "171f92b8-7ca8-41d8-a284-66bdb704afca",
   "metadata": {},
   "source": [
    "単純な例として、$w(x+\\epsilon) + b$を計算する新しい線形層を定義したいとしよう。$\\epsilon$はランダムな変数を表す。"
   ]
  },
  {
   "cell_type": "code",
   "execution_count": 10,
   "id": "73df9bdf-de1a-4ab6-9693-1e896e82f73d",
   "metadata": {},
   "outputs": [],
   "source": [
    "class NoisyLinear(tf.keras.layers.Layer):\n",
    "    def __init__(self, output_dim, noise_stddev=0.1, **kwargs):\n",
    "        self.output_dim = output_dim\n",
    "        self.noise_stddev = noise_stddev\n",
    "        super(NoisyLinear, self).__init__(**kwargs)\n",
    "\n",
    "    def build(self, input_shape):\n",
    "        self.w = self.add_weight(name=\"weights\",\n",
    "                                shape=(input_shape[1], self.output_dim),\n",
    "                                initializer=\"random_normal\",\n",
    "                                trainable=True)\n",
    "        self.b = self.add_weight(shape=(self.output_dim,),\n",
    "                                initializer=\"zeros\",\n",
    "                                trainable=True)\n",
    "\n",
    "    def call(self, inputs, training=False):\n",
    "        if training:\n",
    "            batch = tf.shape(inputs)[0]\n",
    "            dim = tf.shape(inputs)[1]\n",
    "            noise = tf.random.normal(shape=(batch, dim), mean=0.0,\n",
    "                                    stddev=self.noise_stddev)\n",
    "            noisy_inputs = tf.add(inputs, noise)\n",
    "        else:\n",
    "            noisy_inputs = inputs\n",
    "        z = tf.matmul(noisy_inputs, self.w) + self.b\n",
    "        return tf.keras.activations.relu(z)\n",
    "\n",
    "    def get_config(self):\n",
    "        config = super(NoisyLinear, self).get_config()\n",
    "        config.update({\"output_dim\": self.output_dim,\n",
    "                      \"noise_stddev\": self.noise_stddev})\n",
    "        return config"
   ]
  },
  {
   "cell_type": "code",
   "execution_count": 14,
   "id": "40518709-de8b-471e-9252-f7ce28f8f908",
   "metadata": {},
   "outputs": [
    {
     "name": "stdout",
     "output_type": "stream",
     "text": [
      "[[0.00533614215 0 0 0]]\n"
     ]
    }
   ],
   "source": [
    "tf.random.set_seed(1)\n",
    "noisy_layer = NoisyLinear(4)\n",
    "noisy_layer.build(input_shape=(None, 4))\n",
    "x = tf.zeros(shape=(1, 4))\n",
    "tf.print(noisy_layer(x, training=True))"
   ]
  },
  {
   "cell_type": "code",
   "execution_count": 16,
   "id": "578f57e6-2650-4d50-82f2-5aecd1cc460a",
   "metadata": {},
   "outputs": [
    {
     "name": "stdout",
     "output_type": "stream",
     "text": [
      "[[0.00422844663 0.00148792611 0 0.00809221342]]\n"
     ]
    }
   ],
   "source": [
    "## configからの再構築\n",
    "config = noisy_layer.get_config()\n",
    "new_layer = NoisyLinear.from_config(config)\n",
    "tf.print(new_layer(x, training=True))"
   ]
  },
  {
   "cell_type": "code",
   "execution_count": 19,
   "id": "7db56980-8121-4dfa-93f2-0b8687d37964",
   "metadata": {},
   "outputs": [
    {
     "data": {
      "text/html": [
       "<pre style=\"white-space:pre;overflow-x:auto;line-height:normal;font-family:Menlo,'DejaVu Sans Mono',consolas,'Courier New',monospace\"><span style=\"font-weight: bold\">Model: \"sequential\"</span>\n",
       "</pre>\n"
      ],
      "text/plain": [
       "\u001b[1mModel: \"sequential\"\u001b[0m\n"
      ]
     },
     "metadata": {},
     "output_type": "display_data"
    },
    {
     "data": {
      "text/html": [
       "<pre style=\"white-space:pre;overflow-x:auto;line-height:normal;font-family:Menlo,'DejaVu Sans Mono',consolas,'Courier New',monospace\">┏━━━━━━━━━━━━━━━━━━━━━━━━━━━━━━━━━┳━━━━━━━━━━━━━━━━━━━━━━━━┳━━━━━━━━━━━━━━━┓\n",
       "┃<span style=\"font-weight: bold\"> Layer (type)                    </span>┃<span style=\"font-weight: bold\"> Output Shape           </span>┃<span style=\"font-weight: bold\">       Param # </span>┃\n",
       "┡━━━━━━━━━━━━━━━━━━━━━━━━━━━━━━━━━╇━━━━━━━━━━━━━━━━━━━━━━━━╇━━━━━━━━━━━━━━━┩\n",
       "│ noisy_linear_6 (<span style=\"color: #0087ff; text-decoration-color: #0087ff\">NoisyLinear</span>)    │ (<span style=\"color: #00d7ff; text-decoration-color: #00d7ff\">None</span>, <span style=\"color: #00af00; text-decoration-color: #00af00\">4</span>)              │            <span style=\"color: #00af00; text-decoration-color: #00af00\">12</span> │\n",
       "├─────────────────────────────────┼────────────────────────┼───────────────┤\n",
       "│ dense_8 (<span style=\"color: #0087ff; text-decoration-color: #0087ff\">Dense</span>)                 │ (<span style=\"color: #00d7ff; text-decoration-color: #00d7ff\">None</span>, <span style=\"color: #00af00; text-decoration-color: #00af00\">4</span>)              │            <span style=\"color: #00af00; text-decoration-color: #00af00\">20</span> │\n",
       "├─────────────────────────────────┼────────────────────────┼───────────────┤\n",
       "│ dense_9 (<span style=\"color: #0087ff; text-decoration-color: #0087ff\">Dense</span>)                 │ (<span style=\"color: #00d7ff; text-decoration-color: #00d7ff\">None</span>, <span style=\"color: #00af00; text-decoration-color: #00af00\">4</span>)              │            <span style=\"color: #00af00; text-decoration-color: #00af00\">20</span> │\n",
       "├─────────────────────────────────┼────────────────────────┼───────────────┤\n",
       "│ dense_10 (<span style=\"color: #0087ff; text-decoration-color: #0087ff\">Dense</span>)                │ (<span style=\"color: #00d7ff; text-decoration-color: #00d7ff\">None</span>, <span style=\"color: #00af00; text-decoration-color: #00af00\">1</span>)              │             <span style=\"color: #00af00; text-decoration-color: #00af00\">5</span> │\n",
       "└─────────────────────────────────┴────────────────────────┴───────────────┘\n",
       "</pre>\n"
      ],
      "text/plain": [
       "┏━━━━━━━━━━━━━━━━━━━━━━━━━━━━━━━━━┳━━━━━━━━━━━━━━━━━━━━━━━━┳━━━━━━━━━━━━━━━┓\n",
       "┃\u001b[1m \u001b[0m\u001b[1mLayer (type)                   \u001b[0m\u001b[1m \u001b[0m┃\u001b[1m \u001b[0m\u001b[1mOutput Shape          \u001b[0m\u001b[1m \u001b[0m┃\u001b[1m \u001b[0m\u001b[1m      Param #\u001b[0m\u001b[1m \u001b[0m┃\n",
       "┡━━━━━━━━━━━━━━━━━━━━━━━━━━━━━━━━━╇━━━━━━━━━━━━━━━━━━━━━━━━╇━━━━━━━━━━━━━━━┩\n",
       "│ noisy_linear_6 (\u001b[38;5;33mNoisyLinear\u001b[0m)    │ (\u001b[38;5;45mNone\u001b[0m, \u001b[38;5;34m4\u001b[0m)              │            \u001b[38;5;34m12\u001b[0m │\n",
       "├─────────────────────────────────┼────────────────────────┼───────────────┤\n",
       "│ dense_8 (\u001b[38;5;33mDense\u001b[0m)                 │ (\u001b[38;5;45mNone\u001b[0m, \u001b[38;5;34m4\u001b[0m)              │            \u001b[38;5;34m20\u001b[0m │\n",
       "├─────────────────────────────────┼────────────────────────┼───────────────┤\n",
       "│ dense_9 (\u001b[38;5;33mDense\u001b[0m)                 │ (\u001b[38;5;45mNone\u001b[0m, \u001b[38;5;34m4\u001b[0m)              │            \u001b[38;5;34m20\u001b[0m │\n",
       "├─────────────────────────────────┼────────────────────────┼───────────────┤\n",
       "│ dense_10 (\u001b[38;5;33mDense\u001b[0m)                │ (\u001b[38;5;45mNone\u001b[0m, \u001b[38;5;34m1\u001b[0m)              │             \u001b[38;5;34m5\u001b[0m │\n",
       "└─────────────────────────────────┴────────────────────────┴───────────────┘\n"
      ]
     },
     "metadata": {},
     "output_type": "display_data"
    },
    {
     "data": {
      "text/html": [
       "<pre style=\"white-space:pre;overflow-x:auto;line-height:normal;font-family:Menlo,'DejaVu Sans Mono',consolas,'Courier New',monospace\"><span style=\"font-weight: bold\"> Total params: </span><span style=\"color: #00af00; text-decoration-color: #00af00\">57</span> (228.00 B)\n",
       "</pre>\n"
      ],
      "text/plain": [
       "\u001b[1m Total params: \u001b[0m\u001b[38;5;34m57\u001b[0m (228.00 B)\n"
      ]
     },
     "metadata": {},
     "output_type": "display_data"
    },
    {
     "data": {
      "text/html": [
       "<pre style=\"white-space:pre;overflow-x:auto;line-height:normal;font-family:Menlo,'DejaVu Sans Mono',consolas,'Courier New',monospace\"><span style=\"font-weight: bold\"> Trainable params: </span><span style=\"color: #00af00; text-decoration-color: #00af00\">57</span> (228.00 B)\n",
       "</pre>\n"
      ],
      "text/plain": [
       "\u001b[1m Trainable params: \u001b[0m\u001b[38;5;34m57\u001b[0m (228.00 B)\n"
      ]
     },
     "metadata": {},
     "output_type": "display_data"
    },
    {
     "data": {
      "text/html": [
       "<pre style=\"white-space:pre;overflow-x:auto;line-height:normal;font-family:Menlo,'DejaVu Sans Mono',consolas,'Courier New',monospace\"><span style=\"font-weight: bold\"> Non-trainable params: </span><span style=\"color: #00af00; text-decoration-color: #00af00\">0</span> (0.00 B)\n",
       "</pre>\n"
      ],
      "text/plain": [
       "\u001b[1m Non-trainable params: \u001b[0m\u001b[38;5;34m0\u001b[0m (0.00 B)\n"
      ]
     },
     "metadata": {},
     "output_type": "display_data"
    },
    {
     "name": "stderr",
     "output_type": "stream",
     "text": [
      "/tmp/ipykernel_114/1732411167.py:34: DeprecationWarning: Converting `np.integer` or `np.signedinteger` to a dtype is deprecated. The current result is `np.dtype(np.int_)` which is not strictly correct. Note that the result depends on the system. To ensure stable results use may want to use `np.int64` or `np.int32`.\n",
      "  plot_decision_regions(X=x_valid, y=y_valid.astype(np.integer), clf=model)\n"
     ]
    },
    {
     "name": "stdout",
     "output_type": "stream",
     "text": [
      "\u001b[1m20000/20000\u001b[0m \u001b[32m━━━━━━━━━━━━━━━━━━━━\u001b[0m\u001b[37m\u001b[0m \u001b[1m21s\u001b[0m 1ms/step\n"
     ]
    },
    {
     "data": {
      "image/png": "[encoded data removed]",
      "text/plain": [
       "<Figure size 1600x400 with 3 Axes>"
      ]
     },
     "metadata": {},
     "output_type": "display_data"
    }
   ],
   "source": [
    "tf.random.set_seed(1)\n",
    "model = tf.keras.Sequential([NoisyLinear(4, noise_stddev=0.1),\n",
    "                             tf.keras.layers.Dense(units=4, activation=\"relu\"),\n",
    "                             tf.keras.layers.Dense(units=4, activation=\"relu\"),\n",
    "                             tf.keras.layers.Dense(units=1, activation=\"sigmoid\")\n",
    "                            ])\n",
    "model.build(input_shape=(None, 2))\n",
    "model.summary()\n",
    "\n",
    "## コンパイル\n",
    "model.compile(optimizer=tf.keras.optimizers.SGD(),\n",
    "              loss=tf.keras.losses.BinaryCrossentropy(),\n",
    "              metrics=[tf.keras.metrics.BinaryAccuracy()])\n",
    "\n",
    "## 訓練\n",
    "hist = model.fit(x_train, y_train,\n",
    "                validation_data=(x_valid, y_valid),\n",
    "                epochs=200, batch_size=2, verbose=0)\n",
    "\n",
    "## プロット\n",
    "history = hist.history\n",
    "fig = plt.figure(figsize=(16, 4))\n",
    "ax = fig.add_subplot(1, 3, 1)\n",
    "plt.plot(history[\"loss\"], lw=4)\n",
    "plt.plot(history[\"val_loss\"], lw=4)\n",
    "plt.legend([\"Train loss\", \"Validation loss\"], fontsize=15)\n",
    "ax.set_xlabel(\"Epochs\", size=15)\n",
    "ax = fig.add_subplot(1, 3, 2)\n",
    "plt.plot(history[\"binary_accuracy\"], lw=4)\n",
    "plt.plot(history[\"val_binary_accuracy\"], lw=4)\n",
    "plt.legend([\"Train Acc.\", \"Validation Acc.\"], fontsize=15)\n",
    "ax.set_xlabel(\"Epochs\", size=15)\n",
    "ax = fig.add_subplot(1, 3, 3)\n",
    "plot_decision_regions(X=x_valid, y=y_valid.astype(np.integer), clf=model)\n",
    "ax.set_xlabel(r\"$x_1$\", size=15)\n",
    "ax.xaxis.set_label_coords(1, -0.025)\n",
    "ax.set_ylabel(r\"$x_2$\", size=15)\n",
    "ax.yaxis.set_label_coords(-0.025, 1)\n",
    "plt.show()"
   ]
  },
  {
   "cell_type": "markdown",
   "id": "91fa61e3-7042-490f-aba5-249714812da0",
   "metadata": {},
   "source": [
    "## 14.6 TensorFlow Estimator"
   ]
  },
  {
   "cell_type": "markdown",
   "id": "62329ea4-2453-4b70-9d34-7bd503b87cbc",
   "metadata": {},
   "source": [
    "`tf.estimator`モジュールは、訓練・予測（推定）・評価といった機械学習タスクのステップをカプセル化したAPIである。"
   ]
  },
  {
   "cell_type": "markdown",
   "id": "061ca05e-3628-44e6-8aaf-3aaa5e037a48",
   "metadata": {},
   "source": [
    "### 14.6.1 特徴量列の操作"
   ]
  },
  {
   "cell_type": "markdown",
   "id": "461fa4e1-79fd-4a9d-a6f7-990e8a91226a",
   "metadata": {},
   "source": [
    "機械学習とディープラーニングのアプリケーションでは、連続値の特徴量、順序を持たないカテゴリ値の特徴量（名義特徴量）、順序を持つカテゴリ値の特徴量（順序特徴量）など、さまざまな種類の特徴量を扱う可能性がある。"
   ]
  },
  {
   "cell_type": "markdown",
   "id": "09baa26b-7434-4fe3-82a6-4559c2572349",
   "metadata": {},
   "source": [
    "開発者は`Estimator`が各特徴量をどのように解釈すべきかを指定しなければならない。"
   ]
  },
  {
   "cell_type": "markdown",
   "id": "331f0c7a-6878-48da-9b85-6f5255d1db1a",
   "metadata": {},
   "source": [
    "Auto MPGは、自動車の燃費（MPG）を予測するための機械学習の一般的なベンチマークデータセットである。"
   ]
  },
  {
   "cell_type": "code",
   "execution_count": 1,
   "id": "bf05eb56-6c5b-47e6-a823-619c27932c15",
   "metadata": {},
   "outputs": [
    {
     "name": "stderr",
     "output_type": "stream",
     "text": [
      "2024-12-30 00:53:43.834804: I tensorflow/core/platform/cpu_feature_guard.cc:210] This TensorFlow binary is optimized to use available CPU instructions in performance-critical operations.\n",
      "To enable the following instructions: SSE4.1 SSE4.2 AVX AVX2 AVX512F FMA, in other operations, rebuild TensorFlow with the appropriate compiler flags.\n"
     ]
    }
   ],
   "source": [
    "import tensorflow as tf\n",
    "import pandas as pd"
   ]
  },
  {
   "cell_type": "code",
   "execution_count": 66,
   "id": "7e82484a-fbdc-4512-9452-1504c0c87463",
   "metadata": {},
   "outputs": [],
   "source": [
    "dataset_path = tf.keras.utils.get_file(\n",
    "    \"auto-mpg.data\",\n",
    "    \"https://archive.ics.uci.edu/ml/machine-learning-databases/auto-mpg/auto-mpg.data\")"
   ]
  },
  {
   "cell_type": "code",
   "execution_count": 67,
   "id": "292dc9b7-e719-41e3-a204-21e82c55419b",
   "metadata": {},
   "outputs": [],
   "source": [
    "column_names = [\"MPG\", \"Cylinders\", \"Displacement\", \"Horsepower\", \"Weight\", \"Acceleration\", \"ModelYear\", \"Origin\"]\n",
    "df = pd.read_csv(dataset_path, names=column_names, na_values=\"?\", comment=\"\\t\", sep=\" \",skipinitialspace=True)"
   ]
  },
  {
   "cell_type": "markdown",
   "id": "78c78030-46e8-4519-b3d2-12567367b341",
   "metadata": {},
   "source": [
    "次に、必要な前処理（データセットを訓練サブセットとテストサブセットに分割する、連続値の特徴量を標準化するなど）を適用する。"
   ]
  },
  {
   "cell_type": "code",
   "execution_count": 68,
   "id": "81b4d7ba-b500-4cc2-bd04-0285a4a93041",
   "metadata": {},
   "outputs": [],
   "source": [
    "## NA行を削除\n",
    "df = df.dropna()\n",
    "df = df.reset_index(drop=True)"
   ]
  },
  {
   "cell_type": "code",
   "execution_count": 69,
   "id": "28f35bfe-c570-47f2-8858-e16e8fc08ba6",
   "metadata": {},
   "outputs": [],
   "source": [
    "## 訓練データセットとテストデータセットに分割\n",
    "import sklearn\n",
    "import sklearn.model_selection\n",
    "df_train, df_test = sklearn.model_selection.train_test_split(df, train_size=0.8)\n",
    "train_stats = df_train.describe().transpose()\n",
    "numeric_column_names = [\"Cylinders\", \"Displacement\", \"Horsepower\", \"Weight\", \"Acceleration\"]"
   ]
  },
  {
   "cell_type": "code",
   "execution_count": 70,
   "id": "c2ab406a-19c1-4135-8430-0eeb6810ca03",
   "metadata": {},
   "outputs": [],
   "source": [
    "y_train = df_train.pop(\"MPG\")\n",
    "y_test = df_test.pop(\"MPG\")\n",
    "x_train = df_train\n",
    "x_test = df_test"
   ]
  },
  {
   "cell_type": "markdown",
   "id": "72594aa4-4421-4812-bd19-a5da1c190d36",
   "metadata": {},
   "source": [
    "`tf.feature_column`モジュールの`numeric_column`関数を使って、連続値の特徴量をTensorFlow Estimatorが操作できる特徴量列データ構造に変換する"
   ]
  },
  {
   "cell_type": "markdown",
   "id": "d7d7e0c3-15fc-4fe9-861b-9796e1917c24",
   "metadata": {},
   "source": [
    "KerasのFunction APIが使えないか検討する"
   ]
  },
  {
   "cell_type": "markdown",
   "id": "201d4537-f5af-42bc-80fa-f00d4d0262c2",
   "metadata": {},
   "source": [
    "### 14.6.2 既存のEstimatorを使った機械学習"
   ]
  },
  {
   "cell_type": "markdown",
   "id": "1c6c9c9c-e964-4bf4-bf65-e826786c424a",
   "metadata": {},
   "source": [
    "訓練データに対する入力関数を次のように定義する。"
   ]
  },
  {
   "cell_type": "markdown",
   "id": "d65d1140-6e04-48f8-bccf-c0ce46ff2b47",
   "metadata": {},
   "source": [
    "特徴量列を定義する必要がある。すべての特徴量列を含んだ1つのリストにする。"
   ]
  },
  {
   "cell_type": "markdown",
   "id": "522de9ab-9b48-4c3d-b8e3-fde74f5e2c65",
   "metadata": {},
   "source": [
    "tf.estimatorは使えなくなった。<br>\n",
    "https://blog.tensorflow.org/2024/03/whats-new-in-tensorflow-216.html"
   ]
  },
  {
   "cell_type": "code",
   "execution_count": 71,
   "id": "3b3b5a73-9e62-43f9-ab4c-59ff45e7e80d",
   "metadata": {},
   "outputs": [],
   "source": [
    "tf.random.set_seed(1)"
   ]
  },
  {
   "cell_type": "code",
   "execution_count": 72,
   "id": "d6550e63-b7ec-46d0-8f64-f78207945375",
   "metadata": {},
   "outputs": [],
   "source": [
    "inputs = {}\n",
    "for name, column in x_train.items():\n",
    "    if x_train[name].dtype == \"float64\":\n",
    "        inputs[name] = tf.keras.Input(\n",
    "            shape=(1,), name=name, dtype=\"float32\",\n",
    "            )\n",
    "    else:\n",
    "        inputs[name] = tf.keras.Input(\n",
    "            shape=(1,), name=name, dtype=x_train[name].dtype,\n",
    "            )"
   ]
  },
  {
   "cell_type": "code",
   "execution_count": 73,
   "id": "0c5b8477-8ec9-46a6-b80e-e47c9410b4be",
   "metadata": {},
   "outputs": [
    {
     "data": {
      "text/plain": [
       "{'Cylinders': <KerasTensor shape=(None, 1), dtype=int64, sparse=False, name=Cylinders>,\n",
       " 'Displacement': <KerasTensor shape=(None, 1), dtype=float32, sparse=False, name=Displacement>,\n",
       " 'Horsepower': <KerasTensor shape=(None, 1), dtype=float32, sparse=False, name=Horsepower>,\n",
       " 'Weight': <KerasTensor shape=(None, 1), dtype=float32, sparse=False, name=Weight>,\n",
       " 'Acceleration': <KerasTensor shape=(None, 1), dtype=float32, sparse=False, name=Acceleration>,\n",
       " 'ModelYear': <KerasTensor shape=(None, 1), dtype=int64, sparse=False, name=ModelYear>,\n",
       " 'Origin': <KerasTensor shape=(None, 1), dtype=int64, sparse=False, name=Origin>}"
      ]
     },
     "execution_count": 73,
     "metadata": {},
     "output_type": "execute_result"
    }
   ],
   "source": [
    "inputs"
   ]
  },
  {
   "cell_type": "code",
   "execution_count": 74,
   "id": "8d9f450a-5a08-4cbb-9640-8075e6290020",
   "metadata": {},
   "outputs": [],
   "source": [
    "def stack_dict(inputs, fun=tf.stack):\n",
    "    values = []\n",
    "    for key in inputs:\n",
    "        values.append(tf.cast(inputs[key], tf.float32))\n",
    "\n",
    "    return fun(values, axis=1)"
   ]
  },
  {
   "cell_type": "code",
   "execution_count": 75,
   "id": "989f65a8-90ab-4258-948a-806627818768",
   "metadata": {},
   "outputs": [],
   "source": [
    "integer_lookup_layer = tf.keras.layers.IntegerLookup(output_mode='one_hot', vocabulary=[1, 2, 3])(inputs[\"Origin\"])\n",
    "discretization_layer = tf.keras.layers.Discretization(bin_boundaries=[73, 76, 79])(inputs[\"ModelYear\"])"
   ]
  },
  {
   "cell_type": "code",
   "execution_count": 76,
   "id": "6962e148-53ff-484f-9269-299e3dbaca54",
   "metadata": {},
   "outputs": [],
   "source": [
    "numeric_inputs = tf.keras.layers.Concatenate(axis=-1)([inputs[name] for name in numeric_column_names])"
   ]
  },
  {
   "cell_type": "code",
   "execution_count": 77,
   "id": "be69ce0f-0cea-4b1f-96b9-54a1fcb425f8",
   "metadata": {},
   "outputs": [],
   "source": [
    "normalized_layer = tf.keras.layers.Normalization(axis=-1)(numeric_inputs)"
   ]
  },
  {
   "cell_type": "code",
   "execution_count": 78,
   "id": "9d8fec30-3673-4565-99b7-7dfc826ef3b6",
   "metadata": {},
   "outputs": [
    {
     "data": {
      "text/plain": [
       "<KerasTensor shape=(None, 4), dtype=float32, sparse=False, name=keras_tensor_22>"
      ]
     },
     "execution_count": 78,
     "metadata": {},
     "output_type": "execute_result"
    }
   ],
   "source": [
    "integer_lookup_layer"
   ]
  },
  {
   "cell_type": "code",
   "execution_count": 79,
   "id": "b61fc977-6fe9-435f-9017-27bc8a92eaca",
   "metadata": {},
   "outputs": [
    {
     "data": {
      "text/plain": [
       "<KerasTensor shape=(None, 1), dtype=int64, sparse=False, name=keras_tensor_23>"
      ]
     },
     "execution_count": 79,
     "metadata": {},
     "output_type": "execute_result"
    }
   ],
   "source": [
    "discretization_layer"
   ]
  },
  {
   "cell_type": "code",
   "execution_count": 80,
   "id": "515084ad-11a2-4059-b4e9-309da9f10ec6",
   "metadata": {},
   "outputs": [
    {
     "data": {
      "text/plain": [
       "<KerasTensor shape=(None, 5), dtype=float32, sparse=False, name=keras_tensor_25>"
      ]
     },
     "execution_count": 80,
     "metadata": {},
     "output_type": "execute_result"
    }
   ],
   "source": [
    "normalized_layer"
   ]
  },
  {
   "cell_type": "code",
   "execution_count": 81,
   "id": "93dda400-a6fb-46b6-9644-6c250060ebe4",
   "metadata": {},
   "outputs": [],
   "source": [
    "preprocesssed_result = tf.keras.layers.Concatenate(axis=-1)([integer_lookup_layer, discretization_layer, normalized_layer])"
   ]
  },
  {
   "cell_type": "code",
   "execution_count": 82,
   "id": "f9a5ff4a-8c99-4bc6-b1c2-4f794038b34c",
   "metadata": {},
   "outputs": [],
   "source": [
    "preprocessing_model = tf.keras.Model(inputs, preprocesssed_result)"
   ]
  },
  {
   "cell_type": "code",
   "execution_count": 83,
   "id": "b4bf835c-f7d7-4091-8a11-98f974e6a9c7",
   "metadata": {},
   "outputs": [
    {
     "data": {
      "text/plain": [
       "<tf.Tensor: shape=(1, 10), dtype=float32, numpy=\n",
       "array([[0.000e+00, 1.000e+00, 0.000e+00, 0.000e+00, 2.000e+00, 6.000e+00,\n",
       "        2.310e+02, 1.050e+02, 3.535e+03, 1.920e+01]], dtype=float32)>"
      ]
     },
     "execution_count": 83,
     "metadata": {},
     "output_type": "execute_result"
    }
   ],
   "source": [
    "preprocessing_model(dict(df_train.iloc[:1]))"
   ]
  },
  {
   "cell_type": "code",
   "execution_count": 84,
   "id": "7a9483a2-8d2a-4492-8e9d-3575361f226c",
   "metadata": {},
   "outputs": [],
   "source": [
    "h1 = tf.keras.layers.Dense(units=32, activation='relu')(preprocesssed_result)\n",
    "h2 = tf.keras.layers.Dense(units=10, activation='relu')(h1)\n",
    "outputs = tf.keras.layers.Dense(1)(h2)"
   ]
  },
  {
   "cell_type": "code",
   "execution_count": 85,
   "id": "a65c14a1-e904-4936-a813-fd9d1fb716ce",
   "metadata": {},
   "outputs": [],
   "source": [
    "main_model = tf.keras.Model(inputs, outputs)"
   ]
  },
  {
   "cell_type": "code",
   "execution_count": 86,
   "id": "40c2946b-b1af-4dd4-bcd0-15fba84e88bd",
   "metadata": {},
   "outputs": [
    {
     "data": {
      "text/html": [
       "<pre style=\"white-space:pre;overflow-x:auto;line-height:normal;font-family:Menlo,'DejaVu Sans Mono',consolas,'Courier New',monospace\"><span style=\"font-weight: bold\">Model: \"functional_6\"</span>\n",
       "</pre>\n"
      ],
      "text/plain": [
       "\u001b[1mModel: \"functional_6\"\u001b[0m\n"
      ]
     },
     "metadata": {},
     "output_type": "display_data"
    },
    {
     "data": {
      "text/html": [
       "<pre style=\"white-space:pre;overflow-x:auto;line-height:normal;font-family:Menlo,'DejaVu Sans Mono',consolas,'Courier New',monospace\">┏━━━━━━━━━━━━━━━━━━━━━┳━━━━━━━━━━━━━━━━━━━┳━━━━━━━━━━━━┳━━━━━━━━━━━━━━━━━━━┓\n",
       "┃<span style=\"font-weight: bold\"> Layer (type)        </span>┃<span style=\"font-weight: bold\"> Output Shape      </span>┃<span style=\"font-weight: bold\">    Param # </span>┃<span style=\"font-weight: bold\"> Connected to      </span>┃\n",
       "┡━━━━━━━━━━━━━━━━━━━━━╇━━━━━━━━━━━━━━━━━━━╇━━━━━━━━━━━━╇━━━━━━━━━━━━━━━━━━━┩\n",
       "│ Cylinders           │ (<span style=\"color: #00d7ff; text-decoration-color: #00d7ff\">None</span>, <span style=\"color: #00af00; text-decoration-color: #00af00\">1</span>)         │          <span style=\"color: #00af00; text-decoration-color: #00af00\">0</span> │ -                 │\n",
       "│ (<span style=\"color: #0087ff; text-decoration-color: #0087ff\">InputLayer</span>)        │                   │            │                   │\n",
       "├─────────────────────┼───────────────────┼────────────┼───────────────────┤\n",
       "│ Displacement        │ (<span style=\"color: #00d7ff; text-decoration-color: #00d7ff\">None</span>, <span style=\"color: #00af00; text-decoration-color: #00af00\">1</span>)         │          <span style=\"color: #00af00; text-decoration-color: #00af00\">0</span> │ -                 │\n",
       "│ (<span style=\"color: #0087ff; text-decoration-color: #0087ff\">InputLayer</span>)        │                   │            │                   │\n",
       "├─────────────────────┼───────────────────┼────────────┼───────────────────┤\n",
       "│ Horsepower          │ (<span style=\"color: #00d7ff; text-decoration-color: #00d7ff\">None</span>, <span style=\"color: #00af00; text-decoration-color: #00af00\">1</span>)         │          <span style=\"color: #00af00; text-decoration-color: #00af00\">0</span> │ -                 │\n",
       "│ (<span style=\"color: #0087ff; text-decoration-color: #0087ff\">InputLayer</span>)        │                   │            │                   │\n",
       "├─────────────────────┼───────────────────┼────────────┼───────────────────┤\n",
       "│ Weight (<span style=\"color: #0087ff; text-decoration-color: #0087ff\">InputLayer</span>) │ (<span style=\"color: #00d7ff; text-decoration-color: #00d7ff\">None</span>, <span style=\"color: #00af00; text-decoration-color: #00af00\">1</span>)         │          <span style=\"color: #00af00; text-decoration-color: #00af00\">0</span> │ -                 │\n",
       "├─────────────────────┼───────────────────┼────────────┼───────────────────┤\n",
       "│ Acceleration        │ (<span style=\"color: #00d7ff; text-decoration-color: #00d7ff\">None</span>, <span style=\"color: #00af00; text-decoration-color: #00af00\">1</span>)         │          <span style=\"color: #00af00; text-decoration-color: #00af00\">0</span> │ -                 │\n",
       "│ (<span style=\"color: #0087ff; text-decoration-color: #0087ff\">InputLayer</span>)        │                   │            │                   │\n",
       "├─────────────────────┼───────────────────┼────────────┼───────────────────┤\n",
       "│ Origin (<span style=\"color: #0087ff; text-decoration-color: #0087ff\">InputLayer</span>) │ (<span style=\"color: #00d7ff; text-decoration-color: #00d7ff\">None</span>, <span style=\"color: #00af00; text-decoration-color: #00af00\">1</span>)         │          <span style=\"color: #00af00; text-decoration-color: #00af00\">0</span> │ -                 │\n",
       "├─────────────────────┼───────────────────┼────────────┼───────────────────┤\n",
       "│ ModelYear           │ (<span style=\"color: #00d7ff; text-decoration-color: #00d7ff\">None</span>, <span style=\"color: #00af00; text-decoration-color: #00af00\">1</span>)         │          <span style=\"color: #00af00; text-decoration-color: #00af00\">0</span> │ -                 │\n",
       "│ (<span style=\"color: #0087ff; text-decoration-color: #0087ff\">InputLayer</span>)        │                   │            │                   │\n",
       "├─────────────────────┼───────────────────┼────────────┼───────────────────┤\n",
       "│ concatenate_8       │ (<span style=\"color: #00d7ff; text-decoration-color: #00d7ff\">None</span>, <span style=\"color: #00af00; text-decoration-color: #00af00\">5</span>)         │          <span style=\"color: #00af00; text-decoration-color: #00af00\">0</span> │ Cylinders[<span style=\"color: #00af00; text-decoration-color: #00af00\">0</span>][<span style=\"color: #00af00; text-decoration-color: #00af00\">0</span>],  │\n",
       "│ (<span style=\"color: #0087ff; text-decoration-color: #0087ff\">Concatenate</span>)       │                   │            │ Displacement[<span style=\"color: #00af00; text-decoration-color: #00af00\">0</span>][<span style=\"color: #00af00; text-decoration-color: #00af00\">…</span> │\n",
       "│                     │                   │            │ Horsepower[<span style=\"color: #00af00; text-decoration-color: #00af00\">0</span>][<span style=\"color: #00af00; text-decoration-color: #00af00\">0</span>], │\n",
       "│                     │                   │            │ Weight[<span style=\"color: #00af00; text-decoration-color: #00af00\">0</span>][<span style=\"color: #00af00; text-decoration-color: #00af00\">0</span>],     │\n",
       "│                     │                   │            │ Acceleration[<span style=\"color: #00af00; text-decoration-color: #00af00\">0</span>][<span style=\"color: #00af00; text-decoration-color: #00af00\">…</span> │\n",
       "├─────────────────────┼───────────────────┼────────────┼───────────────────┤\n",
       "│ integer_lookup_3    │ (<span style=\"color: #00d7ff; text-decoration-color: #00d7ff\">None</span>, <span style=\"color: #00af00; text-decoration-color: #00af00\">4</span>)         │          <span style=\"color: #00af00; text-decoration-color: #00af00\">0</span> │ Origin[<span style=\"color: #00af00; text-decoration-color: #00af00\">0</span>][<span style=\"color: #00af00; text-decoration-color: #00af00\">0</span>]      │\n",
       "│ (<span style=\"color: #0087ff; text-decoration-color: #0087ff\">IntegerLookup</span>)     │                   │            │                   │\n",
       "├─────────────────────┼───────────────────┼────────────┼───────────────────┤\n",
       "│ discretization_3    │ (<span style=\"color: #00d7ff; text-decoration-color: #00d7ff\">None</span>, <span style=\"color: #00af00; text-decoration-color: #00af00\">1</span>)         │          <span style=\"color: #00af00; text-decoration-color: #00af00\">0</span> │ ModelYear[<span style=\"color: #00af00; text-decoration-color: #00af00\">0</span>][<span style=\"color: #00af00; text-decoration-color: #00af00\">0</span>]   │\n",
       "│ (<span style=\"color: #0087ff; text-decoration-color: #0087ff\">Discretization</span>)    │                   │            │                   │\n",
       "├─────────────────────┼───────────────────┼────────────┼───────────────────┤\n",
       "│ normalization_3     │ (<span style=\"color: #00d7ff; text-decoration-color: #00d7ff\">None</span>, <span style=\"color: #00af00; text-decoration-color: #00af00\">5</span>)         │         <span style=\"color: #00af00; text-decoration-color: #00af00\">11</span> │ concatenate_8[<span style=\"color: #00af00; text-decoration-color: #00af00\">0</span>]… │\n",
       "│ (<span style=\"color: #0087ff; text-decoration-color: #0087ff\">Normalization</span>)     │                   │            │                   │\n",
       "├─────────────────────┼───────────────────┼────────────┼───────────────────┤\n",
       "│ concatenate_9       │ (<span style=\"color: #00d7ff; text-decoration-color: #00d7ff\">None</span>, <span style=\"color: #00af00; text-decoration-color: #00af00\">10</span>)        │          <span style=\"color: #00af00; text-decoration-color: #00af00\">0</span> │ integer_lookup_3… │\n",
       "│ (<span style=\"color: #0087ff; text-decoration-color: #0087ff\">Concatenate</span>)       │                   │            │ discretization_3… │\n",
       "│                     │                   │            │ normalization_3[<span style=\"color: #00af00; text-decoration-color: #00af00\">…</span> │\n",
       "├─────────────────────┼───────────────────┼────────────┼───────────────────┤\n",
       "│ dense_6 (<span style=\"color: #0087ff; text-decoration-color: #0087ff\">Dense</span>)     │ (<span style=\"color: #00d7ff; text-decoration-color: #00d7ff\">None</span>, <span style=\"color: #00af00; text-decoration-color: #00af00\">32</span>)        │        <span style=\"color: #00af00; text-decoration-color: #00af00\">352</span> │ concatenate_9[<span style=\"color: #00af00; text-decoration-color: #00af00\">0</span>]… │\n",
       "├─────────────────────┼───────────────────┼────────────┼───────────────────┤\n",
       "│ dense_7 (<span style=\"color: #0087ff; text-decoration-color: #0087ff\">Dense</span>)     │ (<span style=\"color: #00d7ff; text-decoration-color: #00d7ff\">None</span>, <span style=\"color: #00af00; text-decoration-color: #00af00\">10</span>)        │        <span style=\"color: #00af00; text-decoration-color: #00af00\">330</span> │ dense_6[<span style=\"color: #00af00; text-decoration-color: #00af00\">0</span>][<span style=\"color: #00af00; text-decoration-color: #00af00\">0</span>]     │\n",
       "├─────────────────────┼───────────────────┼────────────┼───────────────────┤\n",
       "│ dense_8 (<span style=\"color: #0087ff; text-decoration-color: #0087ff\">Dense</span>)     │ (<span style=\"color: #00d7ff; text-decoration-color: #00d7ff\">None</span>, <span style=\"color: #00af00; text-decoration-color: #00af00\">1</span>)         │         <span style=\"color: #00af00; text-decoration-color: #00af00\">11</span> │ dense_7[<span style=\"color: #00af00; text-decoration-color: #00af00\">0</span>][<span style=\"color: #00af00; text-decoration-color: #00af00\">0</span>]     │\n",
       "└─────────────────────┴───────────────────┴────────────┴───────────────────┘\n",
       "</pre>\n"
      ],
      "text/plain": [
       "┏━━━━━━━━━━━━━━━━━━━━━┳━━━━━━━━━━━━━━━━━━━┳━━━━━━━━━━━━┳━━━━━━━━━━━━━━━━━━━┓\n",
       "┃\u001b[1m \u001b[0m\u001b[1mLayer (type)       \u001b[0m\u001b[1m \u001b[0m┃\u001b[1m \u001b[0m\u001b[1mOutput Shape     \u001b[0m\u001b[1m \u001b[0m┃\u001b[1m \u001b[0m\u001b[1m   Param #\u001b[0m\u001b[1m \u001b[0m┃\u001b[1m \u001b[0m\u001b[1mConnected to     \u001b[0m\u001b[1m \u001b[0m┃\n",
       "┡━━━━━━━━━━━━━━━━━━━━━╇━━━━━━━━━━━━━━━━━━━╇━━━━━━━━━━━━╇━━━━━━━━━━━━━━━━━━━┩\n",
       "│ Cylinders           │ (\u001b[38;5;45mNone\u001b[0m, \u001b[38;5;34m1\u001b[0m)         │          \u001b[38;5;34m0\u001b[0m │ -                 │\n",
       "│ (\u001b[38;5;33mInputLayer\u001b[0m)        │                   │            │                   │\n",
       "├─────────────────────┼───────────────────┼────────────┼───────────────────┤\n",
       "│ Displacement        │ (\u001b[38;5;45mNone\u001b[0m, \u001b[38;5;34m1\u001b[0m)         │          \u001b[38;5;34m0\u001b[0m │ -                 │\n",
       "│ (\u001b[38;5;33mInputLayer\u001b[0m)        │                   │            │                   │\n",
       "├─────────────────────┼───────────────────┼────────────┼───────────────────┤\n",
       "│ Horsepower          │ (\u001b[38;5;45mNone\u001b[0m, \u001b[38;5;34m1\u001b[0m)         │          \u001b[38;5;34m0\u001b[0m │ -                 │\n",
       "│ (\u001b[38;5;33mInputLayer\u001b[0m)        │                   │            │                   │\n",
       "├─────────────────────┼───────────────────┼────────────┼───────────────────┤\n",
       "│ Weight (\u001b[38;5;33mInputLayer\u001b[0m) │ (\u001b[38;5;45mNone\u001b[0m, \u001b[38;5;34m1\u001b[0m)         │          \u001b[38;5;34m0\u001b[0m │ -                 │\n",
       "├─────────────────────┼───────────────────┼────────────┼───────────────────┤\n",
       "│ Acceleration        │ (\u001b[38;5;45mNone\u001b[0m, \u001b[38;5;34m1\u001b[0m)         │          \u001b[38;5;34m0\u001b[0m │ -                 │\n",
       "│ (\u001b[38;5;33mInputLayer\u001b[0m)        │                   │            │                   │\n",
       "├─────────────────────┼───────────────────┼────────────┼───────────────────┤\n",
       "│ Origin (\u001b[38;5;33mInputLayer\u001b[0m) │ (\u001b[38;5;45mNone\u001b[0m, \u001b[38;5;34m1\u001b[0m)         │          \u001b[38;5;34m0\u001b[0m │ -                 │\n",
       "├─────────────────────┼───────────────────┼────────────┼───────────────────┤\n",
       "│ ModelYear           │ (\u001b[38;5;45mNone\u001b[0m, \u001b[38;5;34m1\u001b[0m)         │          \u001b[38;5;34m0\u001b[0m │ -                 │\n",
       "│ (\u001b[38;5;33mInputLayer\u001b[0m)        │                   │            │                   │\n",
       "├─────────────────────┼───────────────────┼────────────┼───────────────────┤\n",
       "│ concatenate_8       │ (\u001b[38;5;45mNone\u001b[0m, \u001b[38;5;34m5\u001b[0m)         │          \u001b[38;5;34m0\u001b[0m │ Cylinders[\u001b[38;5;34m0\u001b[0m][\u001b[38;5;34m0\u001b[0m],  │\n",
       "│ (\u001b[38;5;33mConcatenate\u001b[0m)       │                   │            │ Displacement[\u001b[38;5;34m0\u001b[0m][\u001b[38;5;34m…\u001b[0m │\n",
       "│                     │                   │            │ Horsepower[\u001b[38;5;34m0\u001b[0m][\u001b[38;5;34m0\u001b[0m], │\n",
       "│                     │                   │            │ Weight[\u001b[38;5;34m0\u001b[0m][\u001b[38;5;34m0\u001b[0m],     │\n",
       "│                     │                   │            │ Acceleration[\u001b[38;5;34m0\u001b[0m][\u001b[38;5;34m…\u001b[0m │\n",
       "├─────────────────────┼───────────────────┼────────────┼───────────────────┤\n",
       "│ integer_lookup_3    │ (\u001b[38;5;45mNone\u001b[0m, \u001b[38;5;34m4\u001b[0m)         │          \u001b[38;5;34m0\u001b[0m │ Origin[\u001b[38;5;34m0\u001b[0m][\u001b[38;5;34m0\u001b[0m]      │\n",
       "│ (\u001b[38;5;33mIntegerLookup\u001b[0m)     │                   │            │                   │\n",
       "├─────────────────────┼───────────────────┼────────────┼───────────────────┤\n",
       "│ discretization_3    │ (\u001b[38;5;45mNone\u001b[0m, \u001b[38;5;34m1\u001b[0m)         │          \u001b[38;5;34m0\u001b[0m │ ModelYear[\u001b[38;5;34m0\u001b[0m][\u001b[38;5;34m0\u001b[0m]   │\n",
       "│ (\u001b[38;5;33mDiscretization\u001b[0m)    │                   │            │                   │\n",
       "├─────────────────────┼───────────────────┼────────────┼───────────────────┤\n",
       "│ normalization_3     │ (\u001b[38;5;45mNone\u001b[0m, \u001b[38;5;34m5\u001b[0m)         │         \u001b[38;5;34m11\u001b[0m │ concatenate_8[\u001b[38;5;34m0\u001b[0m]… │\n",
       "│ (\u001b[38;5;33mNormalization\u001b[0m)     │                   │            │                   │\n",
       "├─────────────────────┼───────────────────┼────────────┼───────────────────┤\n",
       "│ concatenate_9       │ (\u001b[38;5;45mNone\u001b[0m, \u001b[38;5;34m10\u001b[0m)        │          \u001b[38;5;34m0\u001b[0m │ integer_lookup_3… │\n",
       "│ (\u001b[38;5;33mConcatenate\u001b[0m)       │                   │            │ discretization_3… │\n",
       "│                     │                   │            │ normalization_3[\u001b[38;5;34m…\u001b[0m │\n",
       "├─────────────────────┼───────────────────┼────────────┼───────────────────┤\n",
       "│ dense_6 (\u001b[38;5;33mDense\u001b[0m)     │ (\u001b[38;5;45mNone\u001b[0m, \u001b[38;5;34m32\u001b[0m)        │        \u001b[38;5;34m352\u001b[0m │ concatenate_9[\u001b[38;5;34m0\u001b[0m]… │\n",
       "├─────────────────────┼───────────────────┼────────────┼───────────────────┤\n",
       "│ dense_7 (\u001b[38;5;33mDense\u001b[0m)     │ (\u001b[38;5;45mNone\u001b[0m, \u001b[38;5;34m10\u001b[0m)        │        \u001b[38;5;34m330\u001b[0m │ dense_6[\u001b[38;5;34m0\u001b[0m][\u001b[38;5;34m0\u001b[0m]     │\n",
       "├─────────────────────┼───────────────────┼────────────┼───────────────────┤\n",
       "│ dense_8 (\u001b[38;5;33mDense\u001b[0m)     │ (\u001b[38;5;45mNone\u001b[0m, \u001b[38;5;34m1\u001b[0m)         │         \u001b[38;5;34m11\u001b[0m │ dense_7[\u001b[38;5;34m0\u001b[0m][\u001b[38;5;34m0\u001b[0m]     │\n",
       "└─────────────────────┴───────────────────┴────────────┴───────────────────┘\n"
      ]
     },
     "metadata": {},
     "output_type": "display_data"
    },
    {
     "data": {
      "text/html": [
       "<pre style=\"white-space:pre;overflow-x:auto;line-height:normal;font-family:Menlo,'DejaVu Sans Mono',consolas,'Courier New',monospace\"><span style=\"font-weight: bold\"> Total params: </span><span style=\"color: #00af00; text-decoration-color: #00af00\">704</span> (2.75 KB)\n",
       "</pre>\n"
      ],
      "text/plain": [
       "\u001b[1m Total params: \u001b[0m\u001b[38;5;34m704\u001b[0m (2.75 KB)\n"
      ]
     },
     "metadata": {},
     "output_type": "display_data"
    },
    {
     "data": {
      "text/html": [
       "<pre style=\"white-space:pre;overflow-x:auto;line-height:normal;font-family:Menlo,'DejaVu Sans Mono',consolas,'Courier New',monospace\"><span style=\"font-weight: bold\"> Trainable params: </span><span style=\"color: #00af00; text-decoration-color: #00af00\">693</span> (2.71 KB)\n",
       "</pre>\n"
      ],
      "text/plain": [
       "\u001b[1m Trainable params: \u001b[0m\u001b[38;5;34m693\u001b[0m (2.71 KB)\n"
      ]
     },
     "metadata": {},
     "output_type": "display_data"
    },
    {
     "data": {
      "text/html": [
       "<pre style=\"white-space:pre;overflow-x:auto;line-height:normal;font-family:Menlo,'DejaVu Sans Mono',consolas,'Courier New',monospace\"><span style=\"font-weight: bold\"> Non-trainable params: </span><span style=\"color: #00af00; text-decoration-color: #00af00\">11</span> (48.00 B)\n",
       "</pre>\n"
      ],
      "text/plain": [
       "\u001b[1m Non-trainable params: \u001b[0m\u001b[38;5;34m11\u001b[0m (48.00 B)\n"
      ]
     },
     "metadata": {},
     "output_type": "display_data"
    }
   ],
   "source": [
    "main_model.summary()"
   ]
  },
  {
   "cell_type": "code",
   "execution_count": 153,
   "id": "92614a21-57d3-42e1-a38a-e1517a22966a",
   "metadata": {},
   "outputs": [],
   "source": [
    "main_model.compile(optimizer=tf.keras.optimizers.Adagrad(learning_rate=0.01), loss=\"MeanSquaredError\")"
   ]
  },
  {
   "cell_type": "code",
   "execution_count": 154,
   "id": "c4c33b90-e6a3-42e4-82b9-7890501334d2",
   "metadata": {},
   "outputs": [],
   "source": [
    "history_fit = main_model.fit(dict(x_train), y_train, validation_data=(dict(x_test), y_test), epochs=1000, batch_size=8, verbose=0, shuffle=True)"
   ]
  },
  {
   "cell_type": "code",
   "execution_count": 155,
   "id": "75498989-1fc0-4a1e-b02c-d317b2434fdd",
   "metadata": {
    "scrolled": true
   },
   "outputs": [
    {
     "data": {
      "text/plain": [
       "dict_keys(['loss', 'val_loss'])"
      ]
     },
     "execution_count": 155,
     "metadata": {},
     "output_type": "execute_result"
    }
   ],
   "source": [
    "history_fit.history.keys()"
   ]
  },
  {
   "cell_type": "code",
   "execution_count": 156,
   "id": "f83b2f58-2bb9-40f8-a9a3-e14d60601f5d",
   "metadata": {},
   "outputs": [],
   "source": [
    "import matplotlib.pyplot as plt"
   ]
  },
  {
   "cell_type": "code",
   "execution_count": 157,
   "id": "671705af-3756-4cb1-a393-a40bb057719c",
   "metadata": {},
   "outputs": [
    {
     "data": {
      "image/png": "[encoded data removed]",
      "text/plain": [
       "<Figure size 1600x400 with 1 Axes>"
      ]
     },
     "metadata": {},
     "output_type": "display_data"
    }
   ],
   "source": [
    "history = history_fit.history\n",
    "fig = plt.figure(figsize=(16, 4))\n",
    "ax = fig.add_subplot(1, 2, 1)\n",
    "plt.plot(history[\"loss\"], lw=4)\n",
    "plt.plot(history[\"val_loss\"], lw=4)\n",
    "plt.legend([\"Train loss\", \"Validation loss\"], fontsize=15)\n",
    "plt.xlabel(\"Epochs\", size=15)\n",
    "plt.show()"
   ]
  },
  {
   "cell_type": "code",
   "execution_count": 158,
   "id": "4302906d-c16f-400d-9e7f-9bfe0080fb5f",
   "metadata": {},
   "outputs": [
    {
     "name": "stdout",
     "output_type": "stream",
     "text": [
      "\u001b[1m3/3\u001b[0m \u001b[32m━━━━━━━━━━━━━━━━━━━━\u001b[0m\u001b[37m\u001b[0m \u001b[1m0s\u001b[0m 52ms/step\n"
     ]
    }
   ],
   "source": [
    "y_pred = main_model.predict(dict(x_test))"
   ]
  },
  {
   "cell_type": "code",
   "execution_count": 160,
   "id": "dc33fbf3-3c62-4e70-a288-3e96f1b4d430",
   "metadata": {},
   "outputs": [
    {
     "data": {
      "text/plain": [
       "array([27.13253  , 26.65301  , 21.874588 , 25.731857 , 29.069233 ,\n",
       "       10.122887 , 30.931469 , 38.047043 , 25.986217 , 22.07027  ,\n",
       "       27.714573 , 15.948357 , 14.4268875, 15.942253 , 26.004108 ,\n",
       "       22.445492 , 28.16513  , 21.777214 , 33.73335  , 35.398907 ,\n",
       "       28.526875 , 32.6165   , 18.870522 , 24.690693 , 20.29359  ,\n",
       "       27.874847 , 25.043373 , 19.76105  , 25.625372 , 28.905819 ,\n",
       "       32.119915 , 31.424213 , 25.14838  , 20.870169 , 30.091175 ,\n",
       "        6.2622905, 31.08119  , 34.095028 , 11.076027 , 11.866001 ,\n",
       "       14.423645 , 16.186272 , 15.224192 , 28.666824 , 24.247818 ,\n",
       "       17.948582 , 29.570621 , 26.464859 , 27.332851 , 28.016521 ,\n",
       "       19.323563 , 28.561083 , 21.024754 , 21.811611 , 16.179924 ,\n",
       "       13.9025135, 16.044365 , 25.26752  , 26.02172  , 10.955933 ,\n",
       "       26.355484 , 22.94393  , 30.111992 , 32.73619  , 24.69532  ,\n",
       "       19.814625 , 23.381145 , 23.580477 , 32.564438 , 27.03312  ,\n",
       "       26.819006 , 26.003036 , 32.65031  , 22.152466 , 25.749104 ,\n",
       "       26.669628 ,  8.917641 , 30.815327 , 24.036976 ], dtype=float32)"
      ]
     },
     "execution_count": 160,
     "metadata": {},
     "output_type": "execute_result"
    }
   ],
   "source": [
    "y_pred.flatten()"
   ]
  },
  {
   "cell_type": "code",
   "execution_count": 161,
   "id": "15f162c4-1cd3-4566-ae51-a5eed4b66b4c",
   "metadata": {},
   "outputs": [
    {
     "data": {
      "image/png": "[encoded data removed]",
      "text/plain": [
       "<Figure size 640x480 with 1 Axes>"
      ]
     },
     "metadata": {},
     "output_type": "display_data"
    }
   ],
   "source": [
    "a = plt.axes(aspect='equal')\n",
    "plt.scatter(y_test, y_pred.flatten())\n",
    "plt.xlabel('True Values [MPG]')\n",
    "plt.ylabel('Predictions [MPG]')\n",
    "lims = [0, 50]\n",
    "plt.xlim(lims)\n",
    "plt.ylim(lims)\n",
    "_ = plt.plot(lims, lims)"
   ]
  },
  {
   "cell_type": "code",
   "execution_count": 162,
   "id": "14e9563b-7734-42e4-8888-d7cd9670f695",
   "metadata": {},
   "outputs": [
    {
     "data": {
      "image/png": "[encoded data removed]",
      "text/plain": [
       "<Figure size 640x480 with 1 Axes>"
      ]
     },
     "metadata": {},
     "output_type": "display_data"
    }
   ],
   "source": [
    "error = y_pred.flatten() - y_test\n",
    "plt.hist(error, bins=25)\n",
    "plt.xlabel('Prediction Error [MPG]')\n",
    "_ = plt.ylabel('Count')\n"
   ]
  },
  {
   "cell_type": "code",
   "execution_count": null,
   "id": "824fdadf-f155-4e49-a02f-1711623ae167",
   "metadata": {},
   "outputs": [],
   "source": []
  }
 ],
 "metadata": {
  "kernelspec": {
   "display_name": "Python 3 (ipykernel)",
   "language": "python",
   "name": "python3"
  },
  "language_info": {
   "codemirror_mode": {
    "name": "ipython",
    "version": 3
   },
   "file_extension": ".py",
   "mimetype": "text/x-python",
   "name": "python",
   "nbconvert_exporter": "python",
   "pygments_lexer": "ipython3",
   "version": "3.11.11"
  }
 },
 "nbformat": 4,
 "nbformat_minor": 5
}
