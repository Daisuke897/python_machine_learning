{
 "cells": [
  {
   "cell_type": "markdown",
   "id": "9f437f5a-1961-4a95-a16a-d687da82c97d",
   "metadata": {},
   "source": [
    "# 第17章 新しいデータの合成 ― 敵対的生成ネットワーク"
   ]
  },
  {
   "cell_type": "markdown",
   "id": "b607a1fd-8a53-4c9e-920a-52628df0f094",
   "metadata": {},
   "source": [
    "## 17.1 敵対的生成ネットワーク"
   ]
  },
  {
   "cell_type": "markdown",
   "id": "83aa0847-d4bd-4708-86a7-e65ba28a190c",
   "metadata": {},
   "source": [
    "## 17.2 敵対的生成ネットワークを一から実装する"
   ]
  },
  {
   "cell_type": "markdown",
   "id": "208fcbbc-df1c-4d2f-9c65-d70f9b30e6e8",
   "metadata": {},
   "source": [
    "### 17.2.2 生成器ネットワークと識別器ネットワークを実装する"
   ]
  },
  {
   "cell_type": "markdown",
   "id": "f7255658-7914-4156-8a2e-2fbbbf48b55d",
   "metadata": {},
   "source": [
    "生成器ネットワーク用と識別器ネットワーク用に2つのヘルパー関数を定義する。"
   ]
  },
  {
   "cell_type": "code",
   "execution_count": null,
   "id": "550677c3-a9ad-4691-b478-4c68b7027270",
   "metadata": {},
   "outputs": [],
   "source": [
    "import tensorflow_datasets as tfds\n",
    "import numpy as np\n",
    "\n",
    "## 生成器ネットワークの関数を定義\n",
    "def make_generator_network(num_hidden_layers=1, num_hidden_units=100,\n",
    "                          num_output_units=784):\n",
    "    model = tf.keras.Sequential()\n",
    "    for i in range(num_hidden_layers):\n",
    "        model.add(tf.keras.layers.Dense(units=num_hidden_units, use_bias=False))\n",
    "        model.add(tf.keras.layers.LeakyReLU())\n",
    "        model.add(tf.keras.layers.Dense(units=num_output_units, activation=\"tanh\"))\n",
    "        return model\n",
    "\n",
    "## 識別器ネットワークの関数を定義\n",
    "def make_disctiminator_network(num_hidden_layers=1, num_hidden_units=100,\n",
    "                              num_output_units=1):\n",
    "    model = tf.keras.Sequential()\n",
    "    for i in range(num_hidden_layers):\n",
    "        model.add(tf.keras.layers.Dense(units=num_hidden_units))\n",
    "        model.add(tf.keras.layers.LeakyReLU())\n",
    "        model.add(tf.keras.layers.Dropout(rate=0.5))\n",
    "\n",
    "    model.add(tf.keras.layers.Dense(units=num_outputs, activation=None)))\n",
    "    return model"
   ]
  },
  {
   "cell_type": "markdown",
   "id": "9c92e38f-cb7a-486e-82f8-c4f7a718ece1",
   "metadata": {},
   "source": [
    "次に、モデルを訓練するための設定を指定する。<br>\n",
    "MNISTデータセットの画像のサイズは28x28である。<br>\n",
    "さらに、入力ベクトル$z$のサイズを20に指定し、モデルの重みを初期化するために一様分布の乱数を使う。"
   ]
  },
  {
   "cell_type": "code",
   "execution_count": null,
   "id": "5f4132b6-a477-44da-b5b9-f19fd4ce1d85",
   "metadata": {},
   "outputs": [],
   "source": [
    "image_size = (28, 28)\n",
    "z_size = 20\n",
    "mode_z = \"uniform\"\n",
    "gen_hidden_layers = 1\n",
    "gen_hidden_size = 100\n",
    "disc_hidden_layers = 1\n",
    "disc_hidden_size = 100\n",
    "tf.random.set_seed(1)\n",
    "gen_model = make_generator_network(num_hidden_layers=gen_hidden_layers,\n",
    "                                  num_hidden_units=gen_hidden_size,\n",
    "                                  num_output_units=np.prod(image_size))\n",
    "gen_model.build(input_shape=(None, z_size))\n",
    "gen_model.summary()\n",
    "\n",
    "disc_model = make_disctiminator_network(num_hidden_layers=disc_hidden_layers,\n",
    "                                        num_hidden_units=disc_hidden_size)\n",
    "disc.model.build(input_shape=(None, np.prod(image_size)))\n",
    "disc.model.summary()"
   ]
  },
  {
   "cell_type": "code",
   "execution_count": null,
   "id": "b76a5741-c265-45fe-a253-57230820f6ac",
   "metadata": {},
   "outputs": [],
   "source": [
    "disc_model = make_discriminator_network(num_hidden_layers=disc_hidden_layers,\n",
    "                                       num_hidden_units=disc_hidden_size)\n",
    "disc_model.build(input_shape=(None, np.prod(image_size)))\n",
    "disc_model.summary()"
   ]
  },
  {
   "cell_type": "markdown",
   "id": "97b2433a-f5ae-49ff-8d2a-2e3cd893d2f6",
   "metadata": {},
   "source": [
    "### 17.2.3 訓練データセットを定義する"
   ]
  },
  {
   "cell_type": "code",
   "execution_count": null,
   "id": "dab8a241-4320-4139-ab93-e373364a74f2",
   "metadata": {},
   "outputs": [],
   "source": [
    "mnist_bldr = tfds.builder(\"mnist\")\n",
    "mnist_bldr.download_and_prepare()\n",
    "mnist = mnist_bldr.as_dataset(shuffle_files=False)\n",
    "\n",
    "def preprocess(ex, mode=\"uniform\"):\n",
    "    image = ex[\"image\"]\n",
    "    image = tf.image.convert_image_dtypr(image, tf.float32)\n",
    "    image = tf.reshape(image, [-1])\n",
    "    image = image*2 -1.0\n",
    "    if mode == \"uniform\":\n",
    "        input_z = tf.random.uniform(shape=(z_size,), minval=-1.0, maxval=1.0)\n",
    "    elif mode == \"normal\":\n",
    "        input_z = tf.random.normal(shape=(z_size,))\n",
    "    else:\n",
    "        return input_z, image\n",
    "\n",
    "mnist_trainset = mnist[\"train\"]\n",
    "mnist_trainset = mnist_trainset.map(preprocess)"
   ]
  },
  {
   "cell_type": "code",
   "execution_count": null,
   "id": "30f913f9-b111-47a3-960e-7da9d8f2ecb3",
   "metadata": {},
   "outputs": [],
   "source": [
    "mnist_trainset = mnist_trainset.batch(32, drop_remainder=True)\n",
    "input_z, input_real = next(iter(mnist_trainset)))\n",
    "print(\"input-z -- shape: \", input_z.shape)\n",
    "print(\"input-real -- shape: \", input_real.shape)"
   ]
  },
  {
   "cell_type": "code",
   "execution_count": null,
   "id": "5da15e88-83b2-4dfc-8143-f8db66227297",
   "metadata": {},
   "outputs": [],
   "source": [
    "g_output = gen_model(input_z)\n",
    "print(\"Output of G -- shape:\", g_output.shape)"
   ]
  },
  {
   "cell_type": "code",
   "execution_count": null,
   "id": "bc68d0b1-66fb-42df-9f09-f4b68f920e08",
   "metadata": {},
   "outputs": [],
   "source": [
    "d_logits_real = disc_model(input_real)\n",
    "d_logits_fake = disc_model(g_model)\n",
    "print(\"Disc. (real) -- shape:\", d_logits_real.shape)\n",
    "print(\"Disc. (fake) -- shape:\", d_logits_fake.shape)"
   ]
  },
  {
   "cell_type": "markdown",
   "id": "d77e7a18-267b-44e3-9fe4-b4f7c739197f",
   "metadata": {},
   "source": [
    "2つのロジット`d_logits_fake`と`d_logits_real`は、このモデルを訓練するための損失関数の計算に使われる"
   ]
  },
  {
   "cell_type": "markdown",
   "id": "cc095028-466f-4f8a-b520-7ba518e0e14f",
   "metadata": {},
   "source": [
    "### 17.2.4 GANモデルを訓練する"
   ]
  },
  {
   "cell_type": "markdown",
   "id": "3997e871-8487-4407-8a7b-c8b07fdfc3ca",
   "metadata": {},
   "source": [
    "次に、損失関数として`BinaryCrossentropy`クラスのインスタンスを作成し、前項で処理したバッチに関連する生成器ネットワークと識別器ネットワークの損失項を計算する"
   ]
  },
  {
   "cell_type": "code",
   "execution_count": null,
   "id": "f6f9641a-4745-4b03-b60a-ccf81ec96f34",
   "metadata": {},
   "outputs": [],
   "source": [
    "loss_fn = tf.keras.losses.BinaryCrossentropy(from_logits=True)\n",
    "## 生成器ネットワークの損失関数\n",
    "g_labels_real = tf.ones_like(d_logits_fake)\n",
    "g_loss = loss_fn(y_true=g_labels_real, y_pred=d_logits_fake)\n",
    "print(\"Generator Loss: {:.4f}\".format(g_loss))\n",
    "\n",
    "## 識別器ネットワークの損失関数\n",
    "d_labels_real = tf.ones_like(d_logits_real)\n",
    "d_labels_fake = tf.zeros_like(d_logits_fake)\n",
    "d_loss_real = loss_fn(y_true=d_labels_real, y_pred=d_logits_real)\n",
    "d_loss_fake = loss_fn(y_true=d_labels_fake, y_pred=d_logits_fake)\n",
    "print(\"Discriminator Losses: Real {:.4f} Fake {:.4f}\".format(d_loss_real.numpy(), d_loss_fake.numpy()))"
   ]
  },
  {
   "cell_type": "markdown",
   "id": "429ac9e5-0096-40f6-b82a-f33d907762f8",
   "metadata": {},
   "source": [
    "`tf.GradientTape`を使ってモデルの重みについて損失項の勾配を計算し、2つの独立したAdamオプティマイザを使って生成器ネットワークと識別器ネットワークを交互に訓練する。"
   ]
  },
  {
   "cell_type": "code",
   "execution_count": null,
   "id": "c911ec61-801b-40cb-9ee5-5a2691b7e401",
   "metadata": {},
   "outputs": [],
   "source": [
    "import time\n",
    "\n",
    "num_epochs = 100\n",
    "batch_size = 64\n",
    "image_size = (28, 28)\n",
    "z_size = 20\n",
    "mode_z = \"uniform\"\n",
    "gen_hidden_layers = 1\n",
    "gen_hidden_size = 100\n",
    "disc_hidden_layers = 1\n",
    "disc_hidden_size = 100\n",
    "\n",
    "tf.random.set_seed(1)\n",
    "np.random.seed(1)\n",
    "\n",
    "if mode_z == \"uniform\":\n",
    "    fixed_z = tf.random.uniform(shape=(batch_size, z_size), minval=-1, maxval=1)\n",
    "elif mode_z == \"normal\":\n",
    "    fixed_z = tf.random.uniform(shape=(batch_size, z_size))\n",
    "\n",
    "def create_samples(g_model, input_z):\n",
    "    g_output = g_model(input_z, training=False)\n",
    "    images = tf.reshape(g_output, (batch_size, *image_size))\n",
    "    return (images+1)/2.0\n",
    "\n",
    "## データセットの準備\n",
    "mnist_trainset = mnist[\"train\"]\n",
    "mnist_trainset = mnist_trainset.map(lambda ex: preprocess(ex, mode=mode_z))\n",
    "mnist_trainset = mnist_trainset.shuffle(10000)\n",
    "mnist_trainset = mnist_trainset.batch(batch_size, drop_remainder=True)\n",
    "\n",
    "## モデルの準備\n",
    "with tf.device(device_name):\n",
    "    gen_model = make_generator_network(num_hidden_layers=gen_hidden_layers,\n",
    "                                       num_hidden_units=gen_hidden_size,\n",
    "                                       num_output_units=np.prod(image_size))\n",
    "    gen_model.build(input_shape=(None, z_size))\n",
    "    disc_model = make_disctiminator_network(num_hidden_layers=disc_hidden_layers,\n",
    "                                            num_hidden_units=disc_hidden_size)\n",
    "    disc_model.build(input_shape=(None, np.prod(image_size)))"
   ]
  },
  {
   "cell_type": "code",
   "execution_count": null,
   "id": "3c8ea3b7-5a3a-4bcd-bfeb-2e2f5623916f",
   "metadata": {},
   "outputs": [],
   "source": []
  },
  {
   "cell_type": "code",
   "execution_count": null,
   "id": "c76304d8-ef9e-4f75-9444-e3289d4a2974",
   "metadata": {},
   "outputs": [],
   "source": []
  }
 ],
 "metadata": {
  "kernelspec": {
   "display_name": "Python 3 (ipykernel)",
   "language": "python",
   "name": "python3"
  },
  "language_info": {
   "codemirror_mode": {
    "name": "ipython",
    "version": 3
   },
   "file_extension": ".py",
   "mimetype": "text/x-python",
   "name": "python",
   "nbconvert_exporter": "python",
   "pygments_lexer": "ipython3",
   "version": "3.11.11"
  }
 },
 "nbformat": 4,
 "nbformat_minor": 5
}
